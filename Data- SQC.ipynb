{
 "cells": [
  {
   "cell_type": "code",
   "execution_count": null,
   "id": "d1eb6d79-c0d2-4eb8-ba40-efdc583473f3",
   "metadata": {},
   "outputs": [],
   "source": []
  },
  {
   "cell_type": "code",
   "execution_count": null,
   "id": "9f996419-2804-4177-9087-b727225f4936",
   "metadata": {},
   "outputs": [],
   "source": []
  },
  {
   "cell_type": "raw",
   "id": "15e6a876-9f60-4cd8-95b7-7ae5e43c3d58",
   "metadata": {},
   "source": [
    "import pandas as pd\n",
    "import numpy as np\n",
    "import matplotlib.pyplot as plt\n",
    "import seaborn as sns"
   ]
  },
  {
   "cell_type": "code",
   "execution_count": 15,
   "id": "22cc577f-519d-4390-adb6-df7d56770f14",
   "metadata": {},
   "outputs": [],
   "source": [
    "df = pd.read_excel(r'C:\\Users\\abrahamp\\OneDrive - Hewlett Packard Enterprise\\Documents\\Personal Stuff\\Class Notes\\Data Science Course\\Python for Data Science\\sqc data sets.xlsx', sheet_name = 'Sheet1')"
   ]
  },
  {
   "cell_type": "code",
   "execution_count": 16,
   "id": "fa302a29-b507-45d8-b633-d25ba264cd12",
   "metadata": {},
   "outputs": [
    {
     "data": {
      "text/plain": [
       "(52, 2)"
      ]
     },
     "execution_count": 16,
     "metadata": {},
     "output_type": "execute_result"
    }
   ],
   "source": [
    "df.shape"
   ]
  },
  {
   "cell_type": "code",
   "execution_count": 17,
   "id": "9bd1b704-3686-476c-9843-2afd19954d25",
   "metadata": {},
   "outputs": [
    {
     "data": {
      "text/html": [
       "<div>\n",
       "<style scoped>\n",
       "    .dataframe tbody tr th:only-of-type {\n",
       "        vertical-align: middle;\n",
       "    }\n",
       "\n",
       "    .dataframe tbody tr th {\n",
       "        vertical-align: top;\n",
       "    }\n",
       "\n",
       "    .dataframe thead th {\n",
       "        text-align: right;\n",
       "    }\n",
       "</style>\n",
       "<table border=\"1\" class=\"dataframe\">\n",
       "  <thead>\n",
       "    <tr style=\"text-align: right;\">\n",
       "      <th></th>\n",
       "      <th>Week</th>\n",
       "      <th>Shortage</th>\n",
       "    </tr>\n",
       "  </thead>\n",
       "  <tbody>\n",
       "    <tr>\n",
       "      <th>0</th>\n",
       "      <td>1</td>\n",
       "      <td>11.3</td>\n",
       "    </tr>\n",
       "    <tr>\n",
       "      <th>1</th>\n",
       "      <td>2</td>\n",
       "      <td>12.1</td>\n",
       "    </tr>\n",
       "  </tbody>\n",
       "</table>\n",
       "</div>"
      ],
      "text/plain": [
       "   Week  Shortage\n",
       "0     1      11.3\n",
       "1     2      12.1"
      ]
     },
     "execution_count": 17,
     "metadata": {},
     "output_type": "execute_result"
    }
   ],
   "source": [
    "df.head(2)"
   ]
  },
  {
   "cell_type": "code",
   "execution_count": 18,
   "id": "eb78fbe9-4326-40d7-8416-a38ad546c6c5",
   "metadata": {},
   "outputs": [
    {
     "data": {
      "text/html": [
       "<div>\n",
       "<style scoped>\n",
       "    .dataframe tbody tr th:only-of-type {\n",
       "        vertical-align: middle;\n",
       "    }\n",
       "\n",
       "    .dataframe tbody tr th {\n",
       "        vertical-align: top;\n",
       "    }\n",
       "\n",
       "    .dataframe thead th {\n",
       "        text-align: right;\n",
       "    }\n",
       "</style>\n",
       "<table border=\"1\" class=\"dataframe\">\n",
       "  <thead>\n",
       "    <tr style=\"text-align: right;\">\n",
       "      <th></th>\n",
       "      <th>Week</th>\n",
       "      <th>Shortage</th>\n",
       "    </tr>\n",
       "  </thead>\n",
       "  <tbody>\n",
       "    <tr>\n",
       "      <th>50</th>\n",
       "      <td>51</td>\n",
       "      <td>5.1</td>\n",
       "    </tr>\n",
       "    <tr>\n",
       "      <th>51</th>\n",
       "      <td>52</td>\n",
       "      <td>4.8</td>\n",
       "    </tr>\n",
       "  </tbody>\n",
       "</table>\n",
       "</div>"
      ],
      "text/plain": [
       "    Week  Shortage\n",
       "50    51       5.1\n",
       "51    52       4.8"
      ]
     },
     "execution_count": 18,
     "metadata": {},
     "output_type": "execute_result"
    }
   ],
   "source": [
    "df.tail(2)"
   ]
  },
  {
   "cell_type": "code",
   "execution_count": 19,
   "id": "9f54e495-0d0d-4658-93ae-2afab7aa6b61",
   "metadata": {},
   "outputs": [
    {
     "data": {
      "text/html": [
       "<div>\n",
       "<style scoped>\n",
       "    .dataframe tbody tr th:only-of-type {\n",
       "        vertical-align: middle;\n",
       "    }\n",
       "\n",
       "    .dataframe tbody tr th {\n",
       "        vertical-align: top;\n",
       "    }\n",
       "\n",
       "    .dataframe thead th {\n",
       "        text-align: right;\n",
       "    }\n",
       "</style>\n",
       "<table border=\"1\" class=\"dataframe\">\n",
       "  <thead>\n",
       "    <tr style=\"text-align: right;\">\n",
       "      <th></th>\n",
       "      <th>Week</th>\n",
       "      <th>Shortage</th>\n",
       "    </tr>\n",
       "  </thead>\n",
       "  <tbody>\n",
       "    <tr>\n",
       "      <th>18</th>\n",
       "      <td>19</td>\n",
       "      <td>10.9</td>\n",
       "    </tr>\n",
       "    <tr>\n",
       "      <th>3</th>\n",
       "      <td>4</td>\n",
       "      <td>12.8</td>\n",
       "    </tr>\n",
       "  </tbody>\n",
       "</table>\n",
       "</div>"
      ],
      "text/plain": [
       "    Week  Shortage\n",
       "18    19      10.9\n",
       "3      4      12.8"
      ]
     },
     "execution_count": 19,
     "metadata": {},
     "output_type": "execute_result"
    }
   ],
   "source": [
    "df.sample(2)"
   ]
  },
  {
   "cell_type": "code",
   "execution_count": 20,
   "id": "b560b051-658f-4c27-bb2c-b5077415ab69",
   "metadata": {},
   "outputs": [
    {
     "data": {
      "text/plain": [
       "Week          int64\n",
       "Shortage    float64\n",
       "dtype: object"
      ]
     },
     "execution_count": 20,
     "metadata": {},
     "output_type": "execute_result"
    }
   ],
   "source": [
    "df.dtypes"
   ]
  },
  {
   "cell_type": "code",
   "execution_count": 21,
   "id": "c5b7d5c8-0f54-42ea-b417-5b619cbf4a03",
   "metadata": {},
   "outputs": [
    {
     "name": "stdout",
     "output_type": "stream",
     "text": [
      "Week        0\n",
      "Shortage    0\n",
      "dtype: int64\n",
      "0\n"
     ]
    }
   ],
   "source": [
    "print(df.isna().sum())\n",
    "print(df.isnull().sum().sum())"
   ]
  },
  {
   "cell_type": "markdown",
   "id": "dd25cab7-8bdd-4ede-ae00-252d06e2385e",
   "metadata": {},
   "source": [
    "# CALCULATING MEAN, UCL & LCL"
   ]
  },
  {
   "cell_type": "code",
   "execution_count": 22,
   "id": "1be6556a-dec3-46d2-89f9-4a53293d60cf",
   "metadata": {},
   "outputs": [
    {
     "data": {
      "text/html": [
       "<div>\n",
       "<style scoped>\n",
       "    .dataframe tbody tr th:only-of-type {\n",
       "        vertical-align: middle;\n",
       "    }\n",
       "\n",
       "    .dataframe tbody tr th {\n",
       "        vertical-align: top;\n",
       "    }\n",
       "\n",
       "    .dataframe thead th {\n",
       "        text-align: right;\n",
       "    }\n",
       "</style>\n",
       "<table border=\"1\" class=\"dataframe\">\n",
       "  <thead>\n",
       "    <tr style=\"text-align: right;\">\n",
       "      <th></th>\n",
       "      <th>Week</th>\n",
       "      <th>Shortage</th>\n",
       "      <th>mean</th>\n",
       "    </tr>\n",
       "  </thead>\n",
       "  <tbody>\n",
       "    <tr>\n",
       "      <th>0</th>\n",
       "      <td>1</td>\n",
       "      <td>11.3</td>\n",
       "      <td>11.2</td>\n",
       "    </tr>\n",
       "    <tr>\n",
       "      <th>1</th>\n",
       "      <td>2</td>\n",
       "      <td>12.1</td>\n",
       "      <td>11.2</td>\n",
       "    </tr>\n",
       "  </tbody>\n",
       "</table>\n",
       "</div>"
      ],
      "text/plain": [
       "   Week  Shortage  mean\n",
       "0     1      11.3  11.2\n",
       "1     2      12.1  11.2"
      ]
     },
     "execution_count": 22,
     "metadata": {},
     "output_type": "execute_result"
    }
   ],
   "source": [
    "df['mean'] = df['Shortage'].mean()\n",
    "df.head(2)"
   ]
  },
  {
   "cell_type": "code",
   "execution_count": 23,
   "id": "0717b334-2bc2-4eee-be60-6f687dc9ec20",
   "metadata": {},
   "outputs": [
    {
     "data": {
      "text/plain": [
       "1.833885834751433"
      ]
     },
     "execution_count": 23,
     "metadata": {},
     "output_type": "execute_result"
    }
   ],
   "source": [
    "std = df['Shortage'].std()\n",
    "std"
   ]
  },
  {
   "cell_type": "code",
   "execution_count": 24,
   "id": "a0a8e46f-731f-4e3e-ba56-f3fd7f41ddfb",
   "metadata": {},
   "outputs": [
    {
     "data": {
      "text/html": [
       "<div>\n",
       "<style scoped>\n",
       "    .dataframe tbody tr th:only-of-type {\n",
       "        vertical-align: middle;\n",
       "    }\n",
       "\n",
       "    .dataframe tbody tr th {\n",
       "        vertical-align: top;\n",
       "    }\n",
       "\n",
       "    .dataframe thead th {\n",
       "        text-align: right;\n",
       "    }\n",
       "</style>\n",
       "<table border=\"1\" class=\"dataframe\">\n",
       "  <thead>\n",
       "    <tr style=\"text-align: right;\">\n",
       "      <th></th>\n",
       "      <th>Week</th>\n",
       "      <th>Shortage</th>\n",
       "      <th>mean</th>\n",
       "      <th>UCL</th>\n",
       "    </tr>\n",
       "  </thead>\n",
       "  <tbody>\n",
       "    <tr>\n",
       "      <th>0</th>\n",
       "      <td>1</td>\n",
       "      <td>11.3</td>\n",
       "      <td>11.2</td>\n",
       "      <td>16.701658</td>\n",
       "    </tr>\n",
       "    <tr>\n",
       "      <th>1</th>\n",
       "      <td>2</td>\n",
       "      <td>12.1</td>\n",
       "      <td>11.2</td>\n",
       "      <td>16.701658</td>\n",
       "    </tr>\n",
       "  </tbody>\n",
       "</table>\n",
       "</div>"
      ],
      "text/plain": [
       "   Week  Shortage  mean        UCL\n",
       "0     1      11.3  11.2  16.701658\n",
       "1     2      12.1  11.2  16.701658"
      ]
     },
     "execution_count": 24,
     "metadata": {},
     "output_type": "execute_result"
    }
   ],
   "source": [
    "df['UCL'] = df['mean'] + (3 * std)\n",
    "df.head(2)"
   ]
  },
  {
   "cell_type": "code",
   "execution_count": 25,
   "id": "63024c99-b3b5-4b5f-9222-ef39393b20bd",
   "metadata": {},
   "outputs": [
    {
     "data": {
      "text/html": [
       "<div>\n",
       "<style scoped>\n",
       "    .dataframe tbody tr th:only-of-type {\n",
       "        vertical-align: middle;\n",
       "    }\n",
       "\n",
       "    .dataframe tbody tr th {\n",
       "        vertical-align: top;\n",
       "    }\n",
       "\n",
       "    .dataframe thead th {\n",
       "        text-align: right;\n",
       "    }\n",
       "</style>\n",
       "<table border=\"1\" class=\"dataframe\">\n",
       "  <thead>\n",
       "    <tr style=\"text-align: right;\">\n",
       "      <th></th>\n",
       "      <th>Week</th>\n",
       "      <th>Shortage</th>\n",
       "      <th>mean</th>\n",
       "      <th>UCL</th>\n",
       "      <th>LCL</th>\n",
       "    </tr>\n",
       "  </thead>\n",
       "  <tbody>\n",
       "    <tr>\n",
       "      <th>0</th>\n",
       "      <td>1</td>\n",
       "      <td>11.3</td>\n",
       "      <td>11.2</td>\n",
       "      <td>16.701658</td>\n",
       "      <td>5.698342</td>\n",
       "    </tr>\n",
       "    <tr>\n",
       "      <th>1</th>\n",
       "      <td>2</td>\n",
       "      <td>12.1</td>\n",
       "      <td>11.2</td>\n",
       "      <td>16.701658</td>\n",
       "      <td>5.698342</td>\n",
       "    </tr>\n",
       "  </tbody>\n",
       "</table>\n",
       "</div>"
      ],
      "text/plain": [
       "   Week  Shortage  mean        UCL       LCL\n",
       "0     1      11.3  11.2  16.701658  5.698342\n",
       "1     2      12.1  11.2  16.701658  5.698342"
      ]
     },
     "execution_count": 25,
     "metadata": {},
     "output_type": "execute_result"
    }
   ],
   "source": [
    "df['LCL'] = df['mean'] - (3 * std)\n",
    "df.head(2)"
   ]
  },
  {
   "cell_type": "code",
   "execution_count": 27,
   "id": "3c47249b-9201-4b73-9408-d3345f122e25",
   "metadata": {},
   "outputs": [
    {
     "data": {
      "text/plain": [
       "<Axes: >"
      ]
     },
     "execution_count": 27,
     "metadata": {},
     "output_type": "execute_result"
    },
    {
     "data": {
      "image/png": "[encoded data removed]",
      "text/plain": [
       "<Figure size 640x480 with 1 Axes>"
      ]
     },
     "metadata": {},
     "output_type": "display_data"
    }
   ],
   "source": [
    "df[\"mean\"].plot()\n",
    "df[\"Shortage\"].plot(marker=\"o\")\n",
    "df[\"UCL\"].plot()\n",
    "df[\"LCL\"].plot()"
   ]
  },
  {
   "cell_type": "markdown",
   "id": "ef76e6af-5c8d-4ef2-9b8d-3d4fe59f1d22",
   "metadata": {},
   "source": [
    "# ECOMMERCE CASE STUDY - Non Purchases - what action can be taken ?"
   ]
  },
  {
   "cell_type": "code",
   "execution_count": 3,
   "id": "6f0cdda3-c0d7-4bd9-a497-ec31e17ad573",
   "metadata": {},
   "outputs": [
    {
     "data": {
      "text/plain": [
       "(52, 3)"
      ]
     },
     "execution_count": 3,
     "metadata": {},
     "output_type": "execute_result"
    }
   ],
   "source": [
    "df1 = pd.read_excel(r'C:\\Users\\abrahamp\\OneDrive - Hewlett Packard Enterprise\\Documents\\Personal Stuff\\Class Notes\\Data Science Course\\Python for Data Science\\sqc data sets.xlsx', sheet_name = 'Sheet2')\n",
    "df1.shape"
   ]
  },
  {
   "cell_type": "code",
   "execution_count": 4,
   "id": "bacbac5f-4ce5-4fdc-b29e-3ffdef3140a2",
   "metadata": {},
   "outputs": [
    {
     "data": {
      "text/html": [
       "<div>\n",
       "<style scoped>\n",
       "    .dataframe tbody tr th:only-of-type {\n",
       "        vertical-align: middle;\n",
       "    }\n",
       "\n",
       "    .dataframe tbody tr th {\n",
       "        vertical-align: top;\n",
       "    }\n",
       "\n",
       "    .dataframe thead th {\n",
       "        text-align: right;\n",
       "    }\n",
       "</style>\n",
       "<table border=\"1\" class=\"dataframe\">\n",
       "  <thead>\n",
       "    <tr style=\"text-align: right;\">\n",
       "      <th></th>\n",
       "      <th>Weeks</th>\n",
       "      <th>Non Purchase Logins (Max)</th>\n",
       "      <th>Non Purchase Logins (Min)</th>\n",
       "    </tr>\n",
       "  </thead>\n",
       "  <tbody>\n",
       "    <tr>\n",
       "      <th>0</th>\n",
       "      <td>1</td>\n",
       "      <td>36.2</td>\n",
       "      <td>29.90</td>\n",
       "    </tr>\n",
       "    <tr>\n",
       "      <th>1</th>\n",
       "      <td>2</td>\n",
       "      <td>21.3</td>\n",
       "      <td>15.60</td>\n",
       "    </tr>\n",
       "    <tr>\n",
       "      <th>2</th>\n",
       "      <td>3</td>\n",
       "      <td>21.6</td>\n",
       "      <td>16.80</td>\n",
       "    </tr>\n",
       "    <tr>\n",
       "      <th>3</th>\n",
       "      <td>4</td>\n",
       "      <td>21.6</td>\n",
       "      <td>15.21</td>\n",
       "    </tr>\n",
       "    <tr>\n",
       "      <th>4</th>\n",
       "      <td>5</td>\n",
       "      <td>28.9</td>\n",
       "      <td>22.60</td>\n",
       "    </tr>\n",
       "  </tbody>\n",
       "</table>\n",
       "</div>"
      ],
      "text/plain": [
       "   Weeks  Non Purchase Logins (Max)  Non Purchase Logins (Min)\n",
       "0      1                       36.2                      29.90\n",
       "1      2                       21.3                      15.60\n",
       "2      3                       21.6                      16.80\n",
       "3      4                       21.6                      15.21\n",
       "4      5                       28.9                      22.60"
      ]
     },
     "execution_count": 4,
     "metadata": {},
     "output_type": "execute_result"
    }
   ],
   "source": [
    "df1.head()"
   ]
  },
  {
   "cell_type": "code",
   "execution_count": 5,
   "id": "1e4ae570-6cb0-4d07-b558-d795e3ca6626",
   "metadata": {},
   "outputs": [
    {
     "data": {
      "text/html": [
       "<div>\n",
       "<style scoped>\n",
       "    .dataframe tbody tr th:only-of-type {\n",
       "        vertical-align: middle;\n",
       "    }\n",
       "\n",
       "    .dataframe tbody tr th {\n",
       "        vertical-align: top;\n",
       "    }\n",
       "\n",
       "    .dataframe thead th {\n",
       "        text-align: right;\n",
       "    }\n",
       "</style>\n",
       "<table border=\"1\" class=\"dataframe\">\n",
       "  <thead>\n",
       "    <tr style=\"text-align: right;\">\n",
       "      <th></th>\n",
       "      <th>Weeks</th>\n",
       "      <th>Non Purchase Logins (Max)</th>\n",
       "      <th>Non Purchase Logins (Min)</th>\n",
       "    </tr>\n",
       "  </thead>\n",
       "  <tbody>\n",
       "    <tr>\n",
       "      <th>47</th>\n",
       "      <td>48</td>\n",
       "      <td>66.0</td>\n",
       "      <td>59.61</td>\n",
       "    </tr>\n",
       "    <tr>\n",
       "      <th>48</th>\n",
       "      <td>49</td>\n",
       "      <td>51.0</td>\n",
       "      <td>44.70</td>\n",
       "    </tr>\n",
       "    <tr>\n",
       "      <th>49</th>\n",
       "      <td>50</td>\n",
       "      <td>53.6</td>\n",
       "      <td>47.90</td>\n",
       "    </tr>\n",
       "    <tr>\n",
       "      <th>50</th>\n",
       "      <td>51</td>\n",
       "      <td>64.2</td>\n",
       "      <td>59.40</td>\n",
       "    </tr>\n",
       "    <tr>\n",
       "      <th>51</th>\n",
       "      <td>52</td>\n",
       "      <td>73.2</td>\n",
       "      <td>66.81</td>\n",
       "    </tr>\n",
       "  </tbody>\n",
       "</table>\n",
       "</div>"
      ],
      "text/plain": [
       "    Weeks  Non Purchase Logins (Max)  Non Purchase Logins (Min)\n",
       "47     48                       66.0                      59.61\n",
       "48     49                       51.0                      44.70\n",
       "49     50                       53.6                      47.90\n",
       "50     51                       64.2                      59.40\n",
       "51     52                       73.2                      66.81"
      ]
     },
     "execution_count": 5,
     "metadata": {},
     "output_type": "execute_result"
    }
   ],
   "source": [
    "df1.tail()"
   ]
  },
  {
   "cell_type": "code",
   "execution_count": 6,
   "id": "0ba66b3e-9b8e-4595-9c4d-5da3958b9dd9",
   "metadata": {},
   "outputs": [
    {
     "data": {
      "text/html": [
       "<div>\n",
       "<style scoped>\n",
       "    .dataframe tbody tr th:only-of-type {\n",
       "        vertical-align: middle;\n",
       "    }\n",
       "\n",
       "    .dataframe tbody tr th {\n",
       "        vertical-align: top;\n",
       "    }\n",
       "\n",
       "    .dataframe thead th {\n",
       "        text-align: right;\n",
       "    }\n",
       "</style>\n",
       "<table border=\"1\" class=\"dataframe\">\n",
       "  <thead>\n",
       "    <tr style=\"text-align: right;\">\n",
       "      <th></th>\n",
       "      <th>Weeks</th>\n",
       "      <th>Non Purchase Logins (Max)</th>\n",
       "      <th>Non Purchase Logins (Min)</th>\n",
       "    </tr>\n",
       "  </thead>\n",
       "  <tbody>\n",
       "    <tr>\n",
       "      <th>7</th>\n",
       "      <td>8</td>\n",
       "      <td>31.8</td>\n",
       "      <td>25.41</td>\n",
       "    </tr>\n",
       "  </tbody>\n",
       "</table>\n",
       "</div>"
      ],
      "text/plain": [
       "   Weeks  Non Purchase Logins (Max)  Non Purchase Logins (Min)\n",
       "7      8                       31.8                      25.41"
      ]
     },
     "execution_count": 6,
     "metadata": {},
     "output_type": "execute_result"
    }
   ],
   "source": [
    "df1.sample()"
   ]
  },
  {
   "cell_type": "code",
   "execution_count": 7,
   "id": "c1869469-5c5b-464c-9584-6c5e67c46c90",
   "metadata": {},
   "outputs": [
    {
     "data": {
      "text/plain": [
       "Weeks                          int64\n",
       "Non Purchase Logins (Max)    float64\n",
       "Non Purchase Logins (Min)    float64\n",
       "dtype: object"
      ]
     },
     "execution_count": 7,
     "metadata": {},
     "output_type": "execute_result"
    }
   ],
   "source": [
    "df1.dtypes"
   ]
  },
  {
   "cell_type": "code",
   "execution_count": 9,
   "id": "b5dedc3a-affc-468b-93d5-cb9a2761907c",
   "metadata": {},
   "outputs": [
    {
     "name": "stdout",
     "output_type": "stream",
     "text": [
      "Weeks                        0\n",
      "Non Purchase Logins (Max)    0\n",
      "Non Purchase Logins (Min)    0\n",
      "dtype: int64\n",
      "0\n"
     ]
    }
   ],
   "source": [
    "print(df1.isna().sum())\n",
    "print(df1.isnull().sum().sum())"
   ]
  },
  {
   "cell_type": "code",
   "execution_count": 10,
   "id": "c9919498-0203-42a6-96c3-1803dadd10cc",
   "metadata": {},
   "outputs": [
    {
     "data": {
      "text/html": [
       "<div>\n",
       "<style scoped>\n",
       "    .dataframe tbody tr th:only-of-type {\n",
       "        vertical-align: middle;\n",
       "    }\n",
       "\n",
       "    .dataframe tbody tr th {\n",
       "        vertical-align: top;\n",
       "    }\n",
       "\n",
       "    .dataframe thead th {\n",
       "        text-align: right;\n",
       "    }\n",
       "</style>\n",
       "<table border=\"1\" class=\"dataframe\">\n",
       "  <thead>\n",
       "    <tr style=\"text-align: right;\">\n",
       "      <th></th>\n",
       "      <th>Weeks</th>\n",
       "      <th>Non Purchase Logins (Max)</th>\n",
       "      <th>Non Purchase Logins (Min)</th>\n",
       "      <th>meanmax</th>\n",
       "      <th>meanmin</th>\n",
       "    </tr>\n",
       "  </thead>\n",
       "  <tbody>\n",
       "    <tr>\n",
       "      <th>0</th>\n",
       "      <td>1</td>\n",
       "      <td>36.2</td>\n",
       "      <td>29.9</td>\n",
       "      <td>34.679231</td>\n",
       "      <td>28.881731</td>\n",
       "    </tr>\n",
       "    <tr>\n",
       "      <th>1</th>\n",
       "      <td>2</td>\n",
       "      <td>21.3</td>\n",
       "      <td>15.6</td>\n",
       "      <td>34.679231</td>\n",
       "      <td>28.881731</td>\n",
       "    </tr>\n",
       "  </tbody>\n",
       "</table>\n",
       "</div>"
      ],
      "text/plain": [
       "   Weeks  Non Purchase Logins (Max)  Non Purchase Logins (Min)    meanmax  \\\n",
       "0      1                       36.2                       29.9  34.679231   \n",
       "1      2                       21.3                       15.6  34.679231   \n",
       "\n",
       "     meanmin  \n",
       "0  28.881731  \n",
       "1  28.881731  "
      ]
     },
     "execution_count": 10,
     "metadata": {},
     "output_type": "execute_result"
    }
   ],
   "source": [
    "df1['meanmax'] = df1['Non Purchase Logins (Max)'].mean()\n",
    "df1['meanmin'] = df1['Non Purchase Logins (Min)'].mean()\n",
    "df1.head(2)"
   ]
  },
  {
   "cell_type": "code",
   "execution_count": 11,
   "id": "ab262892-3eff-4f14-b4d2-81dab8eae602",
   "metadata": {},
   "outputs": [
    {
     "data": {
      "text/plain": [
       "10.341107735663684"
      ]
     },
     "execution_count": 11,
     "metadata": {},
     "output_type": "execute_result"
    }
   ],
   "source": [
    "stdmax = df1['Non Purchase Logins (Max)'].std()\n",
    "stdmax"
   ]
  },
  {
   "cell_type": "code",
   "execution_count": 12,
   "id": "a64015a9-e663-4332-afa6-326665096334",
   "metadata": {},
   "outputs": [
    {
     "data": {
      "text/plain": [
       "10.316322821313053"
      ]
     },
     "execution_count": 12,
     "metadata": {},
     "output_type": "execute_result"
    }
   ],
   "source": [
    "stdmin = df1['Non Purchase Logins (Min)'].std()\n",
    "stdmin"
   ]
  },
  {
   "cell_type": "code",
   "execution_count": 17,
   "id": "d668c758-2f68-41c1-877e-07ca7fcfe005",
   "metadata": {},
   "outputs": [
    {
     "data": {
      "text/html": [
       "<div>\n",
       "<style scoped>\n",
       "    .dataframe tbody tr th:only-of-type {\n",
       "        vertical-align: middle;\n",
       "    }\n",
       "\n",
       "    .dataframe tbody tr th {\n",
       "        vertical-align: top;\n",
       "    }\n",
       "\n",
       "    .dataframe thead th {\n",
       "        text-align: right;\n",
       "    }\n",
       "</style>\n",
       "<table border=\"1\" class=\"dataframe\">\n",
       "  <thead>\n",
       "    <tr style=\"text-align: right;\">\n",
       "      <th></th>\n",
       "      <th>Weeks</th>\n",
       "      <th>Non Purchase Logins (Max)</th>\n",
       "      <th>Non Purchase Logins (Min)</th>\n",
       "      <th>meanmax</th>\n",
       "      <th>meanmin</th>\n",
       "      <th>UCLmax</th>\n",
       "      <th>LCLmin</th>\n",
       "      <th>LCLmax</th>\n",
       "      <th>UCLmin</th>\n",
       "    </tr>\n",
       "  </thead>\n",
       "  <tbody>\n",
       "    <tr>\n",
       "      <th>0</th>\n",
       "      <td>1</td>\n",
       "      <td>36.2</td>\n",
       "      <td>29.9</td>\n",
       "      <td>34.679231</td>\n",
       "      <td>28.881731</td>\n",
       "      <td>65.702554</td>\n",
       "      <td>-2.067238</td>\n",
       "      <td>3.655908</td>\n",
       "      <td>59.830699</td>\n",
       "    </tr>\n",
       "    <tr>\n",
       "      <th>1</th>\n",
       "      <td>2</td>\n",
       "      <td>21.3</td>\n",
       "      <td>15.6</td>\n",
       "      <td>34.679231</td>\n",
       "      <td>28.881731</td>\n",
       "      <td>65.702554</td>\n",
       "      <td>-2.067238</td>\n",
       "      <td>3.655908</td>\n",
       "      <td>59.830699</td>\n",
       "    </tr>\n",
       "  </tbody>\n",
       "</table>\n",
       "</div>"
      ],
      "text/plain": [
       "   Weeks  Non Purchase Logins (Max)  Non Purchase Logins (Min)    meanmax  \\\n",
       "0      1                       36.2                       29.9  34.679231   \n",
       "1      2                       21.3                       15.6  34.679231   \n",
       "\n",
       "     meanmin     UCLmax    LCLmin    LCLmax     UCLmin  \n",
       "0  28.881731  65.702554 -2.067238  3.655908  59.830699  \n",
       "1  28.881731  65.702554 -2.067238  3.655908  59.830699  "
      ]
     },
     "execution_count": 17,
     "metadata": {},
     "output_type": "execute_result"
    }
   ],
   "source": [
    "df1['UCLmax'] = df1['meanmax'] + (3 * stdmax)\n",
    "df1['UCLmin'] = df1['meanmin'] + (3 * stdmin)\n",
    "df1['LCLmax'] = df1['meanmax'] - (3 * stdmax)\n",
    "df1['LCLmin'] = df1['meanmin'] - (3 * stdmin)\n",
    "df1.head(2)"
   ]
  },
  {
   "cell_type": "code",
   "execution_count": 18,
   "id": "5e3f48e2-7f58-4cd9-b860-87f134b7e6df",
   "metadata": {},
   "outputs": [
    {
     "data": {
      "text/plain": [
       "<Axes: >"
      ]
     },
     "execution_count": 18,
     "metadata": {},
     "output_type": "execute_result"
    },
    {
     "data": {
      "image/png": "[encoded data removed]",
      "text/plain": [
       "<Figure size 640x480 with 1 Axes>"
      ]
     },
     "metadata": {},
     "output_type": "display_data"
    }
   ],
   "source": [
    "df1[\"meanmax\"].plot()\n",
    "df1[\"Non Purchase Logins (Max)\"].plot(marker=\"o\")\n",
    "df1[\"UCLmax\"].plot()\n",
    "df1[\"LCLmax\"].plot()"
   ]
  },
  {
   "cell_type": "code",
   "execution_count": 19,
   "id": "988a2c79-c045-400f-a89d-1211e7c79be7",
   "metadata": {},
   "outputs": [
    {
     "data": {
      "text/plain": [
       "<Axes: >"
      ]
     },
     "execution_count": 19,
     "metadata": {},
     "output_type": "execute_result"
    },
    {
     "data": {
      "image/png": "[encoded data removed]",
      "text/plain": [
       "<Figure size 640x480 with 1 Axes>"
      ]
     },
     "metadata": {},
     "output_type": "display_data"
    }
   ],
   "source": [
    "df1[\"meanmin\"].plot()\n",
    "df1[\"Non Purchase Logins (Min)\"].plot(marker=\"o\")\n",
    "df1[\"UCLmin\"].plot()\n",
    "df1[\"LCLmin\"].plot()"
   ]
  },
  {
   "cell_type": "code",
   "execution_count": 21,
   "id": "8bdd7852-0d63-47a0-ac02-588a0aaeb591",
   "metadata": {},
   "outputs": [
    {
     "data": {
      "text/html": [
       "<div>\n",
       "<style scoped>\n",
       "    .dataframe tbody tr th:only-of-type {\n",
       "        vertical-align: middle;\n",
       "    }\n",
       "\n",
       "    .dataframe tbody tr th {\n",
       "        vertical-align: top;\n",
       "    }\n",
       "\n",
       "    .dataframe thead th {\n",
       "        text-align: right;\n",
       "    }\n",
       "</style>\n",
       "<table border=\"1\" class=\"dataframe\">\n",
       "  <thead>\n",
       "    <tr style=\"text-align: right;\">\n",
       "      <th></th>\n",
       "      <th>Weeks</th>\n",
       "      <th>Non Purchase Logins (Max)</th>\n",
       "      <th>Non Purchase Logins (Min)</th>\n",
       "      <th>meanmax</th>\n",
       "      <th>meanmin</th>\n",
       "      <th>UCLmax</th>\n",
       "      <th>LCLmin</th>\n",
       "      <th>LCLmax</th>\n",
       "      <th>UCLmin</th>\n",
       "      <th>Non Purchase Mean</th>\n",
       "    </tr>\n",
       "  </thead>\n",
       "  <tbody>\n",
       "    <tr>\n",
       "      <th>0</th>\n",
       "      <td>1</td>\n",
       "      <td>36.2</td>\n",
       "      <td>29.9</td>\n",
       "      <td>34.679231</td>\n",
       "      <td>28.881731</td>\n",
       "      <td>65.702554</td>\n",
       "      <td>-2.067238</td>\n",
       "      <td>3.655908</td>\n",
       "      <td>59.830699</td>\n",
       "      <td>33.05</td>\n",
       "    </tr>\n",
       "    <tr>\n",
       "      <th>1</th>\n",
       "      <td>2</td>\n",
       "      <td>21.3</td>\n",
       "      <td>15.6</td>\n",
       "      <td>34.679231</td>\n",
       "      <td>28.881731</td>\n",
       "      <td>65.702554</td>\n",
       "      <td>-2.067238</td>\n",
       "      <td>3.655908</td>\n",
       "      <td>59.830699</td>\n",
       "      <td>18.45</td>\n",
       "    </tr>\n",
       "  </tbody>\n",
       "</table>\n",
       "</div>"
      ],
      "text/plain": [
       "   Weeks  Non Purchase Logins (Max)  Non Purchase Logins (Min)    meanmax  \\\n",
       "0      1                       36.2                       29.9  34.679231   \n",
       "1      2                       21.3                       15.6  34.679231   \n",
       "\n",
       "     meanmin     UCLmax    LCLmin    LCLmax     UCLmin  Non Purchase Mean  \n",
       "0  28.881731  65.702554 -2.067238  3.655908  59.830699              33.05  \n",
       "1  28.881731  65.702554 -2.067238  3.655908  59.830699              18.45  "
      ]
     },
     "execution_count": 21,
     "metadata": {},
     "output_type": "execute_result"
    }
   ],
   "source": [
    "df1['Non Purchase Mean'] = (df1['Non Purchase Logins (Max)'] + df1['Non Purchase Logins (Min)']) / 2\n",
    "df1.head(2)"
   ]
  },
  {
   "cell_type": "code",
   "execution_count": 22,
   "id": "cfbb877c-aeff-42fe-80f8-bc014315c721",
   "metadata": {},
   "outputs": [],
   "source": [
    "df1['NPmean'] = df1['Non Purchase Mean'].mean()"
   ]
  },
  {
   "cell_type": "code",
   "execution_count": 23,
   "id": "f39ba930-4715-4f80-9b44-a5868ca656f7",
   "metadata": {},
   "outputs": [
    {
     "data": {
      "text/plain": [
       "10.323760821978919"
      ]
     },
     "execution_count": 23,
     "metadata": {},
     "output_type": "execute_result"
    }
   ],
   "source": [
    "stdmax = df1['Non Purchase Mean'].std()\n",
    "stdmax"
   ]
  },
  {
   "cell_type": "code",
   "execution_count": 25,
   "id": "97fb6a22-b9a0-48f3-a09f-f5a95a56cbfd",
   "metadata": {},
   "outputs": [
    {
     "data": {
      "text/html": [
       "<div>\n",
       "<style scoped>\n",
       "    .dataframe tbody tr th:only-of-type {\n",
       "        vertical-align: middle;\n",
       "    }\n",
       "\n",
       "    .dataframe tbody tr th {\n",
       "        vertical-align: top;\n",
       "    }\n",
       "\n",
       "    .dataframe thead th {\n",
       "        text-align: right;\n",
       "    }\n",
       "</style>\n",
       "<table border=\"1\" class=\"dataframe\">\n",
       "  <thead>\n",
       "    <tr style=\"text-align: right;\">\n",
       "      <th></th>\n",
       "      <th>Weeks</th>\n",
       "      <th>Non Purchase Logins (Max)</th>\n",
       "      <th>Non Purchase Logins (Min)</th>\n",
       "      <th>meanmax</th>\n",
       "      <th>meanmin</th>\n",
       "      <th>UCLmax</th>\n",
       "      <th>LCLmin</th>\n",
       "      <th>LCLmax</th>\n",
       "      <th>UCLmin</th>\n",
       "      <th>Non Purchase Mean</th>\n",
       "      <th>NPmean</th>\n",
       "      <th>UCLmean</th>\n",
       "      <th>LCLmean</th>\n",
       "    </tr>\n",
       "  </thead>\n",
       "  <tbody>\n",
       "    <tr>\n",
       "      <th>0</th>\n",
       "      <td>1</td>\n",
       "      <td>36.2</td>\n",
       "      <td>29.9</td>\n",
       "      <td>34.679231</td>\n",
       "      <td>28.881731</td>\n",
       "      <td>65.702554</td>\n",
       "      <td>-2.067238</td>\n",
       "      <td>3.655908</td>\n",
       "      <td>59.830699</td>\n",
       "      <td>33.05</td>\n",
       "      <td>31.780481</td>\n",
       "      <td>42.104242</td>\n",
       "      <td>21.45672</td>\n",
       "    </tr>\n",
       "    <tr>\n",
       "      <th>1</th>\n",
       "      <td>2</td>\n",
       "      <td>21.3</td>\n",
       "      <td>15.6</td>\n",
       "      <td>34.679231</td>\n",
       "      <td>28.881731</td>\n",
       "      <td>65.702554</td>\n",
       "      <td>-2.067238</td>\n",
       "      <td>3.655908</td>\n",
       "      <td>59.830699</td>\n",
       "      <td>18.45</td>\n",
       "      <td>31.780481</td>\n",
       "      <td>42.104242</td>\n",
       "      <td>21.45672</td>\n",
       "    </tr>\n",
       "  </tbody>\n",
       "</table>\n",
       "</div>"
      ],
      "text/plain": [
       "   Weeks  Non Purchase Logins (Max)  Non Purchase Logins (Min)    meanmax  \\\n",
       "0      1                       36.2                       29.9  34.679231   \n",
       "1      2                       21.3                       15.6  34.679231   \n",
       "\n",
       "     meanmin     UCLmax    LCLmin    LCLmax     UCLmin  Non Purchase Mean  \\\n",
       "0  28.881731  65.702554 -2.067238  3.655908  59.830699              33.05   \n",
       "1  28.881731  65.702554 -2.067238  3.655908  59.830699              18.45   \n",
       "\n",
       "      NPmean    UCLmean   LCLmean  \n",
       "0  31.780481  42.104242  21.45672  \n",
       "1  31.780481  42.104242  21.45672  "
      ]
     },
     "execution_count": 25,
     "metadata": {},
     "output_type": "execute_result"
    }
   ],
   "source": [
    "df1['UCLmean'] = df1['NPmean'] + (1 * stdmax)\n",
    "df1['LCLmean'] = df1['NPmean'] - (1 * stdmax)\n",
    "df1.head(2)"
   ]
  },
  {
   "cell_type": "code",
   "execution_count": 26,
   "id": "e86e593b-f4e8-44cd-b4ef-83e90cb2edda",
   "metadata": {},
   "outputs": [
    {
     "data": {
      "text/plain": [
       "<Axes: >"
      ]
     },
     "execution_count": 26,
     "metadata": {},
     "output_type": "execute_result"
    },
    {
     "data": {
      "image/png": "[encoded data removed]",
      "text/plain": [
       "<Figure size 640x480 with 1 Axes>"
      ]
     },
     "metadata": {},
     "output_type": "display_data"
    }
   ],
   "source": [
    "df1[\"NPmean\"].plot()\n",
    "df1[\"Non Purchase Mean\"].plot(marker=\"o\")\n",
    "df1[\"UCLmean\"].plot()\n",
    "df1[\"LCLmean\"].plot()"
   ]
  },
  {
   "cell_type": "code",
   "execution_count": null,
   "id": "a174a6c8-e25a-400e-9c1e-63c2b3caf90c",
   "metadata": {},
   "outputs": [],
   "source": [
    "# weeks where identify high non purchase run specific marketing programs/ pricing programs/ sales promotions\n",
    "# weeks below the LCL learn what the organization is doing"
   ]
  }
 ],
 "metadata": {
  "kernelspec": {
   "display_name": "Python [conda env:base] *",
   "language": "python",
   "name": "conda-base-py"
  },
  "language_info": {
   "codemirror_mode": {
    "name": "ipython",
    "version": 3
   },
   "file_extension": ".py",
   "mimetype": "text/x-python",
   "name": "python",
   "nbconvert_exporter": "python",
   "pygments_lexer": "ipython3",
   "version": "3.12.7"
  }
 },
 "nbformat": 4,
 "nbformat_minor": 5
}
