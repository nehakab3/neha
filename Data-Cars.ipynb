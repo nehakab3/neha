{
 "cells": [
  {
   "cell_type": "code",
   "execution_count": 2,
   "id": "26e387cf-edf1-4549-bf67-9dbe2c8f54ae",
   "metadata": {},
   "outputs": [],
   "source": [
    "import pandas as pd\n",
    "import numpy as np"
   ]
  },
  {
   "cell_type": "code",
   "execution_count": 3,
   "id": "7e877fd6-ebea-43a7-b84f-21d0d117bdbb",
   "metadata": {},
   "outputs": [],
   "source": [
    "df = pd.read_excel(r'C:\\Users\\abrahamp\\OneDrive - Hewlett Packard Enterprise\\Documents\\Personal Stuff\\Class Notes\\Data Science Course\\Python for Data Science\\Cars.xlsx')"
   ]
  },
  {
   "cell_type": "code",
   "execution_count": 4,
   "id": "64521e3c-7e81-4c67-a89e-dae7ebf9f377",
   "metadata": {},
   "outputs": [
    {
     "data": {
      "text/html": [
       "<div>\n",
       "<style scoped>\n",
       "    .dataframe tbody tr th:only-of-type {\n",
       "        vertical-align: middle;\n",
       "    }\n",
       "\n",
       "    .dataframe tbody tr th {\n",
       "        vertical-align: top;\n",
       "    }\n",
       "\n",
       "    .dataframe thead th {\n",
       "        text-align: right;\n",
       "    }\n",
       "</style>\n",
       "<table border=\"1\" class=\"dataframe\">\n",
       "  <thead>\n",
       "    <tr style=\"text-align: right;\">\n",
       "      <th></th>\n",
       "      <th>Make</th>\n",
       "      <th>Model</th>\n",
       "      <th>Type</th>\n",
       "      <th>Origin</th>\n",
       "      <th>DriveTrain</th>\n",
       "      <th>Doors</th>\n",
       "      <th>MSRP</th>\n",
       "      <th>Invoice</th>\n",
       "      <th>EngineSize</th>\n",
       "      <th>Cylinders</th>\n",
       "      <th>Horsepower</th>\n",
       "      <th>MPG_City</th>\n",
       "      <th>MPG_Highway</th>\n",
       "      <th>Weight</th>\n",
       "      <th>Wheelbase</th>\n",
       "      <th>Length</th>\n",
       "    </tr>\n",
       "  </thead>\n",
       "  <tbody>\n",
       "    <tr>\n",
       "      <th>0</th>\n",
       "      <td>Acura</td>\n",
       "      <td>MDX</td>\n",
       "      <td>SUV</td>\n",
       "      <td>Asia</td>\n",
       "      <td>All</td>\n",
       "      <td>NaN</td>\n",
       "      <td>36945</td>\n",
       "      <td>33337</td>\n",
       "      <td>3.5</td>\n",
       "      <td>6.0</td>\n",
       "      <td>265</td>\n",
       "      <td>17</td>\n",
       "      <td>23</td>\n",
       "      <td>4451</td>\n",
       "      <td>106</td>\n",
       "      <td>189</td>\n",
       "    </tr>\n",
       "    <tr>\n",
       "      <th>1</th>\n",
       "      <td>Acura</td>\n",
       "      <td>RSX Type S 2dr</td>\n",
       "      <td>Sedan</td>\n",
       "      <td>Asia</td>\n",
       "      <td>Front</td>\n",
       "      <td>2DR</td>\n",
       "      <td>23820</td>\n",
       "      <td>21761</td>\n",
       "      <td>2.0</td>\n",
       "      <td>4.0</td>\n",
       "      <td>200</td>\n",
       "      <td>24</td>\n",
       "      <td>31</td>\n",
       "      <td>2778</td>\n",
       "      <td>101</td>\n",
       "      <td>172</td>\n",
       "    </tr>\n",
       "  </tbody>\n",
       "</table>\n",
       "</div>"
      ],
      "text/plain": [
       "    Make            Model   Type Origin DriveTrain Doors   MSRP  Invoice  \\\n",
       "0  Acura              MDX    SUV   Asia        All   NaN  36945    33337   \n",
       "1  Acura   RSX Type S 2dr  Sedan   Asia      Front   2DR  23820    21761   \n",
       "\n",
       "   EngineSize  Cylinders  Horsepower  MPG_City  MPG_Highway  Weight  \\\n",
       "0         3.5        6.0         265        17           23    4451   \n",
       "1         2.0        4.0         200        24           31    2778   \n",
       "\n",
       "   Wheelbase  Length  \n",
       "0        106     189  \n",
       "1        101     172  "
      ]
     },
     "execution_count": 4,
     "metadata": {},
     "output_type": "execute_result"
    }
   ],
   "source": [
    "df.head(2)"
   ]
  },
  {
   "cell_type": "code",
   "execution_count": 4,
   "id": "c12f3416-009d-4ad8-a001-549ad963d0f3",
   "metadata": {},
   "outputs": [
    {
     "data": {
      "text/plain": [
       "(428, 16)"
      ]
     },
     "execution_count": 4,
     "metadata": {},
     "output_type": "execute_result"
    }
   ],
   "source": [
    "df.shape"
   ]
  },
  {
   "cell_type": "code",
   "execution_count": 5,
   "id": "e73f6364-e9de-47ac-9b2f-14e92723e364",
   "metadata": {},
   "outputs": [
    {
     "data": {
      "text/html": [
       "<div>\n",
       "<style scoped>\n",
       "    .dataframe tbody tr th:only-of-type {\n",
       "        vertical-align: middle;\n",
       "    }\n",
       "\n",
       "    .dataframe tbody tr th {\n",
       "        vertical-align: top;\n",
       "    }\n",
       "\n",
       "    .dataframe thead th {\n",
       "        text-align: right;\n",
       "    }\n",
       "</style>\n",
       "<table border=\"1\" class=\"dataframe\">\n",
       "  <thead>\n",
       "    <tr style=\"text-align: right;\">\n",
       "      <th></th>\n",
       "      <th>Make</th>\n",
       "      <th>Model</th>\n",
       "      <th>Type</th>\n",
       "      <th>Origin</th>\n",
       "      <th>DriveTrain</th>\n",
       "      <th>Doors</th>\n",
       "      <th>MSRP</th>\n",
       "      <th>Invoice</th>\n",
       "      <th>EngineSize</th>\n",
       "      <th>Cylinders</th>\n",
       "      <th>Horsepower</th>\n",
       "      <th>MPG_City</th>\n",
       "      <th>MPG_Highway</th>\n",
       "      <th>Weight</th>\n",
       "      <th>Wheelbase</th>\n",
       "      <th>Length</th>\n",
       "    </tr>\n",
       "  </thead>\n",
       "  <tbody>\n",
       "    <tr>\n",
       "      <th>426</th>\n",
       "      <td>Volvo</td>\n",
       "      <td>V40</td>\n",
       "      <td>Wagon</td>\n",
       "      <td>Europe</td>\n",
       "      <td>Front</td>\n",
       "      <td>NaN</td>\n",
       "      <td>26135</td>\n",
       "      <td>24641</td>\n",
       "      <td>1.9</td>\n",
       "      <td>4.0</td>\n",
       "      <td>170</td>\n",
       "      <td>22</td>\n",
       "      <td>29</td>\n",
       "      <td>2822</td>\n",
       "      <td>101</td>\n",
       "      <td>180</td>\n",
       "    </tr>\n",
       "    <tr>\n",
       "      <th>427</th>\n",
       "      <td>Volvo</td>\n",
       "      <td>XC70</td>\n",
       "      <td>Wagon</td>\n",
       "      <td>Europe</td>\n",
       "      <td>All</td>\n",
       "      <td>NaN</td>\n",
       "      <td>35145</td>\n",
       "      <td>33112</td>\n",
       "      <td>2.5</td>\n",
       "      <td>5.0</td>\n",
       "      <td>208</td>\n",
       "      <td>20</td>\n",
       "      <td>27</td>\n",
       "      <td>3823</td>\n",
       "      <td>109</td>\n",
       "      <td>186</td>\n",
       "    </tr>\n",
       "  </tbody>\n",
       "</table>\n",
       "</div>"
      ],
      "text/plain": [
       "      Make  Model   Type  Origin DriveTrain Doors   MSRP  Invoice  EngineSize  \\\n",
       "426  Volvo    V40  Wagon  Europe      Front   NaN  26135    24641         1.9   \n",
       "427  Volvo   XC70  Wagon  Europe        All   NaN  35145    33112         2.5   \n",
       "\n",
       "     Cylinders  Horsepower  MPG_City  MPG_Highway  Weight  Wheelbase  Length  \n",
       "426        4.0         170        22           29    2822        101     180  \n",
       "427        5.0         208        20           27    3823        109     186  "
      ]
     },
     "execution_count": 5,
     "metadata": {},
     "output_type": "execute_result"
    }
   ],
   "source": [
    "df.tail(2)"
   ]
  },
  {
   "cell_type": "code",
   "execution_count": 6,
   "id": "15d59190-4c0c-4af0-a1ac-d3a859ebe832",
   "metadata": {},
   "outputs": [
    {
     "data": {
      "text/html": [
       "<div>\n",
       "<style scoped>\n",
       "    .dataframe tbody tr th:only-of-type {\n",
       "        vertical-align: middle;\n",
       "    }\n",
       "\n",
       "    .dataframe tbody tr th {\n",
       "        vertical-align: top;\n",
       "    }\n",
       "\n",
       "    .dataframe thead th {\n",
       "        text-align: right;\n",
       "    }\n",
       "</style>\n",
       "<table border=\"1\" class=\"dataframe\">\n",
       "  <thead>\n",
       "    <tr style=\"text-align: right;\">\n",
       "      <th></th>\n",
       "      <th>Make</th>\n",
       "      <th>Model</th>\n",
       "      <th>Type</th>\n",
       "      <th>Origin</th>\n",
       "      <th>DriveTrain</th>\n",
       "      <th>Doors</th>\n",
       "      <th>MSRP</th>\n",
       "      <th>Invoice</th>\n",
       "      <th>EngineSize</th>\n",
       "      <th>Cylinders</th>\n",
       "      <th>Horsepower</th>\n",
       "      <th>MPG_City</th>\n",
       "      <th>MPG_Highway</th>\n",
       "      <th>Weight</th>\n",
       "      <th>Wheelbase</th>\n",
       "      <th>Length</th>\n",
       "    </tr>\n",
       "  </thead>\n",
       "  <tbody>\n",
       "    <tr>\n",
       "      <th>298</th>\n",
       "      <td>Mitsubishi</td>\n",
       "      <td>Lancer Sportback LS</td>\n",
       "      <td>Wagon</td>\n",
       "      <td>Asia</td>\n",
       "      <td>Front</td>\n",
       "      <td>NaN</td>\n",
       "      <td>17495</td>\n",
       "      <td>16295</td>\n",
       "      <td>2.4</td>\n",
       "      <td>4.0</td>\n",
       "      <td>160</td>\n",
       "      <td>25</td>\n",
       "      <td>31</td>\n",
       "      <td>3020</td>\n",
       "      <td>102</td>\n",
       "      <td>181</td>\n",
       "    </tr>\n",
       "  </tbody>\n",
       "</table>\n",
       "</div>"
      ],
      "text/plain": [
       "           Make                 Model   Type Origin DriveTrain Doors   MSRP  \\\n",
       "298  Mitsubishi   Lancer Sportback LS  Wagon   Asia      Front   NaN  17495   \n",
       "\n",
       "     Invoice  EngineSize  Cylinders  Horsepower  MPG_City  MPG_Highway  \\\n",
       "298    16295         2.4        4.0         160        25           31   \n",
       "\n",
       "     Weight  Wheelbase  Length  \n",
       "298    3020        102     181  "
      ]
     },
     "execution_count": 6,
     "metadata": {},
     "output_type": "execute_result"
    }
   ],
   "source": [
    "df.sample()"
   ]
  },
  {
   "cell_type": "code",
   "execution_count": 7,
   "id": "4a157ae2-f6a7-490a-97b3-29e7339176bb",
   "metadata": {},
   "outputs": [
    {
     "data": {
      "text/plain": [
       "Make            object\n",
       "Model           object\n",
       "Type            object\n",
       "Origin          object\n",
       "DriveTrain      object\n",
       "Doors           object\n",
       "MSRP             int64\n",
       "Invoice          int64\n",
       "EngineSize     float64\n",
       "Cylinders      float64\n",
       "Horsepower       int64\n",
       "MPG_City         int64\n",
       "MPG_Highway      int64\n",
       "Weight           int64\n",
       "Wheelbase        int64\n",
       "Length           int64\n",
       "dtype: object"
      ]
     },
     "execution_count": 7,
     "metadata": {},
     "output_type": "execute_result"
    }
   ],
   "source": [
    "df.dtypes"
   ]
  },
  {
   "cell_type": "code",
   "execution_count": 8,
   "id": "708b309b-14ef-4f3d-837e-f37e32dd1fad",
   "metadata": {},
   "outputs": [
    {
     "name": "stdout",
     "output_type": "stream",
     "text": [
      "Make             0\n",
      "Model            0\n",
      "Type             0\n",
      "Origin           0\n",
      "DriveTrain       0\n",
      "Doors          137\n",
      "MSRP             0\n",
      "Invoice          0\n",
      "EngineSize       0\n",
      "Cylinders        2\n",
      "Horsepower       0\n",
      "MPG_City         0\n",
      "MPG_Highway      0\n",
      "Weight           0\n",
      "Wheelbase        0\n",
      "Length           0\n",
      "dtype: int64\n",
      "139\n"
     ]
    }
   ],
   "source": [
    "print(df.isna().sum())\n",
    "print(df.isnull().sum().sum())"
   ]
  },
  {
   "cell_type": "markdown",
   "id": "4fe39d67-cb84-4508-906a-d190c168ab19",
   "metadata": {},
   "source": [
    "# MEAN"
   ]
  },
  {
   "cell_type": "code",
   "execution_count": 11,
   "id": "7c72b961-65ad-46fe-bd13-38453ddf3629",
   "metadata": {},
   "outputs": [
    {
     "data": {
      "text/plain": [
       "3577.9532710280373"
      ]
     },
     "execution_count": 11,
     "metadata": {},
     "output_type": "execute_result"
    }
   ],
   "source": [
    "df['Weight'].mean()"
   ]
  },
  {
   "cell_type": "code",
   "execution_count": 12,
   "id": "b898378e-f266-448f-a083-96367b77b680",
   "metadata": {},
   "outputs": [
    {
     "data": {
      "text/plain": [
       "3577.9532710280373"
      ]
     },
     "execution_count": 12,
     "metadata": {},
     "output_type": "execute_result"
    }
   ],
   "source": [
    "df['Weight'].sum()/ df['Weight'].count()"
   ]
  },
  {
   "cell_type": "code",
   "execution_count": 13,
   "id": "714855ed-c47c-44f0-a5fd-cb966065de26",
   "metadata": {},
   "outputs": [
    {
     "data": {
      "text/html": [
       "<div>\n",
       "<style scoped>\n",
       "    .dataframe tbody tr th:only-of-type {\n",
       "        vertical-align: middle;\n",
       "    }\n",
       "\n",
       "    .dataframe tbody tr th {\n",
       "        vertical-align: top;\n",
       "    }\n",
       "\n",
       "    .dataframe thead th {\n",
       "        text-align: right;\n",
       "    }\n",
       "</style>\n",
       "<table border=\"1\" class=\"dataframe\">\n",
       "  <thead>\n",
       "    <tr style=\"text-align: right;\">\n",
       "      <th></th>\n",
       "      <th>Weight</th>\n",
       "    </tr>\n",
       "    <tr>\n",
       "      <th>Type</th>\n",
       "      <th></th>\n",
       "    </tr>\n",
       "  </thead>\n",
       "  <tbody>\n",
       "    <tr>\n",
       "      <th>Hybrid</th>\n",
       "      <td>2490.666667</td>\n",
       "    </tr>\n",
       "    <tr>\n",
       "      <th>SUV</th>\n",
       "      <td>4444.433333</td>\n",
       "    </tr>\n",
       "    <tr>\n",
       "      <th>Sedan</th>\n",
       "      <td>3399.064885</td>\n",
       "    </tr>\n",
       "    <tr>\n",
       "      <th>Sports</th>\n",
       "      <td>3295.693878</td>\n",
       "    </tr>\n",
       "    <tr>\n",
       "      <th>Truck</th>\n",
       "      <td>4250.750000</td>\n",
       "    </tr>\n",
       "    <tr>\n",
       "      <th>Wagon</th>\n",
       "      <td>3438.800000</td>\n",
       "    </tr>\n",
       "  </tbody>\n",
       "</table>\n",
       "</div>"
      ],
      "text/plain": [
       "             Weight\n",
       "Type               \n",
       "Hybrid  2490.666667\n",
       "SUV     4444.433333\n",
       "Sedan   3399.064885\n",
       "Sports  3295.693878\n",
       "Truck   4250.750000\n",
       "Wagon   3438.800000"
      ]
     },
     "execution_count": 13,
     "metadata": {},
     "output_type": "execute_result"
    }
   ],
   "source": [
    "make = df.groupby('Type').aggregate({'Weight':'mean'})\n",
    "make"
   ]
  },
  {
   "cell_type": "markdown",
   "id": "5a265dc7-af15-459a-893c-28bb7f34f5ed",
   "metadata": {},
   "source": [
    "# MEDIAN"
   ]
  },
  {
   "cell_type": "code",
   "execution_count": 14,
   "id": "c2ae9f5e-82f7-4c91-8106-db15bbe88e3d",
   "metadata": {},
   "outputs": [
    {
     "data": {
      "text/html": [
       "<div>\n",
       "<style scoped>\n",
       "    .dataframe tbody tr th:only-of-type {\n",
       "        vertical-align: middle;\n",
       "    }\n",
       "\n",
       "    .dataframe tbody tr th {\n",
       "        vertical-align: top;\n",
       "    }\n",
       "\n",
       "    .dataframe thead th {\n",
       "        text-align: right;\n",
       "    }\n",
       "</style>\n",
       "<table border=\"1\" class=\"dataframe\">\n",
       "  <thead>\n",
       "    <tr style=\"text-align: right;\">\n",
       "      <th></th>\n",
       "      <th>MSRP</th>\n",
       "    </tr>\n",
       "    <tr>\n",
       "      <th>Type</th>\n",
       "      <th></th>\n",
       "    </tr>\n",
       "  </thead>\n",
       "  <tbody>\n",
       "    <tr>\n",
       "      <th>Hybrid</th>\n",
       "      <td>20140.0</td>\n",
       "    </tr>\n",
       "    <tr>\n",
       "      <th>SUV</th>\n",
       "      <td>32062.5</td>\n",
       "    </tr>\n",
       "    <tr>\n",
       "      <th>Sedan</th>\n",
       "      <td>26432.5</td>\n",
       "    </tr>\n",
       "    <tr>\n",
       "      <th>Sports</th>\n",
       "      <td>40590.0</td>\n",
       "    </tr>\n",
       "    <tr>\n",
       "      <th>Truck</th>\n",
       "      <td>22180.0</td>\n",
       "    </tr>\n",
       "    <tr>\n",
       "      <th>Wagon</th>\n",
       "      <td>25545.0</td>\n",
       "    </tr>\n",
       "  </tbody>\n",
       "</table>\n",
       "</div>"
      ],
      "text/plain": [
       "           MSRP\n",
       "Type           \n",
       "Hybrid  20140.0\n",
       "SUV     32062.5\n",
       "Sedan   26432.5\n",
       "Sports  40590.0\n",
       "Truck   22180.0\n",
       "Wagon   25545.0"
      ]
     },
     "execution_count": 14,
     "metadata": {},
     "output_type": "execute_result"
    }
   ],
   "source": [
    "df.groupby('Type').aggregate({'MSRP':'median'})"
   ]
  },
  {
   "cell_type": "code",
   "execution_count": 15,
   "id": "b92edbe1-dcae-4cda-84c1-ced9df373277",
   "metadata": {},
   "outputs": [
    {
     "data": {
      "text/html": [
       "<style type=\"text/css\">\n",
       "</style>\n",
       "<table id=\"T_a143b\">\n",
       "  <thead>\n",
       "    <tr>\n",
       "      <th class=\"blank level0\" >&nbsp;</th>\n",
       "      <th id=\"T_a143b_level0_col0\" class=\"col_heading level0 col0\" >MSRP</th>\n",
       "    </tr>\n",
       "    <tr>\n",
       "      <th class=\"index_name level0\" >Type</th>\n",
       "      <th class=\"blank col0\" >&nbsp;</th>\n",
       "    </tr>\n",
       "  </thead>\n",
       "  <tbody>\n",
       "    <tr>\n",
       "      <th id=\"T_a143b_level0_row0\" class=\"row_heading level0 row0\" >Sports</th>\n",
       "      <td id=\"T_a143b_row0_col0\" class=\"data row0 col0\" >40,590</td>\n",
       "    </tr>\n",
       "    <tr>\n",
       "      <th id=\"T_a143b_level0_row1\" class=\"row_heading level0 row1\" >SUV</th>\n",
       "      <td id=\"T_a143b_row1_col0\" class=\"data row1 col0\" >32,062</td>\n",
       "    </tr>\n",
       "    <tr>\n",
       "      <th id=\"T_a143b_level0_row2\" class=\"row_heading level0 row2\" >Sedan</th>\n",
       "      <td id=\"T_a143b_row2_col0\" class=\"data row2 col0\" >26,432</td>\n",
       "    </tr>\n",
       "    <tr>\n",
       "      <th id=\"T_a143b_level0_row3\" class=\"row_heading level0 row3\" >Wagon</th>\n",
       "      <td id=\"T_a143b_row3_col0\" class=\"data row3 col0\" >25,545</td>\n",
       "    </tr>\n",
       "    <tr>\n",
       "      <th id=\"T_a143b_level0_row4\" class=\"row_heading level0 row4\" >Truck</th>\n",
       "      <td id=\"T_a143b_row4_col0\" class=\"data row4 col0\" >22,180</td>\n",
       "    </tr>\n",
       "    <tr>\n",
       "      <th id=\"T_a143b_level0_row5\" class=\"row_heading level0 row5\" >Hybrid</th>\n",
       "      <td id=\"T_a143b_row5_col0\" class=\"data row5 col0\" >20,140</td>\n",
       "    </tr>\n",
       "  </tbody>\n",
       "</table>\n"
      ],
      "text/plain": [
       "<pandas.io.formats.style.Styler at 0x2176b958690>"
      ]
     },
     "execution_count": 15,
     "metadata": {},
     "output_type": "execute_result"
    }
   ],
   "source": [
    "df.groupby('Type').agg({'MSRP': 'median'}).sort_values(by='MSRP', ascending=False).style.format({'MSRP': '{:,.0f}'})"
   ]
  },
  {
   "cell_type": "code",
   "execution_count": 18,
   "id": "23a3745b-3d41-4f21-9889-d445d669ca70",
   "metadata": {},
   "outputs": [
    {
     "data": {
      "text/html": [
       "<style type=\"text/css\">\n",
       "</style>\n",
       "<table id=\"T_66bfe\">\n",
       "  <thead>\n",
       "    <tr>\n",
       "      <th class=\"blank level0\" >&nbsp;</th>\n",
       "      <th id=\"T_66bfe_level0_col0\" class=\"col_heading level0 col0\" >MSRP</th>\n",
       "    </tr>\n",
       "    <tr>\n",
       "      <th class=\"index_name level0\" >Origin</th>\n",
       "      <th class=\"blank col0\" >&nbsp;</th>\n",
       "    </tr>\n",
       "  </thead>\n",
       "  <tbody>\n",
       "    <tr>\n",
       "      <th id=\"T_66bfe_level0_row0\" class=\"row_heading level0 row0\" >Europe</th>\n",
       "      <td id=\"T_66bfe_row0_col0\" class=\"data row0 col0\" >40,590</td>\n",
       "    </tr>\n",
       "    <tr>\n",
       "      <th id=\"T_66bfe_level0_row1\" class=\"row_heading level0 row1\" >USA</th>\n",
       "      <td id=\"T_66bfe_row1_col0\" class=\"data row1 col0\" >25,520</td>\n",
       "    </tr>\n",
       "    <tr>\n",
       "      <th id=\"T_66bfe_level0_row2\" class=\"row_heading level0 row2\" >Asia</th>\n",
       "      <td id=\"T_66bfe_row2_col0\" class=\"data row2 col0\" >23,032</td>\n",
       "    </tr>\n",
       "  </tbody>\n",
       "</table>\n"
      ],
      "text/plain": [
       "<pandas.io.formats.style.Styler at 0x2176c084b10>"
      ]
     },
     "execution_count": 18,
     "metadata": {},
     "output_type": "execute_result"
    }
   ],
   "source": [
    "df.groupby('Origin').agg({'MSRP': 'median'}).sort_values(by='MSRP', ascending=False).style.format({'MSRP': '{:,.0f}'})"
   ]
  },
  {
   "cell_type": "code",
   "execution_count": 65,
   "id": "fb930f36-d133-4243-a9f6-f8c7da0ebe19",
   "metadata": {},
   "outputs": [
    {
     "data": {
      "text/html": [
       "<style type=\"text/css\">\n",
       "</style>\n",
       "<table id=\"T_ab101\">\n",
       "  <thead>\n",
       "    <tr>\n",
       "      <th class=\"blank level0\" >&nbsp;</th>\n",
       "      <th id=\"T_ab101_level0_col0\" class=\"col_heading level0 col0\" >MSRP</th>\n",
       "    </tr>\n",
       "    <tr>\n",
       "      <th class=\"index_name level0\" >Origin</th>\n",
       "      <th class=\"blank col0\" >&nbsp;</th>\n",
       "    </tr>\n",
       "  </thead>\n",
       "  <tbody>\n",
       "    <tr>\n",
       "      <th id=\"T_ab101_level0_row0\" class=\"row_heading level0 row0\" >Europe</th>\n",
       "      <td id=\"T_ab101_row0_col0\" class=\"data row0 col0\" >48,350</td>\n",
       "    </tr>\n",
       "    <tr>\n",
       "      <th id=\"T_ab101_level0_row1\" class=\"row_heading level0 row1\" >USA</th>\n",
       "      <td id=\"T_ab101_row1_col0\" class=\"data row1 col0\" >28,377</td>\n",
       "    </tr>\n",
       "    <tr>\n",
       "      <th id=\"T_ab101_level0_row2\" class=\"row_heading level0 row2\" >Asia</th>\n",
       "      <td id=\"T_ab101_row2_col0\" class=\"data row2 col0\" >24,741</td>\n",
       "    </tr>\n",
       "  </tbody>\n",
       "</table>\n"
      ],
      "text/plain": [
       "<pandas.io.formats.style.Styler at 0x2176c5f4950>"
      ]
     },
     "execution_count": 65,
     "metadata": {},
     "output_type": "execute_result"
    }
   ],
   "source": [
    "df.groupby('Origin').agg({'MSRP': 'mean'}).sort_values(by='MSRP', ascending=False).style.format({'MSRP': '{:,.0f}'})"
   ]
  },
  {
   "cell_type": "code",
   "execution_count": 19,
   "id": "73f8a20b-e8cd-4242-962d-76987d2df068",
   "metadata": {},
   "outputs": [
    {
     "data": {
      "text/html": [
       "<style type=\"text/css\">\n",
       "</style>\n",
       "<table id=\"T_b1723\">\n",
       "  <thead>\n",
       "    <tr>\n",
       "      <th class=\"blank level0\" >&nbsp;</th>\n",
       "      <th id=\"T_b1723_level0_col0\" class=\"col_heading level0 col0\" >MSRP</th>\n",
       "    </tr>\n",
       "    <tr>\n",
       "      <th class=\"index_name level0\" >Make</th>\n",
       "      <th class=\"blank col0\" >&nbsp;</th>\n",
       "    </tr>\n",
       "  </thead>\n",
       "  <tbody>\n",
       "    <tr>\n",
       "      <th id=\"T_b1723_level0_row0\" class=\"row_heading level0 row0\" >Porsche</th>\n",
       "      <td id=\"T_b1723_row0_col0\" class=\"data row0 col0\" >76,765</td>\n",
       "    </tr>\n",
       "    <tr>\n",
       "      <th id=\"T_b1723_level0_row1\" class=\"row_heading level0 row1\" >Jaguar</th>\n",
       "      <td id=\"T_b1723_row1_col0\" class=\"data row1 col0\" >66,058</td>\n",
       "    </tr>\n",
       "    <tr>\n",
       "      <th id=\"T_b1723_level0_row2\" class=\"row_heading level0 row2\" >Mercedes-Benz</th>\n",
       "      <td id=\"T_b1723_row2_col0\" class=\"data row2 col0\" >51,395</td>\n",
       "    </tr>\n",
       "    <tr>\n",
       "      <th id=\"T_b1723_level0_row3\" class=\"row_heading level0 row3\" >Hummer</th>\n",
       "      <td id=\"T_b1723_row3_col0\" class=\"data row3 col0\" >49,995</td>\n",
       "    </tr>\n",
       "    <tr>\n",
       "      <th id=\"T_b1723_level0_row4\" class=\"row_heading level0 row4\" >Cadillac</th>\n",
       "      <td id=\"T_b1723_row4_col0\" class=\"data row4 col0\" >49,275</td>\n",
       "    </tr>\n",
       "    <tr>\n",
       "      <th id=\"T_b1723_level0_row5\" class=\"row_heading level0 row5\" >Lincoln</th>\n",
       "      <td id=\"T_b1723_row5_col0\" class=\"data row5 col0\" >42,915</td>\n",
       "    </tr>\n",
       "    <tr>\n",
       "      <th id=\"T_b1723_level0_row6\" class=\"row_heading level0 row6\" >Lexus</th>\n",
       "      <td id=\"T_b1723_row6_col0\" class=\"data row6 col0\" >41,010</td>\n",
       "    </tr>\n",
       "    <tr>\n",
       "      <th id=\"T_b1723_level0_row7\" class=\"row_heading level0 row7\" >Audi</th>\n",
       "      <td id=\"T_b1723_row7_col0\" class=\"data row7 col0\" >40,590</td>\n",
       "    </tr>\n",
       "    <tr>\n",
       "      <th id=\"T_b1723_level0_row8\" class=\"row_heading level0 row8\" >Saab</th>\n",
       "      <td id=\"T_b1723_row8_col0\" class=\"data row8 col0\" >39,465</td>\n",
       "    </tr>\n",
       "    <tr>\n",
       "      <th id=\"T_b1723_level0_row9\" class=\"row_heading level0 row9\" >Land Rover</th>\n",
       "      <td id=\"T_b1723_row9_col0\" class=\"data row9 col0\" >39,250</td>\n",
       "    </tr>\n",
       "    <tr>\n",
       "      <th id=\"T_b1723_level0_row10\" class=\"row_heading level0 row10\" >BMW</th>\n",
       "      <td id=\"T_b1723_row10_col0\" class=\"data row10 col0\" >38,995</td>\n",
       "    </tr>\n",
       "    <tr>\n",
       "      <th id=\"T_b1723_level0_row11\" class=\"row_heading level0 row11\" >Volvo</th>\n",
       "      <td id=\"T_b1723_row11_col0\" class=\"data row11 col0\" >37,645</td>\n",
       "    </tr>\n",
       "    <tr>\n",
       "      <th id=\"T_b1723_level0_row12\" class=\"row_heading level0 row12\" >Acura</th>\n",
       "      <td id=\"T_b1723_row12_col0\" class=\"data row12 col0\" >36,945</td>\n",
       "    </tr>\n",
       "    <tr>\n",
       "      <th id=\"T_b1723_level0_row13\" class=\"row_heading level0 row13\" >Infiniti</th>\n",
       "      <td id=\"T_b1723_row13_col0\" class=\"data row13 col0\" >33,670</td>\n",
       "    </tr>\n",
       "    <tr>\n",
       "      <th id=\"T_b1723_level0_row14\" class=\"row_heading level0 row14\" >Mercury</th>\n",
       "      <td id=\"T_b1723_row14_col0\" class=\"data row14 col0\" >29,595</td>\n",
       "    </tr>\n",
       "    <tr>\n",
       "      <th id=\"T_b1723_level0_row15\" class=\"row_heading level0 row15\" >Buick</th>\n",
       "      <td id=\"T_b1723_row15_col0\" class=\"data row15 col0\" >28,345</td>\n",
       "    </tr>\n",
       "    <tr>\n",
       "      <th id=\"T_b1723_level0_row16\" class=\"row_heading level0 row16\" >GMC</th>\n",
       "      <td id=\"T_b1723_row16_col0\" class=\"data row16 col0\" >27,520</td>\n",
       "    </tr>\n",
       "    <tr>\n",
       "      <th id=\"T_b1723_level0_row17\" class=\"row_heading level0 row17\" >Chrysler</th>\n",
       "      <td id=\"T_b1723_row17_col0\" class=\"data row17 col0\" >26,860</td>\n",
       "    </tr>\n",
       "    <tr>\n",
       "      <th id=\"T_b1723_level0_row18\" class=\"row_heading level0 row18\" >Nissan</th>\n",
       "      <td id=\"T_b1723_row18_col0\" class=\"data row18 col0\" >26,650</td>\n",
       "    </tr>\n",
       "    <tr>\n",
       "      <th id=\"T_b1723_level0_row19\" class=\"row_heading level0 row19\" >Isuzu</th>\n",
       "      <td id=\"T_b1723_row19_col0\" class=\"data row19 col0\" >26,149</td>\n",
       "    </tr>\n",
       "    <tr>\n",
       "      <th id=\"T_b1723_level0_row20\" class=\"row_heading level0 row20\" >Jeep</th>\n",
       "      <td id=\"T_b1723_row20_col0\" class=\"data row20 col0\" >25,520</td>\n",
       "    </tr>\n",
       "    <tr>\n",
       "      <th id=\"T_b1723_level0_row21\" class=\"row_heading level0 row21\" >Mitsubishi</th>\n",
       "      <td id=\"T_b1723_row21_col0\" class=\"data row21 col0\" >25,092</td>\n",
       "    </tr>\n",
       "    <tr>\n",
       "      <th id=\"T_b1723_level0_row22\" class=\"row_heading level0 row22\" >Subaru</th>\n",
       "      <td id=\"T_b1723_row22_col0\" class=\"data row22 col0\" >25,045</td>\n",
       "    </tr>\n",
       "    <tr>\n",
       "      <th id=\"T_b1723_level0_row23\" class=\"row_heading level0 row23\" >Volkswagen</th>\n",
       "      <td id=\"T_b1723_row23_col0\" class=\"data row23 col0\" >23,955</td>\n",
       "    </tr>\n",
       "    <tr>\n",
       "      <th id=\"T_b1723_level0_row24\" class=\"row_heading level0 row24\" >Oldsmobile</th>\n",
       "      <td id=\"T_b1723_row24_col0\" class=\"data row24 col0\" >23,675</td>\n",
       "    </tr>\n",
       "    <tr>\n",
       "      <th id=\"T_b1723_level0_row25\" class=\"row_heading level0 row25\" >Chevrolet</th>\n",
       "      <td id=\"T_b1723_row25_col0\" class=\"data row25 col0\" >23,495</td>\n",
       "    </tr>\n",
       "    <tr>\n",
       "      <th id=\"T_b1723_level0_row26\" class=\"row_heading level0 row26\" >Ford</th>\n",
       "      <td id=\"T_b1723_row26_col0\" class=\"data row26 col0\" >22,515</td>\n",
       "    </tr>\n",
       "    <tr>\n",
       "      <th id=\"T_b1723_level0_row27\" class=\"row_heading level0 row27\" >Pontiac</th>\n",
       "      <td id=\"T_b1723_row27_col0\" class=\"data row27 col0\" >22,450</td>\n",
       "    </tr>\n",
       "    <tr>\n",
       "      <th id=\"T_b1723_level0_row28\" class=\"row_heading level0 row28\" >Mazda</th>\n",
       "      <td id=\"T_b1723_row28_col0\" class=\"data row28 col0\" >22,350</td>\n",
       "    </tr>\n",
       "    <tr>\n",
       "      <th id=\"T_b1723_level0_row29\" class=\"row_heading level0 row29\" >Toyota</th>\n",
       "      <td id=\"T_b1723_row29_col0\" class=\"data row29 col0\" >22,268</td>\n",
       "    </tr>\n",
       "    <tr>\n",
       "      <th id=\"T_b1723_level0_row30\" class=\"row_heading level0 row30\" >Dodge</th>\n",
       "      <td id=\"T_b1723_row30_col0\" class=\"data row30 col0\" >20,300</td>\n",
       "    </tr>\n",
       "    <tr>\n",
       "      <th id=\"T_b1723_level0_row31\" class=\"row_heading level0 row31\" >Honda</th>\n",
       "      <td id=\"T_b1723_row31_col0\" class=\"data row31 col0\" >19,860</td>\n",
       "    </tr>\n",
       "    <tr>\n",
       "      <th id=\"T_b1723_level0_row32\" class=\"row_heading level0 row32\" >MINI</th>\n",
       "      <td id=\"T_b1723_row32_col0\" class=\"data row32 col0\" >18,499</td>\n",
       "    </tr>\n",
       "    <tr>\n",
       "      <th id=\"T_b1723_level0_row33\" class=\"row_heading level0 row33\" >Hyundai</th>\n",
       "      <td id=\"T_b1723_row33_col0\" class=\"data row33 col0\" >17,064</td>\n",
       "    </tr>\n",
       "    <tr>\n",
       "      <th id=\"T_b1723_level0_row34\" class=\"row_heading level0 row34\" >Saturn</th>\n",
       "      <td id=\"T_b1723_row34_col0\" class=\"data row34 col0\" >16,088</td>\n",
       "    </tr>\n",
       "    <tr>\n",
       "      <th id=\"T_b1723_level0_row35\" class=\"row_heading level0 row35\" >Suzuki</th>\n",
       "      <td id=\"T_b1723_row35_col0\" class=\"data row35 col0\" >16,032</td>\n",
       "    </tr>\n",
       "    <tr>\n",
       "      <th id=\"T_b1723_level0_row36\" class=\"row_heading level0 row36\" >Kia</th>\n",
       "      <td id=\"T_b1723_row36_col0\" class=\"data row36 col0\" >14,630</td>\n",
       "    </tr>\n",
       "    <tr>\n",
       "      <th id=\"T_b1723_level0_row37\" class=\"row_heading level0 row37\" >Scion</th>\n",
       "      <td id=\"T_b1723_row37_col0\" class=\"data row37 col0\" >13,565</td>\n",
       "    </tr>\n",
       "  </tbody>\n",
       "</table>\n"
      ],
      "text/plain": [
       "<pandas.io.formats.style.Styler at 0x2176c6b3fd0>"
      ]
     },
     "execution_count": 19,
     "metadata": {},
     "output_type": "execute_result"
    }
   ],
   "source": [
    "df.groupby('Make').agg({'MSRP': 'median'}).sort_values(by='MSRP', ascending=False).style.format({'MSRP': '{:,.0f}'})"
   ]
  },
  {
   "cell_type": "markdown",
   "id": "4b20f8e6-6e49-45e3-922b-18924d39de4f",
   "metadata": {},
   "source": [
    "# MODE"
   ]
  },
  {
   "cell_type": "code",
   "execution_count": 21,
   "id": "217ce81e-99ac-4191-b586-7a18e7b5170c",
   "metadata": {},
   "outputs": [
    {
     "data": {
      "text/html": [
       "<div>\n",
       "<style scoped>\n",
       "    .dataframe tbody tr th:only-of-type {\n",
       "        vertical-align: middle;\n",
       "    }\n",
       "\n",
       "    .dataframe tbody tr th {\n",
       "        vertical-align: top;\n",
       "    }\n",
       "\n",
       "    .dataframe thead th {\n",
       "        text-align: right;\n",
       "    }\n",
       "</style>\n",
       "<table border=\"1\" class=\"dataframe\">\n",
       "  <thead>\n",
       "    <tr style=\"text-align: right;\">\n",
       "      <th></th>\n",
       "      <th>Cylinders</th>\n",
       "    </tr>\n",
       "    <tr>\n",
       "      <th>Type</th>\n",
       "      <th></th>\n",
       "    </tr>\n",
       "  </thead>\n",
       "  <tbody>\n",
       "    <tr>\n",
       "      <th>Hybrid</th>\n",
       "      <td>3</td>\n",
       "    </tr>\n",
       "    <tr>\n",
       "      <th>SUV</th>\n",
       "      <td>60</td>\n",
       "    </tr>\n",
       "    <tr>\n",
       "      <th>Sedan</th>\n",
       "      <td>262</td>\n",
       "    </tr>\n",
       "    <tr>\n",
       "      <th>Sports</th>\n",
       "      <td>47</td>\n",
       "    </tr>\n",
       "    <tr>\n",
       "      <th>Truck</th>\n",
       "      <td>24</td>\n",
       "    </tr>\n",
       "    <tr>\n",
       "      <th>Wagon</th>\n",
       "      <td>30</td>\n",
       "    </tr>\n",
       "  </tbody>\n",
       "</table>\n",
       "</div>"
      ],
      "text/plain": [
       "        Cylinders\n",
       "Type             \n",
       "Hybrid          3\n",
       "SUV            60\n",
       "Sedan         262\n",
       "Sports         47\n",
       "Truck          24\n",
       "Wagon          30"
      ]
     },
     "execution_count": 21,
     "metadata": {},
     "output_type": "execute_result"
    }
   ],
   "source": [
    "df.groupby('Type').aggregate({'Cylinders':'count'})"
   ]
  },
  {
   "cell_type": "code",
   "execution_count": 22,
   "id": "fafc09ad-5010-4669-94f6-82fa67c248ec",
   "metadata": {},
   "outputs": [
    {
     "data": {
      "text/plain": [
       "Cylinders\n",
       "6.0     190\n",
       "4.0     136\n",
       "8.0      87\n",
       "5.0       7\n",
       "12.0      3\n",
       "10.0      2\n",
       "3.0       1\n",
       "Name: count, dtype: int64"
      ]
     },
     "execution_count": 22,
     "metadata": {},
     "output_type": "execute_result"
    }
   ],
   "source": [
    "df['Cylinders'].value_counts()"
   ]
  },
  {
   "cell_type": "code",
   "execution_count": 23,
   "id": "48af4d84-c1de-4532-922f-13ba71abfef4",
   "metadata": {},
   "outputs": [
    {
     "data": {
      "text/plain": [
       "6.0"
      ]
     },
     "execution_count": 23,
     "metadata": {},
     "output_type": "execute_result"
    }
   ],
   "source": [
    "import statistics\n",
    "statistics.mode(df['Cylinders'])"
   ]
  },
  {
   "cell_type": "markdown",
   "id": "8e79838c-db3e-4a28-b26b-463a9ef03fff",
   "metadata": {},
   "source": [
    "# ----------- MEASURES OF SPREAD ----------"
   ]
  },
  {
   "cell_type": "markdown",
   "id": "82629563-5302-4ded-b5de-9ceb7606f354",
   "metadata": {},
   "source": [
    "# STANDARD DEVIATION"
   ]
  },
  {
   "cell_type": "code",
   "execution_count": 25,
   "id": "71a707b7-0f13-4729-a9e8-e8913fa06de5",
   "metadata": {},
   "outputs": [
    {
     "data": {
      "text/plain": [
       "5.238217638649044"
      ]
     },
     "execution_count": 25,
     "metadata": {},
     "output_type": "execute_result"
    }
   ],
   "source": [
    "df['MPG_City'].std()"
   ]
  },
  {
   "cell_type": "code",
   "execution_count": 26,
   "id": "62a876cd-b0f4-439d-a3d3-31fc466daea0",
   "metadata": {},
   "outputs": [
    {
     "data": {
      "text/html": [
       "<div>\n",
       "<style scoped>\n",
       "    .dataframe tbody tr th:only-of-type {\n",
       "        vertical-align: middle;\n",
       "    }\n",
       "\n",
       "    .dataframe tbody tr th {\n",
       "        vertical-align: top;\n",
       "    }\n",
       "\n",
       "    .dataframe thead th {\n",
       "        text-align: right;\n",
       "    }\n",
       "</style>\n",
       "<table border=\"1\" class=\"dataframe\">\n",
       "  <thead>\n",
       "    <tr style=\"text-align: right;\">\n",
       "      <th></th>\n",
       "      <th>MPG_City</th>\n",
       "    </tr>\n",
       "    <tr>\n",
       "      <th>Type</th>\n",
       "      <th></th>\n",
       "    </tr>\n",
       "  </thead>\n",
       "  <tbody>\n",
       "    <tr>\n",
       "      <th>Hybrid</th>\n",
       "      <td>7.810250</td>\n",
       "    </tr>\n",
       "    <tr>\n",
       "      <th>SUV</th>\n",
       "      <td>2.820626</td>\n",
       "    </tr>\n",
       "    <tr>\n",
       "      <th>Sedan</th>\n",
       "      <td>4.234574</td>\n",
       "    </tr>\n",
       "    <tr>\n",
       "      <th>Sports</th>\n",
       "      <td>2.668632</td>\n",
       "    </tr>\n",
       "    <tr>\n",
       "      <th>Truck</th>\n",
       "      <td>3.230291</td>\n",
       "    </tr>\n",
       "    <tr>\n",
       "      <th>Wagon</th>\n",
       "      <td>4.212870</td>\n",
       "    </tr>\n",
       "  </tbody>\n",
       "</table>\n",
       "</div>"
      ],
      "text/plain": [
       "        MPG_City\n",
       "Type            \n",
       "Hybrid  7.810250\n",
       "SUV     2.820626\n",
       "Sedan   4.234574\n",
       "Sports  2.668632\n",
       "Truck   3.230291\n",
       "Wagon   4.212870"
      ]
     },
     "execution_count": 26,
     "metadata": {},
     "output_type": "execute_result"
    }
   ],
   "source": [
    "df.groupby('Type').aggregate({'MPG_City':'std'})"
   ]
  },
  {
   "cell_type": "code",
   "execution_count": 32,
   "id": "4c703d51-99b0-4843-ab2d-ec1044a8e0f4",
   "metadata": {},
   "outputs": [
    {
     "data": {
      "text/html": [
       "<div>\n",
       "<style scoped>\n",
       "    .dataframe tbody tr th:only-of-type {\n",
       "        vertical-align: middle;\n",
       "    }\n",
       "\n",
       "    .dataframe tbody tr th {\n",
       "        vertical-align: top;\n",
       "    }\n",
       "\n",
       "    .dataframe thead tr th {\n",
       "        text-align: left;\n",
       "    }\n",
       "\n",
       "    .dataframe thead tr:last-of-type th {\n",
       "        text-align: right;\n",
       "    }\n",
       "</style>\n",
       "<table border=\"1\" class=\"dataframe\">\n",
       "  <thead>\n",
       "    <tr>\n",
       "      <th></th>\n",
       "      <th colspan=\"2\" halign=\"left\">MPG_City</th>\n",
       "    </tr>\n",
       "    <tr>\n",
       "      <th></th>\n",
       "      <th>mean</th>\n",
       "      <th>std</th>\n",
       "    </tr>\n",
       "    <tr>\n",
       "      <th>Type</th>\n",
       "      <th></th>\n",
       "      <th></th>\n",
       "    </tr>\n",
       "  </thead>\n",
       "  <tbody>\n",
       "    <tr>\n",
       "      <th>Hybrid</th>\n",
       "      <td>55.000000</td>\n",
       "      <td>7.810250</td>\n",
       "    </tr>\n",
       "    <tr>\n",
       "      <th>SUV</th>\n",
       "      <td>16.100000</td>\n",
       "      <td>2.820626</td>\n",
       "    </tr>\n",
       "    <tr>\n",
       "      <th>Sedan</th>\n",
       "      <td>21.083969</td>\n",
       "      <td>4.234574</td>\n",
       "    </tr>\n",
       "    <tr>\n",
       "      <th>Sports</th>\n",
       "      <td>18.408163</td>\n",
       "      <td>2.668632</td>\n",
       "    </tr>\n",
       "    <tr>\n",
       "      <th>Truck</th>\n",
       "      <td>16.500000</td>\n",
       "      <td>3.230291</td>\n",
       "    </tr>\n",
       "    <tr>\n",
       "      <th>Wagon</th>\n",
       "      <td>21.100000</td>\n",
       "      <td>4.212870</td>\n",
       "    </tr>\n",
       "  </tbody>\n",
       "</table>\n",
       "</div>"
      ],
      "text/plain": [
       "         MPG_City          \n",
       "             mean       std\n",
       "Type                       \n",
       "Hybrid  55.000000  7.810250\n",
       "SUV     16.100000  2.820626\n",
       "Sedan   21.083969  4.234574\n",
       "Sports  18.408163  2.668632\n",
       "Truck   16.500000  3.230291\n",
       "Wagon   21.100000  4.212870"
      ]
     },
     "execution_count": 32,
     "metadata": {},
     "output_type": "execute_result"
    }
   ],
   "source": [
    "df.groupby('Type').agg({'MPG_City': ['mean', 'std']})"
   ]
  },
  {
   "cell_type": "code",
   "execution_count": 33,
   "id": "8bdaee98-39ba-497e-84bd-c9612cfbf2bf",
   "metadata": {},
   "outputs": [
    {
     "data": {
      "text/plain": [
       "Index(['Make', 'Model', 'Type', 'Origin', 'DriveTrain', 'Doors', 'MSRP',\n",
       "       'Invoice', 'EngineSize', 'Cylinders', 'Horsepower', 'MPG_City',\n",
       "       'MPG_Highway', 'Weight', 'Wheelbase', 'Length'],\n",
       "      dtype='object')"
      ]
     },
     "execution_count": 33,
     "metadata": {},
     "output_type": "execute_result"
    }
   ],
   "source": [
    "df.columns"
   ]
  },
  {
   "cell_type": "code",
   "execution_count": 34,
   "id": "0b7118d6-2015-4761-bc3f-0f4fe81091c7",
   "metadata": {},
   "outputs": [
    {
     "data": {
      "text/html": [
       "<div>\n",
       "<style scoped>\n",
       "    .dataframe tbody tr th:only-of-type {\n",
       "        vertical-align: middle;\n",
       "    }\n",
       "\n",
       "    .dataframe tbody tr th {\n",
       "        vertical-align: top;\n",
       "    }\n",
       "\n",
       "    .dataframe thead tr th {\n",
       "        text-align: left;\n",
       "    }\n",
       "\n",
       "    .dataframe thead tr:last-of-type th {\n",
       "        text-align: right;\n",
       "    }\n",
       "</style>\n",
       "<table border=\"1\" class=\"dataframe\">\n",
       "  <thead>\n",
       "    <tr>\n",
       "      <th></th>\n",
       "      <th colspan=\"2\" halign=\"left\">MPG_Highway</th>\n",
       "    </tr>\n",
       "    <tr>\n",
       "      <th></th>\n",
       "      <th>mean</th>\n",
       "      <th>std</th>\n",
       "    </tr>\n",
       "    <tr>\n",
       "      <th>Type</th>\n",
       "      <th></th>\n",
       "      <th></th>\n",
       "    </tr>\n",
       "  </thead>\n",
       "  <tbody>\n",
       "    <tr>\n",
       "      <th>Hybrid</th>\n",
       "      <td>56.000000</td>\n",
       "      <td>8.660254</td>\n",
       "    </tr>\n",
       "    <tr>\n",
       "      <th>SUV</th>\n",
       "      <td>20.500000</td>\n",
       "      <td>3.337004</td>\n",
       "    </tr>\n",
       "    <tr>\n",
       "      <th>Sedan</th>\n",
       "      <td>28.629771</td>\n",
       "      <td>4.467459</td>\n",
       "    </tr>\n",
       "    <tr>\n",
       "      <th>Sports</th>\n",
       "      <td>25.489796</td>\n",
       "      <td>2.902028</td>\n",
       "    </tr>\n",
       "    <tr>\n",
       "      <th>Truck</th>\n",
       "      <td>21.000000</td>\n",
       "      <td>3.878592</td>\n",
       "    </tr>\n",
       "    <tr>\n",
       "      <th>Wagon</th>\n",
       "      <td>27.900000</td>\n",
       "      <td>4.412756</td>\n",
       "    </tr>\n",
       "  </tbody>\n",
       "</table>\n",
       "</div>"
      ],
      "text/plain": [
       "       MPG_Highway          \n",
       "              mean       std\n",
       "Type                        \n",
       "Hybrid   56.000000  8.660254\n",
       "SUV      20.500000  3.337004\n",
       "Sedan    28.629771  4.467459\n",
       "Sports   25.489796  2.902028\n",
       "Truck    21.000000  3.878592\n",
       "Wagon    27.900000  4.412756"
      ]
     },
     "execution_count": 34,
     "metadata": {},
     "output_type": "execute_result"
    }
   ],
   "source": [
    "df.groupby('Type').agg({'MPG_Highway': ['mean', 'std']})"
   ]
  },
  {
   "cell_type": "code",
   "execution_count": 35,
   "id": "46357f6a-8bbb-4740-aa50-7d835604cf4f",
   "metadata": {},
   "outputs": [
    {
     "data": {
      "text/html": [
       "<div>\n",
       "<style scoped>\n",
       "    .dataframe tbody tr th:only-of-type {\n",
       "        vertical-align: middle;\n",
       "    }\n",
       "\n",
       "    .dataframe tbody tr th {\n",
       "        vertical-align: top;\n",
       "    }\n",
       "\n",
       "    .dataframe thead tr th {\n",
       "        text-align: left;\n",
       "    }\n",
       "\n",
       "    .dataframe thead tr:last-of-type th {\n",
       "        text-align: right;\n",
       "    }\n",
       "</style>\n",
       "<table border=\"1\" class=\"dataframe\">\n",
       "  <thead>\n",
       "    <tr>\n",
       "      <th></th>\n",
       "      <th colspan=\"2\" halign=\"left\">Weight</th>\n",
       "    </tr>\n",
       "    <tr>\n",
       "      <th></th>\n",
       "      <th>mean</th>\n",
       "      <th>std</th>\n",
       "    </tr>\n",
       "    <tr>\n",
       "      <th>Type</th>\n",
       "      <th></th>\n",
       "      <th></th>\n",
       "    </tr>\n",
       "  </thead>\n",
       "  <tbody>\n",
       "    <tr>\n",
       "      <th>Hybrid</th>\n",
       "      <td>2490.666667</td>\n",
       "      <td>560.429597</td>\n",
       "    </tr>\n",
       "    <tr>\n",
       "      <th>SUV</th>\n",
       "      <td>4444.433333</td>\n",
       "      <td>889.252616</td>\n",
       "    </tr>\n",
       "    <tr>\n",
       "      <th>Sedan</th>\n",
       "      <td>3399.064885</td>\n",
       "      <td>579.003993</td>\n",
       "    </tr>\n",
       "    <tr>\n",
       "      <th>Sports</th>\n",
       "      <td>3295.693878</td>\n",
       "      <td>478.131049</td>\n",
       "    </tr>\n",
       "    <tr>\n",
       "      <th>Truck</th>\n",
       "      <td>4250.750000</td>\n",
       "      <td>886.827479</td>\n",
       "    </tr>\n",
       "    <tr>\n",
       "      <th>Wagon</th>\n",
       "      <td>3438.800000</td>\n",
       "      <td>581.451715</td>\n",
       "    </tr>\n",
       "  </tbody>\n",
       "</table>\n",
       "</div>"
      ],
      "text/plain": [
       "             Weight            \n",
       "               mean         std\n",
       "Type                           \n",
       "Hybrid  2490.666667  560.429597\n",
       "SUV     4444.433333  889.252616\n",
       "Sedan   3399.064885  579.003993\n",
       "Sports  3295.693878  478.131049\n",
       "Truck   4250.750000  886.827479\n",
       "Wagon   3438.800000  581.451715"
      ]
     },
     "execution_count": 35,
     "metadata": {},
     "output_type": "execute_result"
    }
   ],
   "source": [
    "df.groupby('Type').agg({'Weight': ['mean', 'std']})"
   ]
  },
  {
   "cell_type": "code",
   "execution_count": 61,
   "id": "ed6892a4-1fd9-4f36-a5a8-543c755fb18d",
   "metadata": {},
   "outputs": [
    {
     "data": {
      "text/html": [
       "<div>\n",
       "<style scoped>\n",
       "    .dataframe tbody tr th:only-of-type {\n",
       "        vertical-align: middle;\n",
       "    }\n",
       "\n",
       "    .dataframe tbody tr th {\n",
       "        vertical-align: top;\n",
       "    }\n",
       "\n",
       "    .dataframe thead tr th {\n",
       "        text-align: left;\n",
       "    }\n",
       "\n",
       "    .dataframe thead tr:last-of-type th {\n",
       "        text-align: right;\n",
       "    }\n",
       "</style>\n",
       "<table border=\"1\" class=\"dataframe\">\n",
       "  <thead>\n",
       "    <tr>\n",
       "      <th></th>\n",
       "      <th colspan=\"3\" halign=\"left\">MSRP</th>\n",
       "    </tr>\n",
       "    <tr>\n",
       "      <th></th>\n",
       "      <th>mean</th>\n",
       "      <th>std</th>\n",
       "      <th>count</th>\n",
       "    </tr>\n",
       "    <tr>\n",
       "      <th>Type</th>\n",
       "      <th></th>\n",
       "      <th></th>\n",
       "      <th></th>\n",
       "    </tr>\n",
       "  </thead>\n",
       "  <tbody>\n",
       "    <tr>\n",
       "      <th>Hybrid</th>\n",
       "      <td>19920.000000</td>\n",
       "      <td>725.465368</td>\n",
       "      <td>3</td>\n",
       "    </tr>\n",
       "    <tr>\n",
       "      <th>SUV</th>\n",
       "      <td>34790.250000</td>\n",
       "      <td>13598.630413</td>\n",
       "      <td>60</td>\n",
       "    </tr>\n",
       "    <tr>\n",
       "      <th>Sedan</th>\n",
       "      <td>29773.618321</td>\n",
       "      <td>15584.591701</td>\n",
       "      <td>262</td>\n",
       "    </tr>\n",
       "    <tr>\n",
       "      <th>Sports</th>\n",
       "      <td>53387.061224</td>\n",
       "      <td>33779.633235</td>\n",
       "      <td>49</td>\n",
       "    </tr>\n",
       "    <tr>\n",
       "      <th>Truck</th>\n",
       "      <td>24941.375000</td>\n",
       "      <td>9871.969328</td>\n",
       "      <td>24</td>\n",
       "    </tr>\n",
       "    <tr>\n",
       "      <th>Wagon</th>\n",
       "      <td>28840.533333</td>\n",
       "      <td>11834.002794</td>\n",
       "      <td>30</td>\n",
       "    </tr>\n",
       "  </tbody>\n",
       "</table>\n",
       "</div>"
      ],
      "text/plain": [
       "                MSRP                    \n",
       "                mean           std count\n",
       "Type                                    \n",
       "Hybrid  19920.000000    725.465368     3\n",
       "SUV     34790.250000  13598.630413    60\n",
       "Sedan   29773.618321  15584.591701   262\n",
       "Sports  53387.061224  33779.633235    49\n",
       "Truck   24941.375000   9871.969328    24\n",
       "Wagon   28840.533333  11834.002794    30"
      ]
     },
     "execution_count": 61,
     "metadata": {},
     "output_type": "execute_result"
    }
   ],
   "source": [
    "df.groupby('Type').agg({'MSRP': ['mean', 'std', 'count']})"
   ]
  },
  {
   "cell_type": "markdown",
   "id": "7ad98a7b-767b-4a65-89e5-44a5e7b69ed1",
   "metadata": {},
   "source": [
    "# MAX - MIN - RANGE"
   ]
  },
  {
   "cell_type": "code",
   "execution_count": 5,
   "id": "8adddbae-a399-41e5-98dd-283c7feabafb",
   "metadata": {},
   "outputs": [],
   "source": [
    "mmax = df['MSRP'].max()\n",
    "mmin = df['MSRP'].min()\n",
    "mran = df['MSRP'].max() - df['MSRP'].min()"
   ]
  },
  {
   "cell_type": "code",
   "execution_count": 6,
   "id": "f4bfc058-b7ad-4790-8dc2-1cdc2b75b016",
   "metadata": {},
   "outputs": [
    {
     "data": {
      "text/plain": [
       "192465"
      ]
     },
     "execution_count": 6,
     "metadata": {},
     "output_type": "execute_result"
    }
   ],
   "source": [
    "mmax"
   ]
  },
  {
   "cell_type": "code",
   "execution_count": 7,
   "id": "db445b1b-2502-4ebb-bbc5-fe8b82241ad1",
   "metadata": {},
   "outputs": [
    {
     "data": {
      "text/html": [
       "<div>\n",
       "<style scoped>\n",
       "    .dataframe tbody tr th:only-of-type {\n",
       "        vertical-align: middle;\n",
       "    }\n",
       "\n",
       "    .dataframe tbody tr th {\n",
       "        vertical-align: top;\n",
       "    }\n",
       "\n",
       "    .dataframe thead th {\n",
       "        text-align: right;\n",
       "    }\n",
       "</style>\n",
       "<table border=\"1\" class=\"dataframe\">\n",
       "  <thead>\n",
       "    <tr style=\"text-align: right;\">\n",
       "      <th></th>\n",
       "      <th>max_MSRP</th>\n",
       "      <th>min_MSRP</th>\n",
       "      <th>range_MSRP</th>\n",
       "    </tr>\n",
       "  </thead>\n",
       "  <tbody>\n",
       "    <tr>\n",
       "      <th>0</th>\n",
       "      <td>192465</td>\n",
       "      <td>10280</td>\n",
       "      <td>182185</td>\n",
       "    </tr>\n",
       "  </tbody>\n",
       "</table>\n",
       "</div>"
      ],
      "text/plain": [
       "   max_MSRP  min_MSRP  range_MSRP\n",
       "0    192465     10280      182185"
      ]
     },
     "execution_count": 7,
     "metadata": {},
     "output_type": "execute_result"
    }
   ],
   "source": [
    "range = pd.DataFrame({\n",
    "    'max_MSRP': [df['MSRP'].max()],\n",
    "    'min_MSRP': [df['MSRP'].min()],\n",
    "    'range_MSRP': [df['MSRP'].max() - df['MSRP'].min()]\n",
    "})\n",
    "range"
   ]
  },
  {
   "cell_type": "code",
   "execution_count": 70,
   "id": "925676d0-b0ab-4c00-921c-731a30cdf9c2",
   "metadata": {},
   "outputs": [
    {
     "data": {
      "text/html": [
       "<div>\n",
       "<style scoped>\n",
       "    .dataframe tbody tr th:only-of-type {\n",
       "        vertical-align: middle;\n",
       "    }\n",
       "\n",
       "    .dataframe tbody tr th {\n",
       "        vertical-align: top;\n",
       "    }\n",
       "\n",
       "    .dataframe thead th {\n",
       "        text-align: right;\n",
       "    }\n",
       "</style>\n",
       "<table border=\"1\" class=\"dataframe\">\n",
       "  <thead>\n",
       "    <tr style=\"text-align: right;\">\n",
       "      <th></th>\n",
       "      <th>max_price</th>\n",
       "      <th>min_price</th>\n",
       "      <th>range_price</th>\n",
       "    </tr>\n",
       "    <tr>\n",
       "      <th>Type</th>\n",
       "      <th></th>\n",
       "      <th></th>\n",
       "      <th></th>\n",
       "    </tr>\n",
       "  </thead>\n",
       "  <tbody>\n",
       "    <tr>\n",
       "      <th>Sports</th>\n",
       "      <td>192465</td>\n",
       "      <td>18345</td>\n",
       "      <td>174120</td>\n",
       "    </tr>\n",
       "    <tr>\n",
       "      <th>Sedan</th>\n",
       "      <td>128420</td>\n",
       "      <td>10280</td>\n",
       "      <td>118140</td>\n",
       "    </tr>\n",
       "    <tr>\n",
       "      <th>SUV</th>\n",
       "      <td>76870</td>\n",
       "      <td>17163</td>\n",
       "      <td>59707</td>\n",
       "    </tr>\n",
       "    <tr>\n",
       "      <th>Wagon</th>\n",
       "      <td>60670</td>\n",
       "      <td>11905</td>\n",
       "      <td>48765</td>\n",
       "    </tr>\n",
       "    <tr>\n",
       "      <th>Truck</th>\n",
       "      <td>52975</td>\n",
       "      <td>12800</td>\n",
       "      <td>40175</td>\n",
       "    </tr>\n",
       "    <tr>\n",
       "      <th>Hybrid</th>\n",
       "      <td>20510</td>\n",
       "      <td>19110</td>\n",
       "      <td>1400</td>\n",
       "    </tr>\n",
       "  </tbody>\n",
       "</table>\n",
       "</div>"
      ],
      "text/plain": [
       "        max_price  min_price  range_price\n",
       "Type                                     \n",
       "Sports     192465      18345       174120\n",
       "Sedan      128420      10280       118140\n",
       "SUV         76870      17163        59707\n",
       "Wagon       60670      11905        48765\n",
       "Truck       52975      12800        40175\n",
       "Hybrid      20510      19110         1400"
      ]
     },
     "execution_count": 70,
     "metadata": {},
     "output_type": "execute_result"
    }
   ],
   "source": [
    "max = df.groupby('Type').agg({'MSRP': 'max'})\n",
    "min = df.groupby('Type').agg({'MSRP': 'min'})\n",
    "range = max - min\n",
    "mmr = pd.concat([max, min, range], axis=1)\n",
    "mmr.columns = ['max_price', 'min_price', 'range_price']\n",
    "mmr.sort_values(by='max_price', ascending=False)"
   ]
  },
  {
   "cell_type": "markdown",
   "id": "a4bd7362-0964-4805-be0a-ae6f80f7483f",
   "metadata": {},
   "source": [
    "# QUARTILES"
   ]
  },
  {
   "cell_type": "code",
   "execution_count": 71,
   "id": "1988f75b-cc42-406c-bf1a-bbce70ca5a57",
   "metadata": {},
   "outputs": [
    {
     "data": {
      "text/plain": [
       "20334.25"
      ]
     },
     "execution_count": 71,
     "metadata": {},
     "output_type": "execute_result"
    }
   ],
   "source": [
    "df['MSRP'].quantile(0.25)"
   ]
  },
  {
   "cell_type": "code",
   "execution_count": 73,
   "id": "c42986b6-a350-4f37-99aa-705b02c08577",
   "metadata": {},
   "outputs": [
    {
     "data": {
      "text/plain": [
       "27635.0"
      ]
     },
     "execution_count": 73,
     "metadata": {},
     "output_type": "execute_result"
    }
   ],
   "source": [
    "df['MSRP'].median()"
   ]
  },
  {
   "cell_type": "code",
   "execution_count": 74,
   "id": "ed0d9cfd-d8d6-4617-9845-658603797fa7",
   "metadata": {},
   "outputs": [
    {
     "data": {
      "text/plain": [
       "39205.0"
      ]
     },
     "execution_count": 74,
     "metadata": {},
     "output_type": "execute_result"
    }
   ],
   "source": [
    "df['MSRP'].quantile(0.75)"
   ]
  },
  {
   "cell_type": "code",
   "execution_count": 77,
   "id": "35723ec8-43f9-45d4-a097-0acefb3c8551",
   "metadata": {},
   "outputs": [
    {
     "name": "stdout",
     "output_type": "stream",
     "text": [
      "18870.75\n",
      "-7971.875\n",
      "67511.125\n"
     ]
    }
   ],
   "source": [
    "miqr = df['MSRP'].quantile(0.75) - df['MSRP'].quantile(0.25)\n",
    "mlow = df['MSRP'].quantile(0.25) - (1.5 * (df['MSRP'].quantile(0.75) - df['MSRP'].quantile(0.25)))\n",
    "mup = df['MSRP'].quantile(0.75) + (1.5 * (df['MSRP'].quantile(0.75) - df['MSRP'].quantile(0.25)))\n",
    "print(miqr)\n",
    "print(mlow)\n",
    "print(mup)"
   ]
  },
  {
   "cell_type": "code",
   "execution_count": 81,
   "id": "01b31eca-f9c0-4210-9ece-474a2ffb5777",
   "metadata": {},
   "outputs": [
    {
     "data": {
      "text/html": [
       "<div>\n",
       "<style scoped>\n",
       "    .dataframe tbody tr th:only-of-type {\n",
       "        vertical-align: middle;\n",
       "    }\n",
       "\n",
       "    .dataframe tbody tr th {\n",
       "        vertical-align: top;\n",
       "    }\n",
       "\n",
       "    .dataframe thead tr th {\n",
       "        text-align: left;\n",
       "    }\n",
       "\n",
       "    .dataframe thead tr:last-of-type th {\n",
       "        text-align: right;\n",
       "    }\n",
       "</style>\n",
       "<table border=\"1\" class=\"dataframe\">\n",
       "  <thead>\n",
       "    <tr>\n",
       "      <th></th>\n",
       "      <th colspan=\"5\" halign=\"left\">MSRP</th>\n",
       "    </tr>\n",
       "    <tr>\n",
       "      <th></th>\n",
       "      <th>min</th>\n",
       "      <th>&lt;lambda_0&gt;</th>\n",
       "      <th>median</th>\n",
       "      <th>&lt;lambda_1&gt;</th>\n",
       "      <th>max</th>\n",
       "    </tr>\n",
       "    <tr>\n",
       "      <th>Type</th>\n",
       "      <th></th>\n",
       "      <th></th>\n",
       "      <th></th>\n",
       "      <th></th>\n",
       "      <th></th>\n",
       "    </tr>\n",
       "  </thead>\n",
       "  <tbody>\n",
       "    <tr>\n",
       "      <th>Hybrid</th>\n",
       "      <td>19110</td>\n",
       "      <td>19625.00</td>\n",
       "      <td>20140.0</td>\n",
       "      <td>20325.0</td>\n",
       "      <td>20510</td>\n",
       "    </tr>\n",
       "    <tr>\n",
       "      <th>SUV</th>\n",
       "      <td>17163</td>\n",
       "      <td>23403.00</td>\n",
       "      <td>32062.5</td>\n",
       "      <td>41790.0</td>\n",
       "      <td>76870</td>\n",
       "    </tr>\n",
       "    <tr>\n",
       "      <th>Sedan</th>\n",
       "      <td>10280</td>\n",
       "      <td>19318.75</td>\n",
       "      <td>26432.5</td>\n",
       "      <td>35935.0</td>\n",
       "      <td>128420</td>\n",
       "    </tr>\n",
       "    <tr>\n",
       "      <th>Sports</th>\n",
       "      <td>18345</td>\n",
       "      <td>29380.00</td>\n",
       "      <td>40590.0</td>\n",
       "      <td>76200.0</td>\n",
       "      <td>192465</td>\n",
       "    </tr>\n",
       "    <tr>\n",
       "      <th>Truck</th>\n",
       "      <td>12800</td>\n",
       "      <td>18477.50</td>\n",
       "      <td>22180.0</td>\n",
       "      <td>27318.0</td>\n",
       "      <td>52975</td>\n",
       "    </tr>\n",
       "    <tr>\n",
       "      <th>Wagon</th>\n",
       "      <td>11905</td>\n",
       "      <td>19615.00</td>\n",
       "      <td>25545.0</td>\n",
       "      <td>35082.5</td>\n",
       "      <td>60670</td>\n",
       "    </tr>\n",
       "  </tbody>\n",
       "</table>\n",
       "</div>"
      ],
      "text/plain": [
       "         MSRP                                       \n",
       "          min <lambda_0>   median <lambda_1>     max\n",
       "Type                                                \n",
       "Hybrid  19110   19625.00  20140.0    20325.0   20510\n",
       "SUV     17163   23403.00  32062.5    41790.0   76870\n",
       "Sedan   10280   19318.75  26432.5    35935.0  128420\n",
       "Sports  18345   29380.00  40590.0    76200.0  192465\n",
       "Truck   12800   18477.50  22180.0    27318.0   52975\n",
       "Wagon   11905   19615.00  25545.0    35082.5   60670"
      ]
     },
     "execution_count": 81,
     "metadata": {},
     "output_type": "execute_result"
    }
   ],
   "source": [
    "df.groupby('Type').agg({\n",
    "    'MSRP': [\n",
    "        'min',\n",
    "        lambda x: x.quantile(0.25),\n",
    "        'median',\n",
    "        lambda x: x.quantile(0.75),\n",
    "        'max'\n",
    "    ]\n",
    "})"
   ]
  },
  {
   "cell_type": "code",
   "execution_count": 83,
   "id": "017b2fbf-559e-48f0-83ad-2056e49b75ff",
   "metadata": {},
   "outputs": [
    {
     "data": {
      "text/html": [
       "<div>\n",
       "<style scoped>\n",
       "    .dataframe tbody tr th:only-of-type {\n",
       "        vertical-align: middle;\n",
       "    }\n",
       "\n",
       "    .dataframe tbody tr th {\n",
       "        vertical-align: top;\n",
       "    }\n",
       "\n",
       "    .dataframe thead tr th {\n",
       "        text-align: left;\n",
       "    }\n",
       "\n",
       "    .dataframe thead tr:last-of-type th {\n",
       "        text-align: right;\n",
       "    }\n",
       "</style>\n",
       "<table border=\"1\" class=\"dataframe\">\n",
       "  <thead>\n",
       "    <tr>\n",
       "      <th></th>\n",
       "      <th colspan=\"5\" halign=\"left\">MSRP</th>\n",
       "    </tr>\n",
       "    <tr>\n",
       "      <th></th>\n",
       "      <th>min</th>\n",
       "      <th>Q1</th>\n",
       "      <th>median</th>\n",
       "      <th>Q3</th>\n",
       "      <th>max</th>\n",
       "    </tr>\n",
       "    <tr>\n",
       "      <th>Type</th>\n",
       "      <th></th>\n",
       "      <th></th>\n",
       "      <th></th>\n",
       "      <th></th>\n",
       "      <th></th>\n",
       "    </tr>\n",
       "  </thead>\n",
       "  <tbody>\n",
       "    <tr>\n",
       "      <th>Hybrid</th>\n",
       "      <td>19110</td>\n",
       "      <td>19625.00</td>\n",
       "      <td>20140.0</td>\n",
       "      <td>20325.0</td>\n",
       "      <td>20510</td>\n",
       "    </tr>\n",
       "    <tr>\n",
       "      <th>SUV</th>\n",
       "      <td>17163</td>\n",
       "      <td>23403.00</td>\n",
       "      <td>32062.5</td>\n",
       "      <td>41790.0</td>\n",
       "      <td>76870</td>\n",
       "    </tr>\n",
       "    <tr>\n",
       "      <th>Sedan</th>\n",
       "      <td>10280</td>\n",
       "      <td>19318.75</td>\n",
       "      <td>26432.5</td>\n",
       "      <td>35935.0</td>\n",
       "      <td>128420</td>\n",
       "    </tr>\n",
       "    <tr>\n",
       "      <th>Sports</th>\n",
       "      <td>18345</td>\n",
       "      <td>29380.00</td>\n",
       "      <td>40590.0</td>\n",
       "      <td>76200.0</td>\n",
       "      <td>192465</td>\n",
       "    </tr>\n",
       "    <tr>\n",
       "      <th>Truck</th>\n",
       "      <td>12800</td>\n",
       "      <td>18477.50</td>\n",
       "      <td>22180.0</td>\n",
       "      <td>27318.0</td>\n",
       "      <td>52975</td>\n",
       "    </tr>\n",
       "    <tr>\n",
       "      <th>Wagon</th>\n",
       "      <td>11905</td>\n",
       "      <td>19615.00</td>\n",
       "      <td>25545.0</td>\n",
       "      <td>35082.5</td>\n",
       "      <td>60670</td>\n",
       "    </tr>\n",
       "  </tbody>\n",
       "</table>\n",
       "</div>"
      ],
      "text/plain": [
       "         MSRP                                    \n",
       "          min        Q1   median       Q3     max\n",
       "Type                                             \n",
       "Hybrid  19110  19625.00  20140.0  20325.0   20510\n",
       "SUV     17163  23403.00  32062.5  41790.0   76870\n",
       "Sedan   10280  19318.75  26432.5  35935.0  128420\n",
       "Sports  18345  29380.00  40590.0  76200.0  192465\n",
       "Truck   12800  18477.50  22180.0  27318.0   52975\n",
       "Wagon   11905  19615.00  25545.0  35082.5   60670"
      ]
     },
     "execution_count": 83,
     "metadata": {},
     "output_type": "execute_result"
    }
   ],
   "source": [
    "df.groupby('Type').agg({\n",
    "    'MSRP': [\n",
    "        'min',\n",
    "        ('Q1', lambda x: x.quantile(0.25)),\n",
    "        'median',\n",
    "        ('Q3', lambda x: x.quantile(0.75)),\n",
    "        'max'\n",
    "    ]\n",
    "})"
   ]
  },
  {
   "cell_type": "markdown",
   "id": "c8928728-c206-4da7-b51f-1acfe29f973b",
   "metadata": {},
   "source": [
    "# Co-Efficient of Variation"
   ]
  },
  {
   "cell_type": "code",
   "execution_count": 87,
   "id": "ab6cb3b7-8628-4353-a08d-922e0dee8d6c",
   "metadata": {},
   "outputs": [
    {
     "data": {
      "text/html": [
       "<div>\n",
       "<style scoped>\n",
       "    .dataframe tbody tr th:only-of-type {\n",
       "        vertical-align: middle;\n",
       "    }\n",
       "\n",
       "    .dataframe tbody tr th {\n",
       "        vertical-align: top;\n",
       "    }\n",
       "\n",
       "    .dataframe thead tr th {\n",
       "        text-align: left;\n",
       "    }\n",
       "\n",
       "    .dataframe thead tr:last-of-type th {\n",
       "        text-align: right;\n",
       "    }\n",
       "</style>\n",
       "<table border=\"1\" class=\"dataframe\">\n",
       "  <thead>\n",
       "    <tr>\n",
       "      <th></th>\n",
       "      <th colspan=\"3\" halign=\"left\">MSRP</th>\n",
       "    </tr>\n",
       "    <tr>\n",
       "      <th></th>\n",
       "      <th>std</th>\n",
       "      <th>mean</th>\n",
       "      <th>Co Eff Var</th>\n",
       "    </tr>\n",
       "    <tr>\n",
       "      <th>Type</th>\n",
       "      <th></th>\n",
       "      <th></th>\n",
       "      <th></th>\n",
       "    </tr>\n",
       "  </thead>\n",
       "  <tbody>\n",
       "    <tr>\n",
       "      <th>Hybrid</th>\n",
       "      <td>725.465368</td>\n",
       "      <td>19920.000000</td>\n",
       "      <td>3.641894</td>\n",
       "    </tr>\n",
       "    <tr>\n",
       "      <th>SUV</th>\n",
       "      <td>13598.630413</td>\n",
       "      <td>34790.250000</td>\n",
       "      <td>39.087475</td>\n",
       "    </tr>\n",
       "    <tr>\n",
       "      <th>Sedan</th>\n",
       "      <td>15584.591701</td>\n",
       "      <td>29773.618321</td>\n",
       "      <td>52.343627</td>\n",
       "    </tr>\n",
       "    <tr>\n",
       "      <th>Sports</th>\n",
       "      <td>33779.633235</td>\n",
       "      <td>53387.061224</td>\n",
       "      <td>63.273071</td>\n",
       "    </tr>\n",
       "    <tr>\n",
       "      <th>Truck</th>\n",
       "      <td>9871.969328</td>\n",
       "      <td>24941.375000</td>\n",
       "      <td>39.580694</td>\n",
       "    </tr>\n",
       "    <tr>\n",
       "      <th>Wagon</th>\n",
       "      <td>11834.002794</td>\n",
       "      <td>28840.533333</td>\n",
       "      <td>41.032538</td>\n",
       "    </tr>\n",
       "  </tbody>\n",
       "</table>\n",
       "</div>"
      ],
      "text/plain": [
       "                MSRP                         \n",
       "                 std          mean Co Eff Var\n",
       "Type                                         \n",
       "Hybrid    725.465368  19920.000000   3.641894\n",
       "SUV     13598.630413  34790.250000  39.087475\n",
       "Sedan   15584.591701  29773.618321  52.343627\n",
       "Sports  33779.633235  53387.061224  63.273071\n",
       "Truck    9871.969328  24941.375000  39.580694\n",
       "Wagon   11834.002794  28840.533333  41.032538"
      ]
     },
     "execution_count": 87,
     "metadata": {},
     "output_type": "execute_result"
    }
   ],
   "source": [
    "df.groupby('Type').agg({'MSRP': ['std', 'mean', ('Co Eff Var', lambda x: (x.std() / x.mean())*100)]})"
   ]
  },
  {
   "cell_type": "code",
   "execution_count": 88,
   "id": "98a39872-9f61-4b20-a35d-d4edde724b27",
   "metadata": {},
   "outputs": [
    {
     "data": {
      "text/html": [
       "<div>\n",
       "<style scoped>\n",
       "    .dataframe tbody tr th:only-of-type {\n",
       "        vertical-align: middle;\n",
       "    }\n",
       "\n",
       "    .dataframe tbody tr th {\n",
       "        vertical-align: top;\n",
       "    }\n",
       "\n",
       "    .dataframe thead tr th {\n",
       "        text-align: left;\n",
       "    }\n",
       "\n",
       "    .dataframe thead tr:last-of-type th {\n",
       "        text-align: right;\n",
       "    }\n",
       "</style>\n",
       "<table border=\"1\" class=\"dataframe\">\n",
       "  <thead>\n",
       "    <tr>\n",
       "      <th></th>\n",
       "      <th colspan=\"3\" halign=\"left\">MPG_City</th>\n",
       "    </tr>\n",
       "    <tr>\n",
       "      <th></th>\n",
       "      <th>std</th>\n",
       "      <th>mean</th>\n",
       "      <th>Co Eff Var</th>\n",
       "    </tr>\n",
       "    <tr>\n",
       "      <th>Type</th>\n",
       "      <th></th>\n",
       "      <th></th>\n",
       "      <th></th>\n",
       "    </tr>\n",
       "  </thead>\n",
       "  <tbody>\n",
       "    <tr>\n",
       "      <th>Hybrid</th>\n",
       "      <td>7.810250</td>\n",
       "      <td>55.000000</td>\n",
       "      <td>14.200454</td>\n",
       "    </tr>\n",
       "    <tr>\n",
       "      <th>SUV</th>\n",
       "      <td>2.820626</td>\n",
       "      <td>16.100000</td>\n",
       "      <td>17.519417</td>\n",
       "    </tr>\n",
       "    <tr>\n",
       "      <th>Sedan</th>\n",
       "      <td>4.234574</td>\n",
       "      <td>21.083969</td>\n",
       "      <td>20.084331</td>\n",
       "    </tr>\n",
       "    <tr>\n",
       "      <th>Sports</th>\n",
       "      <td>2.668632</td>\n",
       "      <td>18.408163</td>\n",
       "      <td>14.497005</td>\n",
       "    </tr>\n",
       "    <tr>\n",
       "      <th>Truck</th>\n",
       "      <td>3.230291</td>\n",
       "      <td>16.500000</td>\n",
       "      <td>19.577524</td>\n",
       "    </tr>\n",
       "    <tr>\n",
       "      <th>Wagon</th>\n",
       "      <td>4.212870</td>\n",
       "      <td>21.100000</td>\n",
       "      <td>19.966210</td>\n",
       "    </tr>\n",
       "  </tbody>\n",
       "</table>\n",
       "</div>"
      ],
      "text/plain": [
       "        MPG_City                      \n",
       "             std       mean Co Eff Var\n",
       "Type                                  \n",
       "Hybrid  7.810250  55.000000  14.200454\n",
       "SUV     2.820626  16.100000  17.519417\n",
       "Sedan   4.234574  21.083969  20.084331\n",
       "Sports  2.668632  18.408163  14.497005\n",
       "Truck   3.230291  16.500000  19.577524\n",
       "Wagon   4.212870  21.100000  19.966210"
      ]
     },
     "execution_count": 88,
     "metadata": {},
     "output_type": "execute_result"
    }
   ],
   "source": [
    "df.groupby('Type').agg({'MPG_City': ['std', 'mean', ('Co Eff Var', lambda x: (x.std() / x.mean())*100)]})"
   ]
  },
  {
   "cell_type": "code",
   "execution_count": 89,
   "id": "56e3a84e-1e4d-457c-801a-2cf4206e07e5",
   "metadata": {},
   "outputs": [
    {
     "data": {
      "text/html": [
       "<div>\n",
       "<style scoped>\n",
       "    .dataframe tbody tr th:only-of-type {\n",
       "        vertical-align: middle;\n",
       "    }\n",
       "\n",
       "    .dataframe tbody tr th {\n",
       "        vertical-align: top;\n",
       "    }\n",
       "\n",
       "    .dataframe thead tr th {\n",
       "        text-align: left;\n",
       "    }\n",
       "\n",
       "    .dataframe thead tr:last-of-type th {\n",
       "        text-align: right;\n",
       "    }\n",
       "</style>\n",
       "<table border=\"1\" class=\"dataframe\">\n",
       "  <thead>\n",
       "    <tr>\n",
       "      <th></th>\n",
       "      <th colspan=\"3\" halign=\"left\">MPG_Highway</th>\n",
       "    </tr>\n",
       "    <tr>\n",
       "      <th></th>\n",
       "      <th>std</th>\n",
       "      <th>mean</th>\n",
       "      <th>Co Eff Var</th>\n",
       "    </tr>\n",
       "    <tr>\n",
       "      <th>Type</th>\n",
       "      <th></th>\n",
       "      <th></th>\n",
       "      <th></th>\n",
       "    </tr>\n",
       "  </thead>\n",
       "  <tbody>\n",
       "    <tr>\n",
       "      <th>Hybrid</th>\n",
       "      <td>8.660254</td>\n",
       "      <td>56.000000</td>\n",
       "      <td>15.464739</td>\n",
       "    </tr>\n",
       "    <tr>\n",
       "      <th>SUV</th>\n",
       "      <td>3.337004</td>\n",
       "      <td>20.500000</td>\n",
       "      <td>16.278066</td>\n",
       "    </tr>\n",
       "    <tr>\n",
       "      <th>Sedan</th>\n",
       "      <td>4.467459</td>\n",
       "      <td>28.629771</td>\n",
       "      <td>15.604243</td>\n",
       "    </tr>\n",
       "    <tr>\n",
       "      <th>Sports</th>\n",
       "      <td>2.902028</td>\n",
       "      <td>25.489796</td>\n",
       "      <td>11.385059</td>\n",
       "    </tr>\n",
       "    <tr>\n",
       "      <th>Truck</th>\n",
       "      <td>3.878592</td>\n",
       "      <td>21.000000</td>\n",
       "      <td>18.469487</td>\n",
       "    </tr>\n",
       "    <tr>\n",
       "      <th>Wagon</th>\n",
       "      <td>4.412756</td>\n",
       "      <td>27.900000</td>\n",
       "      <td>15.816329</td>\n",
       "    </tr>\n",
       "  </tbody>\n",
       "</table>\n",
       "</div>"
      ],
      "text/plain": [
       "       MPG_Highway                      \n",
       "               std       mean Co Eff Var\n",
       "Type                                    \n",
       "Hybrid    8.660254  56.000000  15.464739\n",
       "SUV       3.337004  20.500000  16.278066\n",
       "Sedan     4.467459  28.629771  15.604243\n",
       "Sports    2.902028  25.489796  11.385059\n",
       "Truck     3.878592  21.000000  18.469487\n",
       "Wagon     4.412756  27.900000  15.816329"
      ]
     },
     "execution_count": 89,
     "metadata": {},
     "output_type": "execute_result"
    }
   ],
   "source": [
    "df.groupby('Type').agg({'MPG_Highway': ['std', 'mean', ('Co Eff Var', lambda x: (x.std() / x.mean())*100)]})"
   ]
  },
  {
   "cell_type": "markdown",
   "id": "60b3cbaf-4adf-4148-ae97-5cc9ca709ca2",
   "metadata": {},
   "source": [
    "# SKEWNESS & KURTOSIS"
   ]
  },
  {
   "cell_type": "code",
   "execution_count": 90,
   "id": "fc2a4199-1ef6-4432-bb06-b83ed7f3f652",
   "metadata": {},
   "outputs": [
    {
     "data": {
      "text/plain": [
       "2.7980992746701707"
      ]
     },
     "execution_count": 90,
     "metadata": {},
     "output_type": "execute_result"
    }
   ],
   "source": [
    "df['MSRP'].skew()"
   ]
  },
  {
   "cell_type": "code",
   "execution_count": 91,
   "id": "3413be37-0274-45f0-bca0-c154c813b407",
   "metadata": {},
   "outputs": [
    {
     "data": {
      "text/plain": [
       "13.879205524289228"
      ]
     },
     "execution_count": 91,
     "metadata": {},
     "output_type": "execute_result"
    }
   ],
   "source": [
    "df['MSRP'].kurtosis()"
   ]
  },
  {
   "cell_type": "code",
   "execution_count": 94,
   "id": "c9ee49a8-bca6-4cfc-bde9-a01babec4f48",
   "metadata": {},
   "outputs": [
    {
     "data": {
      "text/html": [
       "<div>\n",
       "<style scoped>\n",
       "    .dataframe tbody tr th:only-of-type {\n",
       "        vertical-align: middle;\n",
       "    }\n",
       "\n",
       "    .dataframe tbody tr th {\n",
       "        vertical-align: top;\n",
       "    }\n",
       "\n",
       "    .dataframe thead tr th {\n",
       "        text-align: left;\n",
       "    }\n",
       "\n",
       "    .dataframe thead tr:last-of-type th {\n",
       "        text-align: right;\n",
       "    }\n",
       "</style>\n",
       "<table border=\"1\" class=\"dataframe\">\n",
       "  <thead>\n",
       "    <tr>\n",
       "      <th></th>\n",
       "      <th>MSRP</th>\n",
       "    </tr>\n",
       "    <tr>\n",
       "      <th></th>\n",
       "      <th>skew</th>\n",
       "    </tr>\n",
       "    <tr>\n",
       "      <th>Type</th>\n",
       "      <th></th>\n",
       "    </tr>\n",
       "  </thead>\n",
       "  <tbody>\n",
       "    <tr>\n",
       "      <th>Hybrid</th>\n",
       "      <td>-1.239145</td>\n",
       "    </tr>\n",
       "    <tr>\n",
       "      <th>SUV</th>\n",
       "      <td>1.034736</td>\n",
       "    </tr>\n",
       "    <tr>\n",
       "      <th>Sedan</th>\n",
       "      <td>2.071161</td>\n",
       "    </tr>\n",
       "    <tr>\n",
       "      <th>Sports</th>\n",
       "      <td>1.858229</td>\n",
       "    </tr>\n",
       "    <tr>\n",
       "      <th>Truck</th>\n",
       "      <td>1.302794</td>\n",
       "    </tr>\n",
       "    <tr>\n",
       "      <th>Wagon</th>\n",
       "      <td>0.852972</td>\n",
       "    </tr>\n",
       "  </tbody>\n",
       "</table>\n",
       "</div>"
      ],
      "text/plain": [
       "            MSRP\n",
       "            skew\n",
       "Type            \n",
       "Hybrid -1.239145\n",
       "SUV     1.034736\n",
       "Sedan   2.071161\n",
       "Sports  1.858229\n",
       "Truck   1.302794\n",
       "Wagon   0.852972"
      ]
     },
     "execution_count": 94,
     "metadata": {},
     "output_type": "execute_result"
    }
   ],
   "source": [
    "df.groupby('Type').agg({'MSRP': ['skew']})"
   ]
  },
  {
   "cell_type": "code",
   "execution_count": 95,
   "id": "9ce4cf7a-eb30-4213-9219-9cf9af287f47",
   "metadata": {},
   "outputs": [
    {
     "data": {
      "text/html": [
       "<div>\n",
       "<style scoped>\n",
       "    .dataframe tbody tr th:only-of-type {\n",
       "        vertical-align: middle;\n",
       "    }\n",
       "\n",
       "    .dataframe tbody tr th {\n",
       "        vertical-align: top;\n",
       "    }\n",
       "\n",
       "    .dataframe thead tr th {\n",
       "        text-align: left;\n",
       "    }\n",
       "\n",
       "    .dataframe thead tr:last-of-type th {\n",
       "        text-align: right;\n",
       "    }\n",
       "</style>\n",
       "<table border=\"1\" class=\"dataframe\">\n",
       "  <thead>\n",
       "    <tr>\n",
       "      <th></th>\n",
       "      <th>MPG_Highway</th>\n",
       "    </tr>\n",
       "    <tr>\n",
       "      <th></th>\n",
       "      <th>skew</th>\n",
       "    </tr>\n",
       "    <tr>\n",
       "      <th>Type</th>\n",
       "      <th></th>\n",
       "    </tr>\n",
       "  </thead>\n",
       "  <tbody>\n",
       "    <tr>\n",
       "      <th>Hybrid</th>\n",
       "      <td>1.732051</td>\n",
       "    </tr>\n",
       "    <tr>\n",
       "      <th>SUV</th>\n",
       "      <td>-0.092010</td>\n",
       "    </tr>\n",
       "    <tr>\n",
       "      <th>Sedan</th>\n",
       "      <td>0.868112</td>\n",
       "    </tr>\n",
       "    <tr>\n",
       "      <th>Sports</th>\n",
       "      <td>0.133526</td>\n",
       "    </tr>\n",
       "    <tr>\n",
       "      <th>Truck</th>\n",
       "      <td>1.053521</td>\n",
       "    </tr>\n",
       "    <tr>\n",
       "      <th>Wagon</th>\n",
       "      <td>0.172176</td>\n",
       "    </tr>\n",
       "  </tbody>\n",
       "</table>\n",
       "</div>"
      ],
      "text/plain": [
       "       MPG_Highway\n",
       "              skew\n",
       "Type              \n",
       "Hybrid    1.732051\n",
       "SUV      -0.092010\n",
       "Sedan     0.868112\n",
       "Sports    0.133526\n",
       "Truck     1.053521\n",
       "Wagon     0.172176"
      ]
     },
     "execution_count": 95,
     "metadata": {},
     "output_type": "execute_result"
    }
   ],
   "source": [
    "df.groupby('Type').agg({'MPG_Highway': ['skew']})"
   ]
  },
  {
   "cell_type": "code",
   "execution_count": 97,
   "id": "42a9e092-ecd4-44da-a08f-878acf08791a",
   "metadata": {},
   "outputs": [
    {
     "data": {
      "text/html": [
       "<div>\n",
       "<style scoped>\n",
       "    .dataframe tbody tr th:only-of-type {\n",
       "        vertical-align: middle;\n",
       "    }\n",
       "\n",
       "    .dataframe tbody tr th {\n",
       "        vertical-align: top;\n",
       "    }\n",
       "\n",
       "    .dataframe thead tr th {\n",
       "        text-align: left;\n",
       "    }\n",
       "\n",
       "    .dataframe thead tr:last-of-type th {\n",
       "        text-align: right;\n",
       "    }\n",
       "</style>\n",
       "<table border=\"1\" class=\"dataframe\">\n",
       "  <thead>\n",
       "    <tr>\n",
       "      <th></th>\n",
       "      <th>MPG_City</th>\n",
       "    </tr>\n",
       "    <tr>\n",
       "      <th></th>\n",
       "      <th>skew</th>\n",
       "    </tr>\n",
       "    <tr>\n",
       "      <th>Type</th>\n",
       "      <th></th>\n",
       "    </tr>\n",
       "  </thead>\n",
       "  <tbody>\n",
       "    <tr>\n",
       "      <th>Hybrid</th>\n",
       "      <td>-1.700162</td>\n",
       "    </tr>\n",
       "    <tr>\n",
       "      <th>SUV</th>\n",
       "      <td>0.213397</td>\n",
       "    </tr>\n",
       "    <tr>\n",
       "      <th>Sedan</th>\n",
       "      <td>1.295706</td>\n",
       "    </tr>\n",
       "    <tr>\n",
       "      <th>Sports</th>\n",
       "      <td>0.315533</td>\n",
       "    </tr>\n",
       "    <tr>\n",
       "      <th>Truck</th>\n",
       "      <td>1.270642</td>\n",
       "    </tr>\n",
       "    <tr>\n",
       "      <th>Wagon</th>\n",
       "      <td>0.687101</td>\n",
       "    </tr>\n",
       "  </tbody>\n",
       "</table>\n",
       "</div>"
      ],
      "text/plain": [
       "        MPG_City\n",
       "            skew\n",
       "Type            \n",
       "Hybrid -1.700162\n",
       "SUV     0.213397\n",
       "Sedan   1.295706\n",
       "Sports  0.315533\n",
       "Truck   1.270642\n",
       "Wagon   0.687101"
      ]
     },
     "execution_count": 97,
     "metadata": {},
     "output_type": "execute_result"
    }
   ],
   "source": [
    "df.groupby('Type').agg({'MPG_City': ['skew']})"
   ]
  },
  {
   "cell_type": "markdown",
   "id": "64998469-cfe4-48e0-9623-4bec6251e7c4",
   "metadata": {},
   "source": [
    "# AGGREGATE ALL THE FORMULAS/ CODE IN FULL"
   ]
  },
  {
   "cell_type": "markdown",
   "id": "c3b5854d-68e9-4bbe-8eb8-1b5abba59703",
   "metadata": {},
   "source": [
    "# Calculate all measures for MSRP"
   ]
  },
  {
   "cell_type": "code",
   "execution_count": 24,
   "id": "adf31281-6aa6-4208-88a3-e68e67c99be0",
   "metadata": {},
   "outputs": [],
   "source": [
    "mct = df['MSRP'].count()\n",
    "msum = df['MSRP'].sum()\n",
    "mmean = df['MSRP'].mean()\n",
    "msd = df['MSRP'].std()\n",
    "mmin = df['MSRP'].min()\n",
    "mq1 = df['MSRP'].quantile(0.25)\n",
    "mmid = df['MSRP'].median()\n",
    "mq3 = df['MSRP'].quantile(0.75)\n",
    "mmax = df['MSRP'].max()\n",
    "mran = df['MSRP'].max() - df['MSRP'].min()\n",
    "miqr = df['MSRP'].quantile(0.75) - df['MSRP'].quantile(0.25)\n",
    "mlow = df['MSRP'].quantile(0.25) - (1.5 * (df['MSRP'].quantile(0.75) - df['MSRP'].quantile(0.25)))\n",
    "mup = df['MSRP'].quantile(0.75) + (1.5 * (df['MSRP'].quantile(0.75) - df['MSRP'].quantile(0.25)))\n",
    "mvar = df['MSRP'].var()\n",
    "mcoff = df['MSRP'].std() / df['MSRP'].mean() * 100\n",
    "mskew = df['MSRP'].skew()\n",
    "mkurt = df['MSRP'].kurtosis()"
   ]
  },
  {
   "cell_type": "markdown",
   "id": "644d6dd8-6476-4762-b96b-989c81bb0d7e",
   "metadata": {},
   "source": [
    "# Calculate all measures for Weight"
   ]
  },
  {
   "cell_type": "code",
   "execution_count": 25,
   "id": "f8400880-c896-4e36-84cb-f263909ca603",
   "metadata": {},
   "outputs": [],
   "source": [
    "wct = df['Weight'].count()\n",
    "wsum = df['Weight'].sum()\n",
    "wmean = df['Weight'].mean()\n",
    "wsd = df['Weight'].std()\n",
    "wmin = df['Weight'].min()\n",
    "wq1 = df['Weight'].quantile(0.25)\n",
    "wmid = df['Weight'].median()\n",
    "wq3 = df['Weight'].quantile(0.75)\n",
    "wmax = df['Weight'].max()\n",
    "wran = df['Weight'].max() - df['Weight'].min()\n",
    "wiqr = df['Weight'].quantile(0.75) - df['Weight'].quantile(0.25)\n",
    "wlow = df['Weight'].quantile(0.25) - (1.5 * (df['Weight'].quantile(0.75) - df['Weight'].quantile(0.25)))\n",
    "wup = df['Weight'].quantile(0.75) + (1.5 * (df['Weight'].quantile(0.75) - df['Weight'].quantile(0.25)))\n",
    "wvar = df['Weight'].var()\n",
    "wcoff = df['Weight'].std() / df['Weight'].mean() * 100\n",
    "wskew = df['Weight'].skew()\n",
    "wkurt = df['Weight'].kurtosis()"
   ]
  },
  {
   "cell_type": "code",
   "execution_count": 33,
   "id": "e806f7fe-e95c-4673-9f10-95a0a1b93917",
   "metadata": {},
   "outputs": [
    {
     "name": "stdout",
     "output_type": "stream",
     "text": [
      "428\n",
      "14027638\n",
      "32774.85514018692\n",
      "19431.716673717518\n",
      "10280\n",
      "20334.25\n",
      "27635.0\n",
      "39205.0\n",
      "192465\n",
      "182185\n",
      "18870.75\n",
      "-7971.875\n",
      "67511.125\n",
      "377591612.88763136\n",
      "59.28848988226739\n",
      "2.7980992746701707\n",
      "13.879205524289228\n"
     ]
    }
   ],
   "source": [
    "print(mct)\n",
    "print(msum)\n",
    "print(mmean)\n",
    "print(msd)\n",
    "print(mmin)\n",
    "print(mq1)\n",
    "print(mmid)\n",
    "print(mq3)\n",
    "print(mmax)\n",
    "print(mran)\n",
    "print(miqr)\n",
    "print(mlow)\n",
    "print(mup)\n",
    "print(mvar)\n",
    "print(mcoff)\n",
    "print(mskew)\n",
    "print(mkurt)"
   ]
  },
  {
   "cell_type": "code",
   "execution_count": 34,
   "id": "95d0f90f-aa14-46d4-ad20-af2775d925a1",
   "metadata": {},
   "outputs": [
    {
     "name": "stdout",
     "output_type": "stream",
     "text": [
      "428\n",
      "1531364\n",
      "3577.9532710280373\n",
      "758.9832146098709\n",
      "1850\n",
      "3104.0\n",
      "3474.5\n",
      "3977.75\n",
      "7190\n",
      "5340\n",
      "873.75\n",
      "1793.375\n",
      "5288.375\n",
      "576055.5200595333\n",
      "21.212776051482518\n",
      "0.8918242317694193\n",
      "1.68878852562616\n"
     ]
    }
   ],
   "source": [
    "print(wct)\n",
    "print(wsum)\n",
    "print(wmean)\n",
    "print(wsd)\n",
    "print(wmin)\n",
    "print(wq1)\n",
    "print(wmid)\n",
    "print(wq3)\n",
    "print(wmax)\n",
    "print(wran)\n",
    "print(wiqr)\n",
    "print(wlow)\n",
    "print(wup)\n",
    "print(wvar)\n",
    "print(wcoff)\n",
    "print(wskew)\n",
    "print(wkurt)"
   ]
  },
  {
   "cell_type": "code",
   "execution_count": 35,
   "id": "5b615043-9dd3-420c-866f-a80e7025d58c",
   "metadata": {},
   "outputs": [
    {
     "data": {
      "text/html": [
       "<div>\n",
       "<style scoped>\n",
       "    .dataframe tbody tr th:only-of-type {\n",
       "        vertical-align: middle;\n",
       "    }\n",
       "\n",
       "    .dataframe tbody tr th {\n",
       "        vertical-align: top;\n",
       "    }\n",
       "\n",
       "    .dataframe thead th {\n",
       "        text-align: right;\n",
       "    }\n",
       "</style>\n",
       "<table border=\"1\" class=\"dataframe\">\n",
       "  <thead>\n",
       "    <tr style=\"text-align: right;\">\n",
       "      <th></th>\n",
       "      <th>Metric</th>\n",
       "      <th>MSRP</th>\n",
       "      <th>Weight</th>\n",
       "    </tr>\n",
       "  </thead>\n",
       "  <tbody>\n",
       "    <tr>\n",
       "      <th>0</th>\n",
       "      <td>ct</td>\n",
       "      <td>428</td>\n",
       "      <td>428</td>\n",
       "    </tr>\n",
       "    <tr>\n",
       "      <th>1</th>\n",
       "      <td>sum</td>\n",
       "      <td>14027638</td>\n",
       "      <td>1531364</td>\n",
       "    </tr>\n",
       "    <tr>\n",
       "      <th>2</th>\n",
       "      <td>mean</td>\n",
       "      <td>32774.85514</td>\n",
       "      <td>3577.953271</td>\n",
       "    </tr>\n",
       "    <tr>\n",
       "      <th>3</th>\n",
       "      <td>sd</td>\n",
       "      <td>19431.716674</td>\n",
       "      <td>758.983215</td>\n",
       "    </tr>\n",
       "    <tr>\n",
       "      <th>4</th>\n",
       "      <td>min</td>\n",
       "      <td>10280</td>\n",
       "      <td>1850</td>\n",
       "    </tr>\n",
       "    <tr>\n",
       "      <th>5</th>\n",
       "      <td>q1</td>\n",
       "      <td>20334.25</td>\n",
       "      <td>3104.0</td>\n",
       "    </tr>\n",
       "    <tr>\n",
       "      <th>6</th>\n",
       "      <td>mid</td>\n",
       "      <td>27635.0</td>\n",
       "      <td>3474.5</td>\n",
       "    </tr>\n",
       "    <tr>\n",
       "      <th>7</th>\n",
       "      <td>q3</td>\n",
       "      <td>39205.0</td>\n",
       "      <td>3977.75</td>\n",
       "    </tr>\n",
       "    <tr>\n",
       "      <th>8</th>\n",
       "      <td>max</td>\n",
       "      <td>192465</td>\n",
       "      <td>7190</td>\n",
       "    </tr>\n",
       "    <tr>\n",
       "      <th>9</th>\n",
       "      <td>ran</td>\n",
       "      <td>182185</td>\n",
       "      <td>5340</td>\n",
       "    </tr>\n",
       "    <tr>\n",
       "      <th>10</th>\n",
       "      <td>iqr</td>\n",
       "      <td>18870.75</td>\n",
       "      <td>873.75</td>\n",
       "    </tr>\n",
       "    <tr>\n",
       "      <th>11</th>\n",
       "      <td>low</td>\n",
       "      <td>-7971.875</td>\n",
       "      <td>1793.375</td>\n",
       "    </tr>\n",
       "    <tr>\n",
       "      <th>12</th>\n",
       "      <td>up</td>\n",
       "      <td>67511.125</td>\n",
       "      <td>5288.375</td>\n",
       "    </tr>\n",
       "    <tr>\n",
       "      <th>13</th>\n",
       "      <td>var</td>\n",
       "      <td>377591612.887631</td>\n",
       "      <td>576055.52006</td>\n",
       "    </tr>\n",
       "    <tr>\n",
       "      <th>14</th>\n",
       "      <td>coff</td>\n",
       "      <td>59.28849</td>\n",
       "      <td>21.212776</td>\n",
       "    </tr>\n",
       "    <tr>\n",
       "      <th>15</th>\n",
       "      <td>skew</td>\n",
       "      <td>2.798099</td>\n",
       "      <td>0.891824</td>\n",
       "    </tr>\n",
       "    <tr>\n",
       "      <th>16</th>\n",
       "      <td>kurt</td>\n",
       "      <td>13.879206</td>\n",
       "      <td>1.688789</td>\n",
       "    </tr>\n",
       "  </tbody>\n",
       "</table>\n",
       "</div>"
      ],
      "text/plain": [
       "   Metric              MSRP        Weight\n",
       "0      ct               428           428\n",
       "1     sum          14027638       1531364\n",
       "2    mean       32774.85514   3577.953271\n",
       "3      sd      19431.716674    758.983215\n",
       "4     min             10280          1850\n",
       "5      q1          20334.25        3104.0\n",
       "6     mid           27635.0        3474.5\n",
       "7      q3           39205.0       3977.75\n",
       "8     max            192465          7190\n",
       "9     ran            182185          5340\n",
       "10    iqr          18870.75        873.75\n",
       "11    low         -7971.875      1793.375\n",
       "12     up         67511.125      5288.375\n",
       "13    var  377591612.887631  576055.52006\n",
       "14   coff          59.28849     21.212776\n",
       "15   skew          2.798099      0.891824\n",
       "16   kurt         13.879206      1.688789"
      ]
     },
     "execution_count": 35,
     "metadata": {},
     "output_type": "execute_result"
    }
   ],
   "source": [
    "Metric = [\"ct\",\"sum\",\"mean\",\"sd\",\"min\",\"q1\",\"mid\",\"q3\",\"max\",\"ran\",\"iqr\",\"low\",\"up\",\"var\",\"coff\",\"skew\",\"kurt\"]\n",
    "MSRP = [428,14027638,32774.85514018692,19431.716673717518,10280,20334.25,27635.0,39205.0,192465,182185,18870.75,-7971.875,67511.125,377591612.88763136,59.28848988226739,2.7980992746701707,13.879205524289228]\n",
    "Weight = [428,1531364,3577.9532710280373,758.9832146098709,1850,3104.0,3474.5,3977.75,7190,5340,873.75,1793.375,5288.375,576055.5200595333,21.212776051482518,0.8918242317694193,1.68878852562616]\n",
    "data = pd.DataFrame([Metric, MSRP, Weight]) # Each list would be added as a row\n",
    "data = data.transpose() # To Transpose and make each rows as columns\n",
    "data.columns = ['Metric', 'MSRP', 'Weight'] # Rename the columns\n",
    "data"
   ]
  },
  {
   "cell_type": "markdown",
   "id": "7ae6280f-7856-474b-842c-48ca6971f9a9",
   "metadata": {},
   "source": [
    "# PLOTTING A GRAPH TO IDENTIFY SKEWNESS"
   ]
  },
  {
   "cell_type": "code",
   "execution_count": 8,
   "id": "6e063009-9aad-4529-9b6d-069c202b9f8d",
   "metadata": {},
   "outputs": [],
   "source": [
    "import matplotlib.pyplot as plt\n",
    "import seaborn as sns"
   ]
  },
  {
   "cell_type": "code",
   "execution_count": 9,
   "id": "feff9138-6a7c-4c71-8607-65813657dedf",
   "metadata": {},
   "outputs": [
    {
     "name": "stderr",
     "output_type": "stream",
     "text": [
      "C:\\Users\\abrahamp\\AppData\\Local\\Temp\\ipykernel_11868\\2434166486.py:1: UserWarning: \n",
      "\n",
      "`distplot` is a deprecated function and will be removed in seaborn v0.14.0.\n",
      "\n",
      "Please adapt your code to use either `displot` (a figure-level function with\n",
      "similar flexibility) or `histplot` (an axes-level function for histograms).\n",
      "\n",
      "For a guide to updating your code to use the new functions, please see\n",
      "https://gist.github.com/mwaskom/de44147ed2974457ad6372750bbe5751\n",
      "\n",
      "  sns.distplot(df['MSRP'], kde=True, bins=7)\n"
     ]
    },
    {
     "data": {
      "image/png": "[encoded data removed]",
      "text/plain": [
       "<Figure size 640x480 with 1 Axes>"
      ]
     },
     "metadata": {},
     "output_type": "display_data"
    }
   ],
   "source": [
    "sns.distplot(df['MSRP'], kde=True, bins=7)\n",
    "plt.show()"
   ]
  },
  {
   "cell_type": "code",
   "execution_count": 10,
   "id": "6505b15d-375c-4689-a0b6-a42357ad7a48",
   "metadata": {},
   "outputs": [
    {
     "name": "stderr",
     "output_type": "stream",
     "text": [
      "C:\\Users\\abrahamp\\AppData\\Local\\Temp\\ipykernel_11868\\3731610503.py:1: UserWarning: \n",
      "\n",
      "`distplot` is a deprecated function and will be removed in seaborn v0.14.0.\n",
      "\n",
      "Please adapt your code to use either `displot` (a figure-level function with\n",
      "similar flexibility) or `histplot` (an axes-level function for histograms).\n",
      "\n",
      "For a guide to updating your code to use the new functions, please see\n",
      "https://gist.github.com/mwaskom/de44147ed2974457ad6372750bbe5751\n",
      "\n",
      "  sns.distplot(df['Weight'], kde=True, bins=7)\n"
     ]
    },
    {
     "data": {
      "image/png": "[encoded data removed]",
      "text/plain": [
       "<Figure size 640x480 with 1 Axes>"
      ]
     },
     "metadata": {},
     "output_type": "display_data"
    }
   ],
   "source": [
    "sns.distplot(df['Weight'], kde=True, bins=7)\n",
    "plt.show()"
   ]
  },
  {
   "cell_type": "code",
   "execution_count": 11,
   "id": "2a642916-0cd1-41bc-af24-f542a00e2b5f",
   "metadata": {},
   "outputs": [
    {
     "name": "stderr",
     "output_type": "stream",
     "text": [
      "C:\\Users\\abrahamp\\AppData\\Local\\Temp\\ipykernel_11868\\2189824012.py:1: UserWarning: \n",
      "\n",
      "`distplot` is a deprecated function and will be removed in seaborn v0.14.0.\n",
      "\n",
      "Please adapt your code to use either `displot` (a figure-level function with\n",
      "similar flexibility) or `histplot` (an axes-level function for histograms).\n",
      "\n",
      "For a guide to updating your code to use the new functions, please see\n",
      "https://gist.github.com/mwaskom/de44147ed2974457ad6372750bbe5751\n",
      "\n",
      "  sns.distplot(df['MPG_City'], kde=True, bins=9)\n"
     ]
    },
    {
     "data": {
      "image/png": "[encoded data removed]",
      "text/plain": [
       "<Figure size 640x480 with 1 Axes>"
      ]
     },
     "metadata": {},
     "output_type": "display_data"
    }
   ],
   "source": [
    "sns.distplot(df['MPG_City'], kde=True, bins=9)\n",
    "plt.show()"
   ]
  },
  {
   "cell_type": "markdown",
   "id": "44128e3c-bc72-491e-b2c8-a5004719d9a5",
   "metadata": {},
   "source": [
    "# Analysis/ Observations for this project"
   ]
  },
  {
   "cell_type": "code",
   "execution_count": null,
   "id": "0ecbc2d9-23e4-4337-a93d-1037c2e6ae10",
   "metadata": {},
   "outputs": [],
   "source": []
  }
 ],
 "metadata": {
  "kernelspec": {
   "display_name": "Python [conda env:base] *",
   "language": "python",
   "name": "conda-base-py"
  },
  "language_info": {
   "codemirror_mode": {
    "name": "ipython",
    "version": 3
   },
   "file_extension": ".py",
   "mimetype": "text/x-python",
   "name": "python",
   "nbconvert_exporter": "python",
   "pygments_lexer": "ipython3",
   "version": "3.12.7"
  }
 },
 "nbformat": 4,
 "nbformat_minor": 5
}
