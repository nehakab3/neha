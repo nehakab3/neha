{
 "cells": [
  {
   "cell_type": "raw",
   "id": "a4ebebfc-3d85-4671-b7c0-2e2790529907",
   "metadata": {},
   "source": [
    "# Business Problem: \n",
    "# A Large Retailer is selling Home Improvement products. In 2016 they had a significant year where they opened 8 stores and opened stores across different formats too. \n",
    "# Time Series data (weekly) like Sales, Temperature, Holidays, Formats, Shortage (stock outs) is given to us for a detailed analysis. \n",
    "# The management seeks to understand \"what is driving Sales?\" – from all these factors given above what are driving Sales or influencing them. As a Business Analyst please help the management with this project."
   ]
  },
  {
   "cell_type": "markdown",
   "id": "37fe4dfa-944b-4100-891d-d9b5d99f7a57",
   "metadata": {},
   "source": [
    "# Data Problem: (Questions asked by the management)"
   ]
  },
  {
   "cell_type": "raw",
   "id": "1cfdf386-4d92-4e04-9123-ed90d33507bf",
   "metadata": {},
   "source": [
    "1. Create a complete dataset from the 2 pieces of data given to you\n",
    "2. Check if the values in the dataset are correct?\n",
    "3. Are there NULLS? How to treat them?\n",
    "4. Publish a table for Average weekly Rain by City & Region\n",
    "5. Which City is the Hottest? (Hint: plot using a graph)\n",
    "6. Where are we seeing the maximum/ minimum shortages? (Hint: Analyze using SQC by formats)\n",
    "7. In terms of average sales, which format is better? (Hint: include Shortage in Sales)\n",
    "8. What is the Sales trend by weeks across formats? (Hint: plot using a graph)\n",
    "9. Is Sales Correlated to any of the variables? What is influencing Sales?\n",
    "10. Comment on the performance of each store? What actions could the management of each store take? (Hint: Measures of Central Tendency, Dispersion, Shape)"
   ]
  },
  {
   "cell_type": "code",
   "execution_count": 55,
   "id": "f7c8e9e1-3106-4955-abc1-962253fa4a30",
   "metadata": {},
   "outputs": [],
   "source": [
    "# importing Libraries\n",
    "import pandas as pd\n",
    "import numpy as np\n",
    "import matplotlib.pyplot as plt\n",
    "import seaborn as sns\n",
    "import warnings\n",
    "warnings.filterwarnings('ignore')"
   ]
  },
  {
   "cell_type": "code",
   "execution_count": 56,
   "id": "4607f7f3-029d-429b-b7a0-be7a6eccc774",
   "metadata": {},
   "outputs": [],
   "source": [
    "#display two decimal places\n",
    "pd.options.display.float_format = '{:.2f}'.format"
   ]
  },
  {
   "cell_type": "code",
   "execution_count": 57,
   "id": "150bc94c-4525-4720-9c4e-a5e752598372",
   "metadata": {},
   "outputs": [
    {
     "data": {
      "text/plain": [
       "(416, 12)"
      ]
     },
     "execution_count": 57,
     "metadata": {},
     "output_type": "execute_result"
    }
   ],
   "source": [
    "#IMPORTING DATA FROM EXCEL - Sheet1\n",
    "df = pd.read_excel(r'C:\\Users\\abrahamp\\OneDrive - Hewlett Packard Enterprise\\Documents\\Personal Stuff\\Class Notes\\Data Science Course\\Python for Data Science\\edaretail.xlsx', sheet_name = 'Data1')\n",
    "df.shape"
   ]
  },
  {
   "cell_type": "code",
   "execution_count": 58,
   "id": "a6659318-6c7d-4f35-af82-fe1be6e7ddce",
   "metadata": {},
   "outputs": [
    {
     "data": {
      "text/plain": [
       "(8, 5)"
      ]
     },
     "execution_count": 58,
     "metadata": {},
     "output_type": "execute_result"
    }
   ],
   "source": [
    "#IMPORTING DATA FROM EXCEL - Sheet1\n",
    "df1 = pd.read_excel(r'C:\\Users\\abrahamp\\OneDrive - Hewlett Packard Enterprise\\Documents\\Personal Stuff\\Class Notes\\Data Science Course\\Python for Data Science\\edaretail.xlsx', sheet_name = 'Data2')\n",
    "df1.shape"
   ]
  },
  {
   "cell_type": "code",
   "execution_count": 59,
   "id": "795d6c69-f01c-48e8-9a58-e0ecf576bb42",
   "metadata": {},
   "outputs": [
    {
     "data": {
      "text/html": [
       "<div>\n",
       "<style scoped>\n",
       "    .dataframe tbody tr th:only-of-type {\n",
       "        vertical-align: middle;\n",
       "    }\n",
       "\n",
       "    .dataframe tbody tr th {\n",
       "        vertical-align: top;\n",
       "    }\n",
       "\n",
       "    .dataframe thead th {\n",
       "        text-align: right;\n",
       "    }\n",
       "</style>\n",
       "<table border=\"1\" class=\"dataframe\">\n",
       "  <thead>\n",
       "    <tr style=\"text-align: right;\">\n",
       "      <th></th>\n",
       "      <th>YEAR</th>\n",
       "      <th>WEEK</th>\n",
       "      <th>RS_SALES</th>\n",
       "      <th>POPULATION</th>\n",
       "      <th>UNIT_SALES</th>\n",
       "      <th>Sales/ Unit</th>\n",
       "      <th>STORE_NO</th>\n",
       "      <th>SPECIAL</th>\n",
       "      <th>WEEK_MAX_TEMP</th>\n",
       "      <th>WEEK_MIN_TEMP</th>\n",
       "      <th>RAIN_MM</th>\n",
       "      <th>SHORTAGE</th>\n",
       "    </tr>\n",
       "  </thead>\n",
       "  <tbody>\n",
       "    <tr>\n",
       "      <th>0</th>\n",
       "      <td>2016</td>\n",
       "      <td>23</td>\n",
       "      <td>155438.16</td>\n",
       "      <td>127905.30</td>\n",
       "      <td>3487.00</td>\n",
       "      <td>44.61</td>\n",
       "      <td>21006</td>\n",
       "      <td>NORMAL</td>\n",
       "      <td>19.90</td>\n",
       "      <td>16.90</td>\n",
       "      <td>1.14</td>\n",
       "      <td>4.20</td>\n",
       "    </tr>\n",
       "    <tr>\n",
       "      <th>1</th>\n",
       "      <td>2016</td>\n",
       "      <td>3</td>\n",
       "      <td>101326.24</td>\n",
       "      <td>116382.30</td>\n",
       "      <td>2738.00</td>\n",
       "      <td>37.06</td>\n",
       "      <td>21006</td>\n",
       "      <td>NORMAL</td>\n",
       "      <td>8.00</td>\n",
       "      <td>3.22</td>\n",
       "      <td>0.07</td>\n",
       "      <td>9.40</td>\n",
       "    </tr>\n",
       "  </tbody>\n",
       "</table>\n",
       "</div>"
      ],
      "text/plain": [
       "   YEAR  WEEK  RS_SALES  POPULATION  UNIT_SALES  Sales/ Unit  STORE_NO  \\\n",
       "0  2016    23 155438.16   127905.30     3487.00        44.61     21006   \n",
       "1  2016     3 101326.24   116382.30     2738.00        37.06     21006   \n",
       "\n",
       "  SPECIAL  WEEK_MAX_TEMP  WEEK_MIN_TEMP  RAIN_MM  SHORTAGE  \n",
       "0  NORMAL          19.90          16.90     1.14      4.20  \n",
       "1  NORMAL           8.00           3.22     0.07      9.40  "
      ]
     },
     "execution_count": 59,
     "metadata": {},
     "output_type": "execute_result"
    }
   ],
   "source": [
    "df.head(2)"
   ]
  },
  {
   "cell_type": "code",
   "execution_count": 60,
   "id": "7d700937-266c-4f48-a490-8beeda03e967",
   "metadata": {},
   "outputs": [
    {
     "name": "stdout",
     "output_type": "stream",
     "text": [
      "YEAR             0\n",
      "WEEK             0\n",
      "RS_SALES         0\n",
      "POPULATION       0\n",
      "UNIT_SALES       3\n",
      "Sales/ Unit      0\n",
      "STORE_NO         0\n",
      "SPECIAL          0\n",
      "WEEK_MAX_TEMP    0\n",
      "WEEK_MIN_TEMP    0\n",
      "RAIN_MM          0\n",
      "SHORTAGE         0\n",
      "dtype: int64\n",
      "3\n"
     ]
    }
   ],
   "source": [
    "print(df.isna().sum())\n",
    "print(df.isnull().sum().sum())"
   ]
  },
  {
   "cell_type": "code",
   "execution_count": 61,
   "id": "027a8160-9d35-4602-85ed-a46e60be3390",
   "metadata": {},
   "outputs": [
    {
     "data": {
      "text/html": [
       "<div>\n",
       "<style scoped>\n",
       "    .dataframe tbody tr th:only-of-type {\n",
       "        vertical-align: middle;\n",
       "    }\n",
       "\n",
       "    .dataframe tbody tr th {\n",
       "        vertical-align: top;\n",
       "    }\n",
       "\n",
       "    .dataframe thead th {\n",
       "        text-align: right;\n",
       "    }\n",
       "</style>\n",
       "<table border=\"1\" class=\"dataframe\">\n",
       "  <thead>\n",
       "    <tr style=\"text-align: right;\">\n",
       "      <th></th>\n",
       "      <th>STORE_NO</th>\n",
       "      <th>CITY</th>\n",
       "      <th>STATE</th>\n",
       "      <th>FORMAT</th>\n",
       "      <th>REGION</th>\n",
       "    </tr>\n",
       "  </thead>\n",
       "  <tbody>\n",
       "    <tr>\n",
       "      <th>0</th>\n",
       "      <td>21006</td>\n",
       "      <td>BHOPAL</td>\n",
       "      <td>MADHYAPRADESH</td>\n",
       "      <td>MEDIUMBOX</td>\n",
       "      <td>CENTRAL</td>\n",
       "    </tr>\n",
       "    <tr>\n",
       "      <th>1</th>\n",
       "      <td>21004</td>\n",
       "      <td>CHANDIGARH</td>\n",
       "      <td>PUNJAB</td>\n",
       "      <td>MEDIUMBOX</td>\n",
       "      <td>NORTH</td>\n",
       "    </tr>\n",
       "  </tbody>\n",
       "</table>\n",
       "</div>"
      ],
      "text/plain": [
       "   STORE_NO        CITY          STATE     FORMAT   REGION\n",
       "0     21006      BHOPAL  MADHYAPRADESH  MEDIUMBOX  CENTRAL\n",
       "1     21004  CHANDIGARH         PUNJAB  MEDIUMBOX    NORTH"
      ]
     },
     "execution_count": 61,
     "metadata": {},
     "output_type": "execute_result"
    }
   ],
   "source": [
    "df1.head(2)"
   ]
  },
  {
   "cell_type": "markdown",
   "id": "58f13c55-2fc4-4577-91cb-afa35378207a",
   "metadata": {},
   "source": [
    "# Create a complete dataset from the 2 pieces of data given to you"
   ]
  },
  {
   "cell_type": "code",
   "execution_count": 62,
   "id": "75b1177c-f774-4d54-a074-7dd9bff76987",
   "metadata": {},
   "outputs": [
    {
     "data": {
      "text/html": [
       "<div>\n",
       "<style scoped>\n",
       "    .dataframe tbody tr th:only-of-type {\n",
       "        vertical-align: middle;\n",
       "    }\n",
       "\n",
       "    .dataframe tbody tr th {\n",
       "        vertical-align: top;\n",
       "    }\n",
       "\n",
       "    .dataframe thead th {\n",
       "        text-align: right;\n",
       "    }\n",
       "</style>\n",
       "<table border=\"1\" class=\"dataframe\">\n",
       "  <thead>\n",
       "    <tr style=\"text-align: right;\">\n",
       "      <th></th>\n",
       "      <th>YEAR</th>\n",
       "      <th>WEEK</th>\n",
       "      <th>RS_SALES</th>\n",
       "      <th>POPULATION</th>\n",
       "      <th>UNIT_SALES</th>\n",
       "      <th>Sales/ Unit</th>\n",
       "      <th>STORE_NO</th>\n",
       "      <th>SPECIAL</th>\n",
       "      <th>WEEK_MAX_TEMP</th>\n",
       "      <th>WEEK_MIN_TEMP</th>\n",
       "      <th>RAIN_MM</th>\n",
       "      <th>SHORTAGE</th>\n",
       "      <th>CITY</th>\n",
       "      <th>STATE</th>\n",
       "      <th>FORMAT</th>\n",
       "      <th>REGION</th>\n",
       "    </tr>\n",
       "  </thead>\n",
       "  <tbody>\n",
       "    <tr>\n",
       "      <th>0</th>\n",
       "      <td>2016</td>\n",
       "      <td>23</td>\n",
       "      <td>155438.16</td>\n",
       "      <td>127905.30</td>\n",
       "      <td>3487.00</td>\n",
       "      <td>44.61</td>\n",
       "      <td>21006</td>\n",
       "      <td>NORMAL</td>\n",
       "      <td>19.90</td>\n",
       "      <td>16.90</td>\n",
       "      <td>1.14</td>\n",
       "      <td>4.20</td>\n",
       "      <td>BHOPAL</td>\n",
       "      <td>MADHYAPRADESH</td>\n",
       "      <td>MEDIUMBOX</td>\n",
       "      <td>CENTRAL</td>\n",
       "    </tr>\n",
       "    <tr>\n",
       "      <th>1</th>\n",
       "      <td>2016</td>\n",
       "      <td>3</td>\n",
       "      <td>101326.24</td>\n",
       "      <td>116382.30</td>\n",
       "      <td>2738.00</td>\n",
       "      <td>37.06</td>\n",
       "      <td>21006</td>\n",
       "      <td>NORMAL</td>\n",
       "      <td>8.00</td>\n",
       "      <td>3.22</td>\n",
       "      <td>0.07</td>\n",
       "      <td>9.40</td>\n",
       "      <td>BHOPAL</td>\n",
       "      <td>MADHYAPRADESH</td>\n",
       "      <td>MEDIUMBOX</td>\n",
       "      <td>CENTRAL</td>\n",
       "    </tr>\n",
       "    <tr>\n",
       "      <th>2</th>\n",
       "      <td>2016</td>\n",
       "      <td>7</td>\n",
       "      <td>159751.29</td>\n",
       "      <td>118686.90</td>\n",
       "      <td>3792.00</td>\n",
       "      <td>42.18</td>\n",
       "      <td>21006</td>\n",
       "      <td>VALENTINES</td>\n",
       "      <td>16.00</td>\n",
       "      <td>10.89</td>\n",
       "      <td>0.00</td>\n",
       "      <td>5.10</td>\n",
       "      <td>BHOPAL</td>\n",
       "      <td>MADHYAPRADESH</td>\n",
       "      <td>MEDIUMBOX</td>\n",
       "      <td>CENTRAL</td>\n",
       "    </tr>\n",
       "    <tr>\n",
       "      <th>3</th>\n",
       "      <td>2016</td>\n",
       "      <td>11</td>\n",
       "      <td>138065.81</td>\n",
       "      <td>120991.50</td>\n",
       "      <td>3324.00</td>\n",
       "      <td>41.61</td>\n",
       "      <td>21006</td>\n",
       "      <td>NORMAL</td>\n",
       "      <td>15.50</td>\n",
       "      <td>11.72</td>\n",
       "      <td>0.07</td>\n",
       "      <td>7.50</td>\n",
       "      <td>BHOPAL</td>\n",
       "      <td>MADHYAPRADESH</td>\n",
       "      <td>MEDIUMBOX</td>\n",
       "      <td>CENTRAL</td>\n",
       "    </tr>\n",
       "    <tr>\n",
       "      <th>4</th>\n",
       "      <td>2016</td>\n",
       "      <td>15</td>\n",
       "      <td>139496.81</td>\n",
       "      <td>123296.10</td>\n",
       "      <td>3375.00</td>\n",
       "      <td>41.42</td>\n",
       "      <td>21006</td>\n",
       "      <td>NORMAL</td>\n",
       "      <td>14.90</td>\n",
       "      <td>11.90</td>\n",
       "      <td>0.02</td>\n",
       "      <td>7.70</td>\n",
       "      <td>BHOPAL</td>\n",
       "      <td>MADHYAPRADESH</td>\n",
       "      <td>MEDIUMBOX</td>\n",
       "      <td>CENTRAL</td>\n",
       "    </tr>\n",
       "  </tbody>\n",
       "</table>\n",
       "</div>"
      ],
      "text/plain": [
       "   YEAR  WEEK  RS_SALES  POPULATION  UNIT_SALES  Sales/ Unit  STORE_NO  \\\n",
       "0  2016    23 155438.16   127905.30     3487.00        44.61     21006   \n",
       "1  2016     3 101326.24   116382.30     2738.00        37.06     21006   \n",
       "2  2016     7 159751.29   118686.90     3792.00        42.18     21006   \n",
       "3  2016    11 138065.81   120991.50     3324.00        41.61     21006   \n",
       "4  2016    15 139496.81   123296.10     3375.00        41.42     21006   \n",
       "\n",
       "      SPECIAL  WEEK_MAX_TEMP  WEEK_MIN_TEMP  RAIN_MM  SHORTAGE    CITY  \\\n",
       "0      NORMAL          19.90          16.90     1.14      4.20  BHOPAL   \n",
       "1      NORMAL           8.00           3.22     0.07      9.40  BHOPAL   \n",
       "2  VALENTINES          16.00          10.89     0.00      5.10  BHOPAL   \n",
       "3      NORMAL          15.50          11.72     0.07      7.50  BHOPAL   \n",
       "4      NORMAL          14.90          11.90     0.02      7.70  BHOPAL   \n",
       "\n",
       "           STATE     FORMAT   REGION  \n",
       "0  MADHYAPRADESH  MEDIUMBOX  CENTRAL  \n",
       "1  MADHYAPRADESH  MEDIUMBOX  CENTRAL  \n",
       "2  MADHYAPRADESH  MEDIUMBOX  CENTRAL  \n",
       "3  MADHYAPRADESH  MEDIUMBOX  CENTRAL  \n",
       "4  MADHYAPRADESH  MEDIUMBOX  CENTRAL  "
      ]
     },
     "execution_count": 62,
     "metadata": {},
     "output_type": "execute_result"
    }
   ],
   "source": [
    "#Since there are 2 sheets and a common column between them we can Vlookup/ use the merge function in Pandas\n",
    "dfn = pd.merge(df, df1, on ='STORE_NO', how ='left')\n",
    "dfn.head()"
   ]
  },
  {
   "cell_type": "markdown",
   "id": "deef8bb9-bb57-42a1-a98d-1f9d65ee1184",
   "metadata": {},
   "source": [
    "# Check if the values in the dataset are correct?"
   ]
  },
  {
   "cell_type": "code",
   "execution_count": 64,
   "id": "c86a005f-096e-4e41-820b-217305c6e5b2",
   "metadata": {},
   "outputs": [
    {
     "data": {
      "text/html": [
       "<div>\n",
       "<style scoped>\n",
       "    .dataframe tbody tr th:only-of-type {\n",
       "        vertical-align: middle;\n",
       "    }\n",
       "\n",
       "    .dataframe tbody tr th {\n",
       "        vertical-align: top;\n",
       "    }\n",
       "\n",
       "    .dataframe thead th {\n",
       "        text-align: right;\n",
       "    }\n",
       "</style>\n",
       "<table border=\"1\" class=\"dataframe\">\n",
       "  <thead>\n",
       "    <tr style=\"text-align: right;\">\n",
       "      <th></th>\n",
       "      <th>YEAR</th>\n",
       "      <th>WEEK</th>\n",
       "      <th>RS_SALES</th>\n",
       "      <th>POPULATION</th>\n",
       "      <th>UNIT_SALES</th>\n",
       "      <th>Sales/ Unit</th>\n",
       "      <th>STORE_NO</th>\n",
       "      <th>SPECIAL</th>\n",
       "      <th>WEEK_MAX_TEMP</th>\n",
       "      <th>WEEK_MIN_TEMP</th>\n",
       "      <th>RAIN_MM</th>\n",
       "      <th>SHORTAGE</th>\n",
       "      <th>CITY</th>\n",
       "      <th>STATE</th>\n",
       "      <th>FORMAT</th>\n",
       "      <th>REGION</th>\n",
       "    </tr>\n",
       "  </thead>\n",
       "  <tbody>\n",
       "    <tr>\n",
       "      <th>414</th>\n",
       "      <td>2016</td>\n",
       "      <td>1</td>\n",
       "      <td>1667374.67</td>\n",
       "      <td>565825.00</td>\n",
       "      <td>15659.00</td>\n",
       "      <td>106.48</td>\n",
       "      <td>21003</td>\n",
       "      <td>NEWYEAR</td>\n",
       "      <td>26.00</td>\n",
       "      <td>17.24</td>\n",
       "      <td>0.00</td>\n",
       "      <td>11.30</td>\n",
       "      <td>PUNE</td>\n",
       "      <td>MAHARASHTRA</td>\n",
       "      <td>MEGABOX</td>\n",
       "      <td>WEST</td>\n",
       "    </tr>\n",
       "    <tr>\n",
       "      <th>415</th>\n",
       "      <td>2016</td>\n",
       "      <td>49</td>\n",
       "      <td>769738.16</td>\n",
       "      <td>701623.00</td>\n",
       "      <td>16235.00</td>\n",
       "      <td>47.41</td>\n",
       "      <td>21003</td>\n",
       "      <td>NORMAL</td>\n",
       "      <td>25.12</td>\n",
       "      <td>16.33</td>\n",
       "      <td>6.23</td>\n",
       "      <td>9.00</td>\n",
       "      <td>PUNE</td>\n",
       "      <td>MAHARASHTRA</td>\n",
       "      <td>MEGABOX</td>\n",
       "      <td>WEST</td>\n",
       "    </tr>\n",
       "  </tbody>\n",
       "</table>\n",
       "</div>"
      ],
      "text/plain": [
       "     YEAR  WEEK   RS_SALES  POPULATION  UNIT_SALES  Sales/ Unit  STORE_NO  \\\n",
       "414  2016     1 1667374.67   565825.00    15659.00       106.48     21003   \n",
       "415  2016    49  769738.16   701623.00    16235.00        47.41     21003   \n",
       "\n",
       "     SPECIAL  WEEK_MAX_TEMP  WEEK_MIN_TEMP  RAIN_MM  SHORTAGE  CITY  \\\n",
       "414  NEWYEAR          26.00          17.24     0.00     11.30  PUNE   \n",
       "415   NORMAL          25.12          16.33     6.23      9.00  PUNE   \n",
       "\n",
       "           STATE   FORMAT REGION  \n",
       "414  MAHARASHTRA  MEGABOX   WEST  \n",
       "415  MAHARASHTRA  MEGABOX   WEST  "
      ]
     },
     "execution_count": 64,
     "metadata": {},
     "output_type": "execute_result"
    }
   ],
   "source": [
    "dfn.tail(2)"
   ]
  },
  {
   "cell_type": "code",
   "execution_count": 65,
   "id": "555dc983-5f73-41e4-b934-36e0e9e81052",
   "metadata": {},
   "outputs": [
    {
     "data": {
      "text/plain": [
       "769701.35"
      ]
     },
     "execution_count": 65,
     "metadata": {},
     "output_type": "execute_result"
    }
   ],
   "source": [
    "16235 * 47.41"
   ]
  },
  {
   "cell_type": "code",
   "execution_count": 66,
   "id": "5a084869-309b-4359-8671-88effc89da6a",
   "metadata": {},
   "outputs": [
    {
     "data": {
      "text/html": [
       "<div>\n",
       "<style scoped>\n",
       "    .dataframe tbody tr th:only-of-type {\n",
       "        vertical-align: middle;\n",
       "    }\n",
       "\n",
       "    .dataframe tbody tr th {\n",
       "        vertical-align: top;\n",
       "    }\n",
       "\n",
       "    .dataframe thead th {\n",
       "        text-align: right;\n",
       "    }\n",
       "</style>\n",
       "<table border=\"1\" class=\"dataframe\">\n",
       "  <thead>\n",
       "    <tr style=\"text-align: right;\">\n",
       "      <th></th>\n",
       "      <th>YEAR</th>\n",
       "      <th>WEEK</th>\n",
       "      <th>RS_SALES</th>\n",
       "      <th>POPULATION</th>\n",
       "      <th>UNIT_SALES</th>\n",
       "      <th>Sales/ Unit</th>\n",
       "      <th>STORE_NO</th>\n",
       "      <th>SPECIAL</th>\n",
       "      <th>WEEK_MAX_TEMP</th>\n",
       "      <th>WEEK_MIN_TEMP</th>\n",
       "      <th>RAIN_MM</th>\n",
       "      <th>SHORTAGE</th>\n",
       "      <th>CITY</th>\n",
       "      <th>STATE</th>\n",
       "      <th>FORMAT</th>\n",
       "      <th>REGION</th>\n",
       "    </tr>\n",
       "  </thead>\n",
       "  <tbody>\n",
       "    <tr>\n",
       "      <th>365</th>\n",
       "      <td>2016</td>\n",
       "      <td>33</td>\n",
       "      <td>652349.54</td>\n",
       "      <td>656357.00</td>\n",
       "      <td>14850.00</td>\n",
       "      <td>43.93</td>\n",
       "      <td>21003</td>\n",
       "      <td>NORMAL</td>\n",
       "      <td>21.89</td>\n",
       "      <td>17.11</td>\n",
       "      <td>3.41</td>\n",
       "      <td>12.00</td>\n",
       "      <td>PUNE</td>\n",
       "      <td>MAHARASHTRA</td>\n",
       "      <td>MEGABOX</td>\n",
       "      <td>WEST</td>\n",
       "    </tr>\n",
       "    <tr>\n",
       "      <th>356</th>\n",
       "      <td>2016</td>\n",
       "      <td>18</td>\n",
       "      <td>581053.22</td>\n",
       "      <td>455823.69</td>\n",
       "      <td>14044.00</td>\n",
       "      <td>41.37</td>\n",
       "      <td>21001</td>\n",
       "      <td>NORMAL</td>\n",
       "      <td>25.12</td>\n",
       "      <td>22.12</td>\n",
       "      <td>0.00</td>\n",
       "      <td>11.30</td>\n",
       "      <td>PANAJI</td>\n",
       "      <td>GOA</td>\n",
       "      <td>MEGABOX</td>\n",
       "      <td>WEST</td>\n",
       "    </tr>\n",
       "  </tbody>\n",
       "</table>\n",
       "</div>"
      ],
      "text/plain": [
       "     YEAR  WEEK  RS_SALES  POPULATION  UNIT_SALES  Sales/ Unit  STORE_NO  \\\n",
       "365  2016    33 652349.54   656357.00    14850.00        43.93     21003   \n",
       "356  2016    18 581053.22   455823.69    14044.00        41.37     21001   \n",
       "\n",
       "    SPECIAL  WEEK_MAX_TEMP  WEEK_MIN_TEMP  RAIN_MM  SHORTAGE    CITY  \\\n",
       "365  NORMAL          21.89          17.11     3.41     12.00    PUNE   \n",
       "356  NORMAL          25.12          22.12     0.00     11.30  PANAJI   \n",
       "\n",
       "           STATE   FORMAT REGION  \n",
       "365  MAHARASHTRA  MEGABOX   WEST  \n",
       "356          GOA  MEGABOX   WEST  "
      ]
     },
     "execution_count": 66,
     "metadata": {},
     "output_type": "execute_result"
    }
   ],
   "source": [
    "dfn['Sales/ Unit'] = dfn['RS_SALES'] / dfn['UNIT_SALES']\n",
    "dfn.sample(2)\n",
    "## mean for units_sales"
   ]
  },
  {
   "cell_type": "code",
   "execution_count": 69,
   "id": "249b8b89-5246-49da-87b1-5b2612b0ed7d",
   "metadata": {},
   "outputs": [
    {
     "data": {
      "text/plain": [
       "652349.54"
      ]
     },
     "execution_count": 69,
     "metadata": {},
     "output_type": "execute_result"
    }
   ],
   "source": [
    "14850 * 43.92926195286196"
   ]
  },
  {
   "cell_type": "code",
   "execution_count": 68,
   "id": "ccbf332d-c969-40e3-97ff-7f710d251c35",
   "metadata": {},
   "outputs": [
    {
     "data": {
      "text/plain": [
       "43.92926195286196"
      ]
     },
     "execution_count": 68,
     "metadata": {},
     "output_type": "execute_result"
    }
   ],
   "source": [
    "652349.54 / 14850"
   ]
  },
  {
   "cell_type": "markdown",
   "id": "887eb4b9-d1b3-466c-a318-1b4012ccf9ac",
   "metadata": {},
   "source": [
    "# Are there NULLS? How to treat them?"
   ]
  },
  {
   "cell_type": "code",
   "execution_count": 71,
   "id": "c97e8f9f-7d7c-4532-8ca0-9c298daf955d",
   "metadata": {},
   "outputs": [
    {
     "name": "stdout",
     "output_type": "stream",
     "text": [
      "YEAR             0\n",
      "WEEK             0\n",
      "RS_SALES         0\n",
      "POPULATION       0\n",
      "UNIT_SALES       3\n",
      "Sales/ Unit      3\n",
      "STORE_NO         0\n",
      "SPECIAL          0\n",
      "WEEK_MAX_TEMP    0\n",
      "WEEK_MIN_TEMP    0\n",
      "RAIN_MM          0\n",
      "SHORTAGE         0\n",
      "CITY             0\n",
      "STATE            0\n",
      "FORMAT           0\n",
      "REGION           0\n",
      "dtype: int64\n",
      "6\n"
     ]
    }
   ],
   "source": [
    "print(dfn.isna().sum())\n",
    "print(dfn.isnull().sum().sum())"
   ]
  },
  {
   "cell_type": "code",
   "execution_count": 72,
   "id": "bf990eeb-da6f-4c6c-a709-871c01241084",
   "metadata": {},
   "outputs": [
    {
     "data": {
      "text/html": [
       "<div>\n",
       "<style scoped>\n",
       "    .dataframe tbody tr th:only-of-type {\n",
       "        vertical-align: middle;\n",
       "    }\n",
       "\n",
       "    .dataframe tbody tr th {\n",
       "        vertical-align: top;\n",
       "    }\n",
       "\n",
       "    .dataframe thead th {\n",
       "        text-align: right;\n",
       "    }\n",
       "</style>\n",
       "<table border=\"1\" class=\"dataframe\">\n",
       "  <thead>\n",
       "    <tr style=\"text-align: right;\">\n",
       "      <th></th>\n",
       "      <th>YEAR</th>\n",
       "      <th>WEEK</th>\n",
       "      <th>RS_SALES</th>\n",
       "      <th>POPULATION</th>\n",
       "      <th>UNIT_SALES</th>\n",
       "      <th>Sales/ Unit</th>\n",
       "      <th>STORE_NO</th>\n",
       "      <th>SPECIAL</th>\n",
       "      <th>WEEK_MAX_TEMP</th>\n",
       "      <th>WEEK_MIN_TEMP</th>\n",
       "      <th>RAIN_MM</th>\n",
       "      <th>SHORTAGE</th>\n",
       "      <th>CITY</th>\n",
       "      <th>STATE</th>\n",
       "      <th>FORMAT</th>\n",
       "      <th>REGION</th>\n",
       "    </tr>\n",
       "  </thead>\n",
       "  <tbody>\n",
       "    <tr>\n",
       "      <th>15</th>\n",
       "      <td>2016</td>\n",
       "      <td>50</td>\n",
       "      <td>141143.79</td>\n",
       "      <td>143461.35</td>\n",
       "      <td>NaN</td>\n",
       "      <td>NaN</td>\n",
       "      <td>21006</td>\n",
       "      <td>NORMAL</td>\n",
       "      <td>21.00</td>\n",
       "      <td>17.22</td>\n",
       "      <td>0.17</td>\n",
       "      <td>8.00</td>\n",
       "      <td>BHOPAL</td>\n",
       "      <td>MADHYAPRADESH</td>\n",
       "      <td>MEDIUMBOX</td>\n",
       "      <td>CENTRAL</td>\n",
       "    </tr>\n",
       "    <tr>\n",
       "      <th>184</th>\n",
       "      <td>2016</td>\n",
       "      <td>44</td>\n",
       "      <td>27267.21</td>\n",
       "      <td>100481.00</td>\n",
       "      <td>NaN</td>\n",
       "      <td>NaN</td>\n",
       "      <td>21007</td>\n",
       "      <td>NORMAL</td>\n",
       "      <td>22.80</td>\n",
       "      <td>19.80</td>\n",
       "      <td>0.00</td>\n",
       "      <td>0.54</td>\n",
       "      <td>JAMSHEDPUR</td>\n",
       "      <td>JHARKHAND</td>\n",
       "      <td>MINIBOX</td>\n",
       "      <td>EAST</td>\n",
       "    </tr>\n",
       "    <tr>\n",
       "      <th>394</th>\n",
       "      <td>2016</td>\n",
       "      <td>18</td>\n",
       "      <td>605787.71</td>\n",
       "      <td>613920.12</td>\n",
       "      <td>NaN</td>\n",
       "      <td>NaN</td>\n",
       "      <td>21003</td>\n",
       "      <td>NORMAL</td>\n",
       "      <td>25.12</td>\n",
       "      <td>20.01</td>\n",
       "      <td>0.00</td>\n",
       "      <td>11.30</td>\n",
       "      <td>PUNE</td>\n",
       "      <td>MAHARASHTRA</td>\n",
       "      <td>MEGABOX</td>\n",
       "      <td>WEST</td>\n",
       "    </tr>\n",
       "  </tbody>\n",
       "</table>\n",
       "</div>"
      ],
      "text/plain": [
       "     YEAR  WEEK  RS_SALES  POPULATION  UNIT_SALES  Sales/ Unit  STORE_NO  \\\n",
       "15   2016    50 141143.79   143461.35         NaN          NaN     21006   \n",
       "184  2016    44  27267.21   100481.00         NaN          NaN     21007   \n",
       "394  2016    18 605787.71   613920.12         NaN          NaN     21003   \n",
       "\n",
       "    SPECIAL  WEEK_MAX_TEMP  WEEK_MIN_TEMP  RAIN_MM  SHORTAGE        CITY  \\\n",
       "15   NORMAL          21.00          17.22     0.17      8.00      BHOPAL   \n",
       "184  NORMAL          22.80          19.80     0.00      0.54  JAMSHEDPUR   \n",
       "394  NORMAL          25.12          20.01     0.00     11.30        PUNE   \n",
       "\n",
       "             STATE     FORMAT   REGION  \n",
       "15   MADHYAPRADESH  MEDIUMBOX  CENTRAL  \n",
       "184      JHARKHAND    MINIBOX     EAST  \n",
       "394    MAHARASHTRA    MEGABOX     WEST  "
      ]
     },
     "execution_count": 72,
     "metadata": {},
     "output_type": "execute_result"
    }
   ],
   "source": [
    "dfn.loc[dfn.isnull().any(axis=1)]"
   ]
  },
  {
   "cell_type": "code",
   "execution_count": 73,
   "id": "e86df856-85da-41a1-8e0f-1cc15f137927",
   "metadata": {},
   "outputs": [],
   "source": [
    "dfn['UNIT_SALES'].fillna(dfn['UNIT_SALES'].mean(), inplace=True)"
   ]
  },
  {
   "cell_type": "code",
   "execution_count": 74,
   "id": "e52fd0c0-31a5-4617-a17e-95d0d693a30a",
   "metadata": {},
   "outputs": [
    {
     "data": {
      "text/html": [
       "<div>\n",
       "<style scoped>\n",
       "    .dataframe tbody tr th:only-of-type {\n",
       "        vertical-align: middle;\n",
       "    }\n",
       "\n",
       "    .dataframe tbody tr th {\n",
       "        vertical-align: top;\n",
       "    }\n",
       "\n",
       "    .dataframe thead th {\n",
       "        text-align: right;\n",
       "    }\n",
       "</style>\n",
       "<table border=\"1\" class=\"dataframe\">\n",
       "  <thead>\n",
       "    <tr style=\"text-align: right;\">\n",
       "      <th></th>\n",
       "      <th>YEAR</th>\n",
       "      <th>WEEK</th>\n",
       "      <th>RS_SALES</th>\n",
       "      <th>POPULATION</th>\n",
       "      <th>UNIT_SALES</th>\n",
       "      <th>Sales/ Unit</th>\n",
       "      <th>STORE_NO</th>\n",
       "      <th>SPECIAL</th>\n",
       "      <th>WEEK_MAX_TEMP</th>\n",
       "      <th>WEEK_MIN_TEMP</th>\n",
       "      <th>RAIN_MM</th>\n",
       "      <th>SHORTAGE</th>\n",
       "      <th>CITY</th>\n",
       "      <th>STATE</th>\n",
       "      <th>FORMAT</th>\n",
       "      <th>REGION</th>\n",
       "    </tr>\n",
       "  </thead>\n",
       "  <tbody>\n",
       "    <tr>\n",
       "      <th>15</th>\n",
       "      <td>2016</td>\n",
       "      <td>50</td>\n",
       "      <td>141143.79</td>\n",
       "      <td>143461.35</td>\n",
       "      <td>6973.87</td>\n",
       "      <td>NaN</td>\n",
       "      <td>21006</td>\n",
       "      <td>NORMAL</td>\n",
       "      <td>21.00</td>\n",
       "      <td>17.22</td>\n",
       "      <td>0.17</td>\n",
       "      <td>8.00</td>\n",
       "      <td>BHOPAL</td>\n",
       "      <td>MADHYAPRADESH</td>\n",
       "      <td>MEDIUMBOX</td>\n",
       "      <td>CENTRAL</td>\n",
       "    </tr>\n",
       "    <tr>\n",
       "      <th>184</th>\n",
       "      <td>2016</td>\n",
       "      <td>44</td>\n",
       "      <td>27267.21</td>\n",
       "      <td>100481.00</td>\n",
       "      <td>6973.87</td>\n",
       "      <td>NaN</td>\n",
       "      <td>21007</td>\n",
       "      <td>NORMAL</td>\n",
       "      <td>22.80</td>\n",
       "      <td>19.80</td>\n",
       "      <td>0.00</td>\n",
       "      <td>0.54</td>\n",
       "      <td>JAMSHEDPUR</td>\n",
       "      <td>JHARKHAND</td>\n",
       "      <td>MINIBOX</td>\n",
       "      <td>EAST</td>\n",
       "    </tr>\n",
       "    <tr>\n",
       "      <th>394</th>\n",
       "      <td>2016</td>\n",
       "      <td>18</td>\n",
       "      <td>605787.71</td>\n",
       "      <td>613920.12</td>\n",
       "      <td>6973.87</td>\n",
       "      <td>NaN</td>\n",
       "      <td>21003</td>\n",
       "      <td>NORMAL</td>\n",
       "      <td>25.12</td>\n",
       "      <td>20.01</td>\n",
       "      <td>0.00</td>\n",
       "      <td>11.30</td>\n",
       "      <td>PUNE</td>\n",
       "      <td>MAHARASHTRA</td>\n",
       "      <td>MEGABOX</td>\n",
       "      <td>WEST</td>\n",
       "    </tr>\n",
       "  </tbody>\n",
       "</table>\n",
       "</div>"
      ],
      "text/plain": [
       "     YEAR  WEEK  RS_SALES  POPULATION  UNIT_SALES  Sales/ Unit  STORE_NO  \\\n",
       "15   2016    50 141143.79   143461.35     6973.87          NaN     21006   \n",
       "184  2016    44  27267.21   100481.00     6973.87          NaN     21007   \n",
       "394  2016    18 605787.71   613920.12     6973.87          NaN     21003   \n",
       "\n",
       "    SPECIAL  WEEK_MAX_TEMP  WEEK_MIN_TEMP  RAIN_MM  SHORTAGE        CITY  \\\n",
       "15   NORMAL          21.00          17.22     0.17      8.00      BHOPAL   \n",
       "184  NORMAL          22.80          19.80     0.00      0.54  JAMSHEDPUR   \n",
       "394  NORMAL          25.12          20.01     0.00     11.30        PUNE   \n",
       "\n",
       "             STATE     FORMAT   REGION  \n",
       "15   MADHYAPRADESH  MEDIUMBOX  CENTRAL  \n",
       "184      JHARKHAND    MINIBOX     EAST  \n",
       "394    MAHARASHTRA    MEGABOX     WEST  "
      ]
     },
     "execution_count": 74,
     "metadata": {},
     "output_type": "execute_result"
    }
   ],
   "source": [
    "dfn.loc[dfn.isnull().any(axis=1)]"
   ]
  },
  {
   "cell_type": "code",
   "execution_count": 75,
   "id": "3270759b-ee26-4f66-b3be-81b6be92bd2d",
   "metadata": {},
   "outputs": [],
   "source": [
    "dfn['Sales/ Unit'] = dfn['RS_SALES'] / dfn['UNIT_SALES']"
   ]
  },
  {
   "cell_type": "code",
   "execution_count": 1,
   "id": "75bbd682-df86-4975-be63-f9f583a4cd5b",
   "metadata": {},
   "outputs": [
    {
     "ename": "NameError",
     "evalue": "name 'dfn' is not defined",
     "output_type": "error",
     "traceback": [
      "\u001b[1;31m---------------------------------------------------------------------------\u001b[0m",
      "\u001b[1;31mNameError\u001b[0m                                 Traceback (most recent call last)",
      "Cell \u001b[1;32mIn[1], line 1\u001b[0m\n\u001b[1;32m----> 1\u001b[0m dfn\u001b[38;5;241m.\u001b[39mloc[dfn\u001b[38;5;241m.\u001b[39misnull()\u001b[38;5;241m.\u001b[39many(axis\u001b[38;5;241m=\u001b[39m\u001b[38;5;241m1\u001b[39m)]\n",
      "\u001b[1;31mNameError\u001b[0m: name 'dfn' is not defined"
     ]
    }
   ],
   "source": [
    "dfn.loc[dfn.isnull().any(axis=1)]"
   ]
  },
  {
   "cell_type": "markdown",
   "id": "a23186ff-8a0f-4822-9cf4-c598f0925063",
   "metadata": {},
   "source": [
    "# Publish a table for Average weekly Rain by City & Region"
   ]
  },
  {
   "cell_type": "code",
   "execution_count": 84,
   "id": "ddcb99f1-705c-449b-b5eb-638de11ce16b",
   "metadata": {},
   "outputs": [
    {
     "data": {
      "text/plain": [
       "CITY        REGION \n",
       "BHOPAL      CENTRAL   0.34\n",
       "CHANDIGARH  NORTH     0.55\n",
       "GURGAON     NORTH     0.18\n",
       "JAMSHEDPUR  EAST      2.33\n",
       "MUMBAI      WEST      1.19\n",
       "OOTY        SOUTH     3.28\n",
       "PANAJI      WEST      2.33\n",
       "PUNE        WEST      1.19\n",
       "Name: RAIN_MM, dtype: float64"
      ]
     },
     "execution_count": 84,
     "metadata": {},
     "output_type": "execute_result"
    }
   ],
   "source": [
    "rain = dfn.groupby(['CITY','REGION'])['RAIN_MM'].mean()\n",
    "rain"
   ]
  },
  {
   "cell_type": "code",
   "execution_count": 82,
   "id": "fe1fac09-7734-493a-a92d-5380c4b6871e",
   "metadata": {},
   "outputs": [
    {
     "data": {
      "text/html": [
       "<div>\n",
       "<style scoped>\n",
       "    .dataframe tbody tr th:only-of-type {\n",
       "        vertical-align: middle;\n",
       "    }\n",
       "\n",
       "    .dataframe tbody tr th {\n",
       "        vertical-align: top;\n",
       "    }\n",
       "\n",
       "    .dataframe thead th {\n",
       "        text-align: right;\n",
       "    }\n",
       "</style>\n",
       "<table border=\"1\" class=\"dataframe\">\n",
       "  <thead>\n",
       "    <tr style=\"text-align: right;\">\n",
       "      <th>REGION</th>\n",
       "      <th>CENTRAL</th>\n",
       "      <th>EAST</th>\n",
       "      <th>NORTH</th>\n",
       "      <th>SOUTH</th>\n",
       "      <th>WEST</th>\n",
       "    </tr>\n",
       "    <tr>\n",
       "      <th>CITY</th>\n",
       "      <th></th>\n",
       "      <th></th>\n",
       "      <th></th>\n",
       "      <th></th>\n",
       "      <th></th>\n",
       "    </tr>\n",
       "  </thead>\n",
       "  <tbody>\n",
       "    <tr>\n",
       "      <th>BHOPAL</th>\n",
       "      <td>0.34</td>\n",
       "      <td>NaN</td>\n",
       "      <td>NaN</td>\n",
       "      <td>NaN</td>\n",
       "      <td>NaN</td>\n",
       "    </tr>\n",
       "    <tr>\n",
       "      <th>CHANDIGARH</th>\n",
       "      <td>NaN</td>\n",
       "      <td>NaN</td>\n",
       "      <td>0.55</td>\n",
       "      <td>NaN</td>\n",
       "      <td>NaN</td>\n",
       "    </tr>\n",
       "    <tr>\n",
       "      <th>GURGAON</th>\n",
       "      <td>NaN</td>\n",
       "      <td>NaN</td>\n",
       "      <td>0.18</td>\n",
       "      <td>NaN</td>\n",
       "      <td>NaN</td>\n",
       "    </tr>\n",
       "    <tr>\n",
       "      <th>JAMSHEDPUR</th>\n",
       "      <td>NaN</td>\n",
       "      <td>2.33</td>\n",
       "      <td>NaN</td>\n",
       "      <td>NaN</td>\n",
       "      <td>NaN</td>\n",
       "    </tr>\n",
       "    <tr>\n",
       "      <th>MUMBAI</th>\n",
       "      <td>NaN</td>\n",
       "      <td>NaN</td>\n",
       "      <td>NaN</td>\n",
       "      <td>NaN</td>\n",
       "      <td>1.19</td>\n",
       "    </tr>\n",
       "    <tr>\n",
       "      <th>OOTY</th>\n",
       "      <td>NaN</td>\n",
       "      <td>NaN</td>\n",
       "      <td>NaN</td>\n",
       "      <td>3.28</td>\n",
       "      <td>NaN</td>\n",
       "    </tr>\n",
       "    <tr>\n",
       "      <th>PANAJI</th>\n",
       "      <td>NaN</td>\n",
       "      <td>NaN</td>\n",
       "      <td>NaN</td>\n",
       "      <td>NaN</td>\n",
       "      <td>2.33</td>\n",
       "    </tr>\n",
       "    <tr>\n",
       "      <th>PUNE</th>\n",
       "      <td>NaN</td>\n",
       "      <td>NaN</td>\n",
       "      <td>NaN</td>\n",
       "      <td>NaN</td>\n",
       "      <td>1.19</td>\n",
       "    </tr>\n",
       "  </tbody>\n",
       "</table>\n",
       "</div>"
      ],
      "text/plain": [
       "REGION      CENTRAL  EAST  NORTH  SOUTH  WEST\n",
       "CITY                                         \n",
       "BHOPAL         0.34   NaN    NaN    NaN   NaN\n",
       "CHANDIGARH      NaN   NaN   0.55    NaN   NaN\n",
       "GURGAON         NaN   NaN   0.18    NaN   NaN\n",
       "JAMSHEDPUR      NaN  2.33    NaN    NaN   NaN\n",
       "MUMBAI          NaN   NaN    NaN    NaN  1.19\n",
       "OOTY            NaN   NaN    NaN   3.28   NaN\n",
       "PANAJI          NaN   NaN    NaN    NaN  2.33\n",
       "PUNE            NaN   NaN    NaN    NaN  1.19"
      ]
     },
     "execution_count": 82,
     "metadata": {},
     "output_type": "execute_result"
    }
   ],
   "source": [
    "table = pd.crosstab(dfn['CITY'], dfn['REGION'], values=df['RAIN_MM'], aggfunc='mean')\n",
    "table"
   ]
  },
  {
   "cell_type": "markdown",
   "id": "1fa66652-9b6d-4f8e-ae1e-10627a22394c",
   "metadata": {},
   "source": [
    "# Which City is the Hottest? (Hint: plot using a graph)"
   ]
  },
  {
   "cell_type": "code",
   "execution_count": 89,
   "id": "b0032283-aa29-4d43-a6de-11d240ac1225",
   "metadata": {},
   "outputs": [
    {
     "data": {
      "text/plain": [
       "CITY\n",
       "PANAJI       50.00\n",
       "JAMSHEDPUR   39.00\n",
       "MUMBAI       35.13\n",
       "OOTY         35.13\n",
       "PUNE         35.13\n",
       "BHOPAL       28.40\n",
       "CHANDIGARH   22.40\n",
       "GURGAON      22.40\n",
       "Name: WEEK_MAX_TEMP, dtype: float64"
      ]
     },
     "execution_count": 89,
     "metadata": {},
     "output_type": "execute_result"
    }
   ],
   "source": [
    "temp = dfn.groupby(['CITY'])['WEEK_MAX_TEMP'].max().nlargest(10)\n",
    "temp"
   ]
  },
  {
   "cell_type": "code",
   "execution_count": 90,
   "id": "215bdcca-3f0d-47c3-a83b-fb4e5fbcbbee",
   "metadata": {},
   "outputs": [
    {
     "data": {
      "image/png": "[encoded data removed]",
      "text/plain": [
       "<Figure size 640x480 with 1 Axes>"
      ]
     },
     "metadata": {},
     "output_type": "display_data"
    }
   ],
   "source": [
    "sns.barplot(x=temp.values, y=temp.index)\n",
    "plt.title('Hottest Cities')\n",
    "plt.xlabel('Max Temp')\n",
    "plt.ylabel('CITY')\n",
    "plt.tight_layout()\n",
    "plt.show()"
   ]
  },
  {
   "cell_type": "markdown",
   "id": "c912ac1d-43e0-46d0-b9bb-3f3c8c2c323f",
   "metadata": {},
   "source": [
    "# Where are we seeing the maximum/ minimum shortages? (Hint: Analyze using SQC by formats)"
   ]
  },
  {
   "cell_type": "code",
   "execution_count": 96,
   "id": "cb658e68-8ae4-4521-911a-b9145f596cd4",
   "metadata": {},
   "outputs": [
    {
     "name": "stdout",
     "output_type": "stream",
     "text": [
      "the maximum shortage is in FORMAT\n",
      "MEGABOX   13.20\n",
      "Name: SHORTAGE, dtype: float64\n",
      "the minimum shortage is in FORMAT\n",
      "MEGABOX   4.80\n",
      "Name: SHORTAGE, dtype: float64\n"
     ]
    }
   ],
   "source": [
    "smax = dfn.groupby(['FORMAT'])['SHORTAGE'].max().nlargest(1)\n",
    "smin = dfn.groupby(['FORMAT'])['SHORTAGE'].min().nlargest(1)\n",
    "print(\"the maximum shortage is in\", smax)\n",
    "print(\"the minimum shortage is in\", smin)"
   ]
  },
  {
   "cell_type": "code",
   "execution_count": 108,
   "id": "5d08264c-9c3f-42a9-ae04-963f2e5d73ab",
   "metadata": {},
   "outputs": [
    {
     "data": {
      "text/html": [
       "<div>\n",
       "<style scoped>\n",
       "    .dataframe tbody tr th:only-of-type {\n",
       "        vertical-align: middle;\n",
       "    }\n",
       "\n",
       "    .dataframe tbody tr th {\n",
       "        vertical-align: top;\n",
       "    }\n",
       "\n",
       "    .dataframe thead th {\n",
       "        text-align: right;\n",
       "    }\n",
       "</style>\n",
       "<table border=\"1\" class=\"dataframe\">\n",
       "  <thead>\n",
       "    <tr style=\"text-align: right;\">\n",
       "      <th>FORMAT</th>\n",
       "      <th>MEDIUMBOX</th>\n",
       "      <th>MEGABOX</th>\n",
       "      <th>MINIBOX</th>\n",
       "    </tr>\n",
       "    <tr>\n",
       "      <th>WEEK</th>\n",
       "      <th></th>\n",
       "      <th></th>\n",
       "      <th></th>\n",
       "    </tr>\n",
       "  </thead>\n",
       "  <tbody>\n",
       "    <tr>\n",
       "      <th>1</th>\n",
       "      <td>4.33</td>\n",
       "      <td>11.30</td>\n",
       "      <td>0.53</td>\n",
       "    </tr>\n",
       "    <tr>\n",
       "      <th>2</th>\n",
       "      <td>9.13</td>\n",
       "      <td>12.10</td>\n",
       "      <td>0.57</td>\n",
       "    </tr>\n",
       "  </tbody>\n",
       "</table>\n",
       "</div>"
      ],
      "text/plain": [
       "FORMAT  MEDIUMBOX  MEGABOX  MINIBOX\n",
       "WEEK                               \n",
       "1            4.33    11.30     0.53\n",
       "2            9.13    12.10     0.57"
      ]
     },
     "execution_count": 108,
     "metadata": {},
     "output_type": "execute_result"
    }
   ],
   "source": [
    "sf = pd.crosstab(dfn['WEEK'], dfn['FORMAT'], values=dfn['SHORTAGE'], aggfunc='mean')\n",
    "sf.head(2)"
   ]
  },
  {
   "cell_type": "code",
   "execution_count": 110,
   "id": "1b557895-d243-4427-9220-2181879a49d0",
   "metadata": {},
   "outputs": [
    {
     "data": {
      "text/html": [
       "<div>\n",
       "<style scoped>\n",
       "    .dataframe tbody tr th:only-of-type {\n",
       "        vertical-align: middle;\n",
       "    }\n",
       "\n",
       "    .dataframe tbody tr th {\n",
       "        vertical-align: top;\n",
       "    }\n",
       "\n",
       "    .dataframe thead th {\n",
       "        text-align: right;\n",
       "    }\n",
       "</style>\n",
       "<table border=\"1\" class=\"dataframe\">\n",
       "  <thead>\n",
       "    <tr style=\"text-align: right;\">\n",
       "      <th>FORMAT</th>\n",
       "      <th>MEDIUMBOX</th>\n",
       "      <th>MEGABOX</th>\n",
       "      <th>MINIBOX</th>\n",
       "      <th>midm</th>\n",
       "      <th>megm</th>\n",
       "      <th>minm</th>\n",
       "      <th>UCLmid</th>\n",
       "      <th>LCLmid</th>\n",
       "      <th>UCLmeg</th>\n",
       "      <th>LCLmeg</th>\n",
       "      <th>UCLmin</th>\n",
       "      <th>LCLmin</th>\n",
       "    </tr>\n",
       "    <tr>\n",
       "      <th>WEEK</th>\n",
       "      <th></th>\n",
       "      <th></th>\n",
       "      <th></th>\n",
       "      <th></th>\n",
       "      <th></th>\n",
       "      <th></th>\n",
       "      <th></th>\n",
       "      <th></th>\n",
       "      <th></th>\n",
       "      <th></th>\n",
       "      <th></th>\n",
       "      <th></th>\n",
       "    </tr>\n",
       "  </thead>\n",
       "  <tbody>\n",
       "    <tr>\n",
       "      <th>1</th>\n",
       "      <td>4.33</td>\n",
       "      <td>11.30</td>\n",
       "      <td>0.53</td>\n",
       "      <td>6.74</td>\n",
       "      <td>11.20</td>\n",
       "      <td>0.53</td>\n",
       "      <td>11.97</td>\n",
       "      <td>1.52</td>\n",
       "      <td>16.70</td>\n",
       "      <td>5.70</td>\n",
       "      <td>0.78</td>\n",
       "      <td>0.27</td>\n",
       "    </tr>\n",
       "    <tr>\n",
       "      <th>2</th>\n",
       "      <td>9.13</td>\n",
       "      <td>12.10</td>\n",
       "      <td>0.57</td>\n",
       "      <td>6.74</td>\n",
       "      <td>11.20</td>\n",
       "      <td>0.53</td>\n",
       "      <td>11.97</td>\n",
       "      <td>1.52</td>\n",
       "      <td>16.70</td>\n",
       "      <td>5.70</td>\n",
       "      <td>0.78</td>\n",
       "      <td>0.27</td>\n",
       "    </tr>\n",
       "  </tbody>\n",
       "</table>\n",
       "</div>"
      ],
      "text/plain": [
       "FORMAT  MEDIUMBOX  MEGABOX  MINIBOX  midm  megm  minm  UCLmid  LCLmid  UCLmeg  \\\n",
       "WEEK                                                                            \n",
       "1            4.33    11.30     0.53  6.74 11.20  0.53   11.97    1.52   16.70   \n",
       "2            9.13    12.10     0.57  6.74 11.20  0.53   11.97    1.52   16.70   \n",
       "\n",
       "FORMAT  LCLmeg  UCLmin  LCLmin  \n",
       "WEEK                            \n",
       "1         5.70    0.78    0.27  \n",
       "2         5.70    0.78    0.27  "
      ]
     },
     "execution_count": 110,
     "metadata": {},
     "output_type": "execute_result"
    }
   ],
   "source": [
    "sf['midm'] = sf['MEDIUMBOX'].mean()\n",
    "sf['megm'] = sf['MEGABOX'].mean()\n",
    "sf['minm'] = sf['MINIBOX'].mean()\n",
    "stdmid = sf['MEDIUMBOX'].std()\n",
    "stdmeg = sf['MEGABOX'].std()\n",
    "stdmin = sf['MINIBOX'].std()\n",
    "#calculate UCL & LCL for MediumBox\n",
    "sf['UCLmid'] = sf['midm'] + (3 * stdmid)\n",
    "sf['LCLmid'] = sf['midm'] - (3 * stdmid)\n",
    "#calculate UCL & LCL for MegaBox\n",
    "sf['UCLmeg'] = sf['megm'] + (3 * stdmeg)\n",
    "sf['LCLmeg'] = sf['megm'] - (3 * stdmeg)\n",
    "#calculate UCL & LCL for MiniBox\n",
    "sf['UCLmin'] = sf['minm'] + (3 * stdmin)\n",
    "sf['LCLmin'] = sf['minm'] - (3 * stdmin)\n",
    "sf.head(2)"
   ]
  },
  {
   "cell_type": "code",
   "execution_count": null,
   "id": "be7eb02c-6d6c-4766-965c-10413cc79ca3",
   "metadata": {},
   "outputs": [],
   "source": [
    "sf[\"midm\"].plot()\n",
    "sf[\"MEDIUMBOX\"].plot(marker=\"o\")\n",
    "sf[\"UCLmid\"].plot()\n",
    "sf[\"LCLmid\"].plot()"
   ]
  },
  {
   "cell_type": "code",
   "execution_count": 112,
   "id": "50e873b2-036e-44f8-a192-4007b8a65bc0",
   "metadata": {},
   "outputs": [
    {
     "data": {
      "text/plain": [
       "<Axes: xlabel='WEEK'>"
      ]
     },
     "execution_count": 112,
     "metadata": {},
     "output_type": "execute_result"
    },
    {
     "data": {
      "image/png": "[encoded data removed]",
      "text/plain": [
       "<Figure size 640x480 with 1 Axes>"
      ]
     },
     "metadata": {},
     "output_type": "display_data"
    }
   ],
   "source": [
    "sf[\"megm\"].plot()\n",
    "sf[\"MEGABOX\"].plot(marker=\"o\")\n",
    "sf[\"UCLmeg\"].plot()\n",
    "sf[\"LCLmeg\"].plot()"
   ]
  },
  {
   "cell_type": "code",
   "execution_count": 113,
   "id": "2a128442-22ec-4f15-8904-1c10456a8a9b",
   "metadata": {},
   "outputs": [
    {
     "data": {
      "text/plain": [
       "<Axes: xlabel='WEEK'>"
      ]
     },
     "execution_count": 113,
     "metadata": {},
     "output_type": "execute_result"
    },
    {
     "data": {
      "image/png": "[encoded data removed]",
      "text/plain": [
       "<Figure size 640x480 with 1 Axes>"
      ]
     },
     "metadata": {},
     "output_type": "display_data"
    }
   ],
   "source": [
    "sf[\"minm\"].plot()\n",
    "sf[\"MINIBOX\"].plot(marker=\"o\")\n",
    "sf[\"UCLmin\"].plot()\n",
    "sf[\"LCLmin\"].plot()"
   ]
  },
  {
   "cell_type": "markdown",
   "id": "6773e309-6730-479a-a868-b59120e1de9d",
   "metadata": {},
   "source": [
    "# In terms of average sales, which format is better? (Hint: include Shortage in Sales)"
   ]
  },
  {
   "cell_type": "code",
   "execution_count": 115,
   "id": "8f25e57c-15ef-4c6e-be12-45c8067fff22",
   "metadata": {},
   "outputs": [
    {
     "data": {
      "text/html": [
       "<div>\n",
       "<style scoped>\n",
       "    .dataframe tbody tr th:only-of-type {\n",
       "        vertical-align: middle;\n",
       "    }\n",
       "\n",
       "    .dataframe tbody tr th {\n",
       "        vertical-align: top;\n",
       "    }\n",
       "\n",
       "    .dataframe thead th {\n",
       "        text-align: right;\n",
       "    }\n",
       "</style>\n",
       "<table border=\"1\" class=\"dataframe\">\n",
       "  <thead>\n",
       "    <tr style=\"text-align: right;\">\n",
       "      <th></th>\n",
       "      <th>YEAR</th>\n",
       "      <th>WEEK</th>\n",
       "      <th>RS_SALES</th>\n",
       "      <th>POPULATION</th>\n",
       "      <th>UNIT_SALES</th>\n",
       "      <th>Sales/ Unit</th>\n",
       "      <th>STORE_NO</th>\n",
       "      <th>SPECIAL</th>\n",
       "      <th>WEEK_MAX_TEMP</th>\n",
       "      <th>WEEK_MIN_TEMP</th>\n",
       "      <th>RAIN_MM</th>\n",
       "      <th>SHORTAGE</th>\n",
       "      <th>CITY</th>\n",
       "      <th>STATE</th>\n",
       "      <th>FORMAT</th>\n",
       "      <th>REGION</th>\n",
       "      <th>RS_SALES_NEW</th>\n",
       "    </tr>\n",
       "  </thead>\n",
       "  <tbody>\n",
       "    <tr>\n",
       "      <th>0</th>\n",
       "      <td>2016</td>\n",
       "      <td>23</td>\n",
       "      <td>155438.16</td>\n",
       "      <td>127905.30</td>\n",
       "      <td>3487.00</td>\n",
       "      <td>44.58</td>\n",
       "      <td>21006</td>\n",
       "      <td>NORMAL</td>\n",
       "      <td>19.90</td>\n",
       "      <td>16.90</td>\n",
       "      <td>1.14</td>\n",
       "      <td>4.20</td>\n",
       "      <td>BHOPAL</td>\n",
       "      <td>MADHYAPRADESH</td>\n",
       "      <td>MEDIUMBOX</td>\n",
       "      <td>CENTRAL</td>\n",
       "      <td>161966.56</td>\n",
       "    </tr>\n",
       "    <tr>\n",
       "      <th>1</th>\n",
       "      <td>2016</td>\n",
       "      <td>3</td>\n",
       "      <td>101326.24</td>\n",
       "      <td>116382.30</td>\n",
       "      <td>2738.00</td>\n",
       "      <td>37.01</td>\n",
       "      <td>21006</td>\n",
       "      <td>NORMAL</td>\n",
       "      <td>8.00</td>\n",
       "      <td>3.22</td>\n",
       "      <td>0.07</td>\n",
       "      <td>9.40</td>\n",
       "      <td>BHOPAL</td>\n",
       "      <td>MADHYAPRADESH</td>\n",
       "      <td>MEDIUMBOX</td>\n",
       "      <td>CENTRAL</td>\n",
       "      <td>110850.91</td>\n",
       "    </tr>\n",
       "  </tbody>\n",
       "</table>\n",
       "</div>"
      ],
      "text/plain": [
       "   YEAR  WEEK  RS_SALES  POPULATION  UNIT_SALES  Sales/ Unit  STORE_NO  \\\n",
       "0  2016    23 155438.16   127905.30     3487.00        44.58     21006   \n",
       "1  2016     3 101326.24   116382.30     2738.00        37.01     21006   \n",
       "\n",
       "  SPECIAL  WEEK_MAX_TEMP  WEEK_MIN_TEMP  RAIN_MM  SHORTAGE    CITY  \\\n",
       "0  NORMAL          19.90          16.90     1.14      4.20  BHOPAL   \n",
       "1  NORMAL           8.00           3.22     0.07      9.40  BHOPAL   \n",
       "\n",
       "           STATE     FORMAT   REGION  RS_SALES_NEW  \n",
       "0  MADHYAPRADESH  MEDIUMBOX  CENTRAL     161966.56  \n",
       "1  MADHYAPRADESH  MEDIUMBOX  CENTRAL     110850.91  "
      ]
     },
     "execution_count": 115,
     "metadata": {},
     "output_type": "execute_result"
    }
   ],
   "source": [
    "dfn['RS_SALES_NEW'] = dfn['RS_SALES'] + (dfn['RS_SALES'] * dfn['SHORTAGE'] / 100)\n",
    "dfn.head(2)"
   ]
  },
  {
   "cell_type": "code",
   "execution_count": 140,
   "id": "316a5d59-2603-4772-bcf5-7f88d766c10d",
   "metadata": {},
   "outputs": [
    {
     "data": {
      "text/html": [
       "<div>\n",
       "<style scoped>\n",
       "    .dataframe tbody tr th:only-of-type {\n",
       "        vertical-align: middle;\n",
       "    }\n",
       "\n",
       "    .dataframe tbody tr th {\n",
       "        vertical-align: top;\n",
       "    }\n",
       "\n",
       "    .dataframe thead th {\n",
       "        text-align: right;\n",
       "    }\n",
       "</style>\n",
       "<table border=\"1\" class=\"dataframe\">\n",
       "  <thead>\n",
       "    <tr style=\"text-align: right;\">\n",
       "      <th></th>\n",
       "      <th>SALES</th>\n",
       "      <th>SALES_SHORTAGE</th>\n",
       "    </tr>\n",
       "    <tr>\n",
       "      <th>FORMAT</th>\n",
       "      <th></th>\n",
       "      <th></th>\n",
       "    </tr>\n",
       "  </thead>\n",
       "  <tbody>\n",
       "    <tr>\n",
       "      <th>MEDIUMBOX</th>\n",
       "      <td>129715.58</td>\n",
       "      <td>138131.75</td>\n",
       "    </tr>\n",
       "    <tr>\n",
       "      <th>MEGABOX</th>\n",
       "      <td>666786.83</td>\n",
       "      <td>739425.48</td>\n",
       "    </tr>\n",
       "    <tr>\n",
       "      <th>MINIBOX</th>\n",
       "      <td>30621.60</td>\n",
       "      <td>30778.43</td>\n",
       "    </tr>\n",
       "  </tbody>\n",
       "</table>\n",
       "</div>"
      ],
      "text/plain": [
       "              SALES  SALES_SHORTAGE\n",
       "FORMAT                             \n",
       "MEDIUMBOX 129715.58       138131.75\n",
       "MEGABOX   666786.83       739425.48\n",
       "MINIBOX    30621.60        30778.43"
      ]
     },
     "execution_count": 140,
     "metadata": {},
     "output_type": "execute_result"
    }
   ],
   "source": [
    "better = pd.DataFrame({\n",
    "    'SALES' : dfn.groupby(['FORMAT'])['RS_SALES'].mean(),\n",
    "    'SALES_SHORTAGE' : dfn.groupby(['FORMAT'])['RS_SALES_NEW'].mean()\n",
    "})\n",
    "better"
   ]
  },
  {
   "cell_type": "code",
   "execution_count": 142,
   "id": "23da3b03-d3e7-4dc1-a388-25f60854387b",
   "metadata": {},
   "outputs": [
    {
     "data": {
      "text/html": [
       "<div>\n",
       "<style scoped>\n",
       "    .dataframe tbody tr th:only-of-type {\n",
       "        vertical-align: middle;\n",
       "    }\n",
       "\n",
       "    .dataframe tbody tr th {\n",
       "        vertical-align: top;\n",
       "    }\n",
       "\n",
       "    .dataframe thead th {\n",
       "        text-align: right;\n",
       "    }\n",
       "</style>\n",
       "<table border=\"1\" class=\"dataframe\">\n",
       "  <thead>\n",
       "    <tr style=\"text-align: right;\">\n",
       "      <th></th>\n",
       "      <th>SALES</th>\n",
       "      <th>SALES_SHORTAGE</th>\n",
       "      <th>DIFF</th>\n",
       "    </tr>\n",
       "    <tr>\n",
       "      <th>FORMAT</th>\n",
       "      <th></th>\n",
       "      <th></th>\n",
       "      <th></th>\n",
       "    </tr>\n",
       "  </thead>\n",
       "  <tbody>\n",
       "    <tr>\n",
       "      <th>MEDIUMBOX</th>\n",
       "      <td>129715.58</td>\n",
       "      <td>138131.75</td>\n",
       "      <td>-8416.18</td>\n",
       "    </tr>\n",
       "    <tr>\n",
       "      <th>MEGABOX</th>\n",
       "      <td>666786.83</td>\n",
       "      <td>739425.48</td>\n",
       "      <td>-72638.65</td>\n",
       "    </tr>\n",
       "    <tr>\n",
       "      <th>MINIBOX</th>\n",
       "      <td>30621.60</td>\n",
       "      <td>30778.43</td>\n",
       "      <td>-156.83</td>\n",
       "    </tr>\n",
       "  </tbody>\n",
       "</table>\n",
       "</div>"
      ],
      "text/plain": [
       "              SALES  SALES_SHORTAGE      DIFF\n",
       "FORMAT                                       \n",
       "MEDIUMBOX 129715.58       138131.75  -8416.18\n",
       "MEGABOX   666786.83       739425.48 -72638.65\n",
       "MINIBOX    30621.60        30778.43   -156.83"
      ]
     },
     "execution_count": 142,
     "metadata": {},
     "output_type": "execute_result"
    }
   ],
   "source": [
    "better['DIFF'] = better['SALES'] - better['SALES_SHORTAGE']\n",
    "better"
   ]
  },
  {
   "cell_type": "markdown",
   "id": "f0a41b9e-7a51-4b31-b4c5-0a19286aea85",
   "metadata": {},
   "source": [
    "# What is the Sales trend by weeks across formats? (Hint: plot using a graph)"
   ]
  },
  {
   "cell_type": "code",
   "execution_count": 149,
   "id": "4e0c1175-7a8d-4a0f-809f-e5fcc9718598",
   "metadata": {},
   "outputs": [
    {
     "data": {
      "text/html": [
       "<div>\n",
       "<style scoped>\n",
       "    .dataframe tbody tr th:only-of-type {\n",
       "        vertical-align: middle;\n",
       "    }\n",
       "\n",
       "    .dataframe tbody tr th {\n",
       "        vertical-align: top;\n",
       "    }\n",
       "\n",
       "    .dataframe thead th {\n",
       "        text-align: right;\n",
       "    }\n",
       "</style>\n",
       "<table border=\"1\" class=\"dataframe\">\n",
       "  <thead>\n",
       "    <tr style=\"text-align: right;\">\n",
       "      <th>FORMAT</th>\n",
       "      <th>MEDIUMBOX</th>\n",
       "      <th>MEGABOX</th>\n",
       "      <th>MINIBOX</th>\n",
       "    </tr>\n",
       "    <tr>\n",
       "      <th>WEEK</th>\n",
       "      <th></th>\n",
       "      <th></th>\n",
       "      <th></th>\n",
       "    </tr>\n",
       "  </thead>\n",
       "  <tbody>\n",
       "    <tr>\n",
       "      <th>1</th>\n",
       "      <td>567339.32</td>\n",
       "      <td>3540461.59</td>\n",
       "      <td>88145.27</td>\n",
       "    </tr>\n",
       "    <tr>\n",
       "      <th>2</th>\n",
       "      <td>296660.89</td>\n",
       "      <td>1901504.97</td>\n",
       "      <td>58168.14</td>\n",
       "    </tr>\n",
       "  </tbody>\n",
       "</table>\n",
       "</div>"
      ],
      "text/plain": [
       "FORMAT  MEDIUMBOX    MEGABOX  MINIBOX\n",
       "WEEK                                 \n",
       "1       567339.32 3540461.59 88145.27\n",
       "2       296660.89 1901504.97 58168.14"
      ]
     },
     "execution_count": 149,
     "metadata": {},
     "output_type": "execute_result"
    }
   ],
   "source": [
    "strend = pd.crosstab(dfn['WEEK'], dfn['FORMAT'], values=dfn['RS_SALES'], aggfunc='sum')\n",
    "strend.head(2)"
   ]
  },
  {
   "cell_type": "code",
   "execution_count": 150,
   "id": "db986b4a-151d-4eb6-9975-e78ea534ba30",
   "metadata": {},
   "outputs": [
    {
     "data": {
      "image/png": "[encoded data removed]",
      "text/plain": [
       "<Figure size 640x480 with 1 Axes>"
      ]
     },
     "metadata": {},
     "output_type": "display_data"
    }
   ],
   "source": [
    "sns.lineplot(data=strend, marker='o')\n",
    "plt.show()"
   ]
  },
  {
   "cell_type": "markdown",
   "id": "3d09f5d1-71e7-4b0b-84d2-e30f0bfa93f7",
   "metadata": {},
   "source": [
    "# Is Sales Correlated to any of the variables? What is influencing Sales?"
   ]
  },
  {
   "cell_type": "code",
   "execution_count": 152,
   "id": "3284b501-b50c-4720-8562-8d5ddbd79a12",
   "metadata": {},
   "outputs": [],
   "source": [
    "newdf = dfn.copy()"
   ]
  },
  {
   "cell_type": "code",
   "execution_count": 153,
   "id": "06b623c5-9a47-48c3-ae2e-e6b1617ff018",
   "metadata": {},
   "outputs": [
    {
     "data": {
      "text/plain": [
       "Index(['YEAR', 'WEEK', 'RS_SALES', 'POPULATION', 'UNIT_SALES', 'Sales/ Unit',\n",
       "       'STORE_NO', 'SPECIAL', 'WEEK_MAX_TEMP', 'WEEK_MIN_TEMP', 'RAIN_MM',\n",
       "       'SHORTAGE', 'CITY', 'STATE', 'FORMAT', 'REGION', 'RS_SALES_NEW'],\n",
       "      dtype='object')"
      ]
     },
     "execution_count": 153,
     "metadata": {},
     "output_type": "execute_result"
    }
   ],
   "source": [
    "newdf.columns"
   ]
  },
  {
   "cell_type": "code",
   "execution_count": 154,
   "id": "43fb1af3-247c-42e6-bc59-30d8446546a9",
   "metadata": {},
   "outputs": [
    {
     "data": {
      "text/plain": [
       "(416, 17)"
      ]
     },
     "execution_count": 154,
     "metadata": {},
     "output_type": "execute_result"
    }
   ],
   "source": [
    "newdf.shape"
   ]
  },
  {
   "cell_type": "code",
   "execution_count": 155,
   "id": "2c3a1c96-3e3f-42d0-8e9a-7a233b4bd48c",
   "metadata": {},
   "outputs": [
    {
     "data": {
      "text/plain": [
       "(416, 9)"
      ]
     },
     "execution_count": 155,
     "metadata": {},
     "output_type": "execute_result"
    }
   ],
   "source": [
    "inf = newdf.drop(['YEAR', 'WEEK', 'STORE_NO', 'SPECIAL', 'CITY', 'STATE', 'FORMAT', 'REGION'], axis=1)\n",
    "inf.shape"
   ]
  },
  {
   "cell_type": "code",
   "execution_count": 157,
   "id": "e44dc2d2-e203-4415-b197-459e6da96fd6",
   "metadata": {},
   "outputs": [
    {
     "data": {
      "image/png": "[encoded data removed]",
      "text/plain": [
       "<Figure size 640x480 with 2 Axes>"
      ]
     },
     "metadata": {},
     "output_type": "display_data"
    }
   ],
   "source": [
    "correl = sns.heatmap(inf.corr(numeric_only=True), cmap=\"YlGnBu\", annot=True)\n",
    "plt.show()"
   ]
  },
  {
   "cell_type": "markdown",
   "id": "867ccefc-1693-4cd3-95d9-3a2e491f0fec",
   "metadata": {},
   "source": [
    "# Comment on the performance of each store? What action should the management of each store take ?(Hint: Measures of Central Tendency, Dispersion, Shape)"
   ]
  },
  {
   "cell_type": "code",
   "execution_count": 162,
   "id": "692c5c2d-6ab8-4d4f-b7c7-8ea3f6c78576",
   "metadata": {},
   "outputs": [
    {
     "data": {
      "text/html": [
       "<div>\n",
       "<style scoped>\n",
       "    .dataframe tbody tr th:only-of-type {\n",
       "        vertical-align: middle;\n",
       "    }\n",
       "\n",
       "    .dataframe tbody tr th {\n",
       "        vertical-align: top;\n",
       "    }\n",
       "\n",
       "    .dataframe thead th {\n",
       "        text-align: right;\n",
       "    }\n",
       "</style>\n",
       "<table border=\"1\" class=\"dataframe\">\n",
       "  <thead>\n",
       "    <tr style=\"text-align: right;\">\n",
       "      <th></th>\n",
       "      <th>ct</th>\n",
       "      <th>sum</th>\n",
       "      <th>mean</th>\n",
       "      <th>sd</th>\n",
       "      <th>min</th>\n",
       "      <th>q1</th>\n",
       "      <th>mid</th>\n",
       "      <th>q3</th>\n",
       "      <th>max</th>\n",
       "      <th>ran</th>\n",
       "      <th>iqr</th>\n",
       "      <th>low</th>\n",
       "      <th>up</th>\n",
       "      <th>var</th>\n",
       "      <th>coff</th>\n",
       "      <th>skew</th>\n",
       "    </tr>\n",
       "    <tr>\n",
       "      <th>CITY</th>\n",
       "      <th></th>\n",
       "      <th></th>\n",
       "      <th></th>\n",
       "      <th></th>\n",
       "      <th></th>\n",
       "      <th></th>\n",
       "      <th></th>\n",
       "      <th></th>\n",
       "      <th></th>\n",
       "      <th></th>\n",
       "      <th></th>\n",
       "      <th></th>\n",
       "      <th></th>\n",
       "      <th></th>\n",
       "      <th></th>\n",
       "      <th></th>\n",
       "    </tr>\n",
       "  </thead>\n",
       "  <tbody>\n",
       "    <tr>\n",
       "      <th>BHOPAL</th>\n",
       "      <td>52</td>\n",
       "      <td>7168719.91</td>\n",
       "      <td>137860.00</td>\n",
       "      <td>27830.12</td>\n",
       "      <td>96272.58</td>\n",
       "      <td>116604.99</td>\n",
       "      <td>138143.60</td>\n",
       "      <td>148541.93</td>\n",
       "      <td>230053.70</td>\n",
       "      <td>133781.12</td>\n",
       "      <td>31936.94</td>\n",
       "      <td>68699.59</td>\n",
       "      <td>196447.33</td>\n",
       "      <td>774515410.46</td>\n",
       "      <td>20.19</td>\n",
       "      <td>1.18</td>\n",
       "    </tr>\n",
       "    <tr>\n",
       "      <th>CHANDIGARH</th>\n",
       "      <td>52</td>\n",
       "      <td>7421512.04</td>\n",
       "      <td>142721.39</td>\n",
       "      <td>21884.82</td>\n",
       "      <td>105652.50</td>\n",
       "      <td>127568.31</td>\n",
       "      <td>139064.03</td>\n",
       "      <td>151150.02</td>\n",
       "      <td>232387.93</td>\n",
       "      <td>126735.43</td>\n",
       "      <td>23581.71</td>\n",
       "      <td>92195.75</td>\n",
       "      <td>186522.58</td>\n",
       "      <td>478945279.85</td>\n",
       "      <td>15.33</td>\n",
       "      <td>1.80</td>\n",
       "    </tr>\n",
       "    <tr>\n",
       "      <th>GURGAON</th>\n",
       "      <td>52</td>\n",
       "      <td>5645398.17</td>\n",
       "      <td>108565.35</td>\n",
       "      <td>31100.17</td>\n",
       "      <td>73337.50</td>\n",
       "      <td>89810.31</td>\n",
       "      <td>100171.78</td>\n",
       "      <td>113935.01</td>\n",
       "      <td>208829.53</td>\n",
       "      <td>135492.03</td>\n",
       "      <td>24124.70</td>\n",
       "      <td>53623.26</td>\n",
       "      <td>150122.05</td>\n",
       "      <td>967220420.34</td>\n",
       "      <td>28.65</td>\n",
       "      <td>1.78</td>\n",
       "    </tr>\n",
       "    <tr>\n",
       "      <th>JAMSHEDPUR</th>\n",
       "      <td>52</td>\n",
       "      <td>1568081.76</td>\n",
       "      <td>30155.42</td>\n",
       "      <td>6485.24</td>\n",
       "      <td>21537.34</td>\n",
       "      <td>26886.57</td>\n",
       "      <td>28098.00</td>\n",
       "      <td>29735.55</td>\n",
       "      <td>60026.53</td>\n",
       "      <td>38489.19</td>\n",
       "      <td>2848.98</td>\n",
       "      <td>22613.11</td>\n",
       "      <td>34009.02</td>\n",
       "      <td>42058312.70</td>\n",
       "      <td>21.51</td>\n",
       "      <td>2.70</td>\n",
       "    </tr>\n",
       "    <tr>\n",
       "      <th>MUMBAI</th>\n",
       "      <td>52</td>\n",
       "      <td>34351996.83</td>\n",
       "      <td>660615.32</td>\n",
       "      <td>134966.28</td>\n",
       "      <td>521799.33</td>\n",
       "      <td>595522.70</td>\n",
       "      <td>619723.23</td>\n",
       "      <td>640444.54</td>\n",
       "      <td>1194569.89</td>\n",
       "      <td>672770.56</td>\n",
       "      <td>44921.84</td>\n",
       "      <td>528139.94</td>\n",
       "      <td>707827.30</td>\n",
       "      <td>18215897925.18</td>\n",
       "      <td>20.43</td>\n",
       "      <td>2.55</td>\n",
       "    </tr>\n",
       "    <tr>\n",
       "      <th>OOTY</th>\n",
       "      <td>52</td>\n",
       "      <td>1616564.56</td>\n",
       "      <td>31087.78</td>\n",
       "      <td>6351.35</td>\n",
       "      <td>24555.26</td>\n",
       "      <td>28024.60</td>\n",
       "      <td>29163.45</td>\n",
       "      <td>30138.57</td>\n",
       "      <td>56215.05</td>\n",
       "      <td>31659.79</td>\n",
       "      <td>2113.97</td>\n",
       "      <td>24853.64</td>\n",
       "      <td>33309.52</td>\n",
       "      <td>40339704.76</td>\n",
       "      <td>20.43</td>\n",
       "      <td>2.55</td>\n",
       "    </tr>\n",
       "    <tr>\n",
       "      <th>PANAJI</th>\n",
       "      <td>52</td>\n",
       "      <td>33321737.37</td>\n",
       "      <td>640802.64</td>\n",
       "      <td>137811.31</td>\n",
       "      <td>457668.49</td>\n",
       "      <td>571339.69</td>\n",
       "      <td>597082.47</td>\n",
       "      <td>631880.48</td>\n",
       "      <td>1275563.80</td>\n",
       "      <td>817895.31</td>\n",
       "      <td>60540.79</td>\n",
       "      <td>480528.51</td>\n",
       "      <td>722691.67</td>\n",
       "      <td>18991956833.64</td>\n",
       "      <td>21.51</td>\n",
       "      <td>2.70</td>\n",
       "    </tr>\n",
       "    <tr>\n",
       "      <th>PUNE</th>\n",
       "      <td>52</td>\n",
       "      <td>36345011.48</td>\n",
       "      <td>698942.53</td>\n",
       "      <td>197687.02</td>\n",
       "      <td>548710.89</td>\n",
       "      <td>614835.67</td>\n",
       "      <td>646564.42</td>\n",
       "      <td>674656.43</td>\n",
       "      <td>1667374.67</td>\n",
       "      <td>1118663.78</td>\n",
       "      <td>59820.76</td>\n",
       "      <td>525104.52</td>\n",
       "      <td>764387.57</td>\n",
       "      <td>39080156061.15</td>\n",
       "      <td>28.28</td>\n",
       "      <td>3.68</td>\n",
       "    </tr>\n",
       "  </tbody>\n",
       "</table>\n",
       "</div>"
      ],
      "text/plain": [
       "            ct         sum      mean        sd       min        q1       mid  \\\n",
       "CITY                                                                           \n",
       "BHOPAL      52  7168719.91 137860.00  27830.12  96272.58 116604.99 138143.60   \n",
       "CHANDIGARH  52  7421512.04 142721.39  21884.82 105652.50 127568.31 139064.03   \n",
       "GURGAON     52  5645398.17 108565.35  31100.17  73337.50  89810.31 100171.78   \n",
       "JAMSHEDPUR  52  1568081.76  30155.42   6485.24  21537.34  26886.57  28098.00   \n",
       "MUMBAI      52 34351996.83 660615.32 134966.28 521799.33 595522.70 619723.23   \n",
       "OOTY        52  1616564.56  31087.78   6351.35  24555.26  28024.60  29163.45   \n",
       "PANAJI      52 33321737.37 640802.64 137811.31 457668.49 571339.69 597082.47   \n",
       "PUNE        52 36345011.48 698942.53 197687.02 548710.89 614835.67 646564.42   \n",
       "\n",
       "                  q3        max        ran      iqr       low        up  \\\n",
       "CITY                                                                      \n",
       "BHOPAL     148541.93  230053.70  133781.12 31936.94  68699.59 196447.33   \n",
       "CHANDIGARH 151150.02  232387.93  126735.43 23581.71  92195.75 186522.58   \n",
       "GURGAON    113935.01  208829.53  135492.03 24124.70  53623.26 150122.05   \n",
       "JAMSHEDPUR  29735.55   60026.53   38489.19  2848.98  22613.11  34009.02   \n",
       "MUMBAI     640444.54 1194569.89  672770.56 44921.84 528139.94 707827.30   \n",
       "OOTY        30138.57   56215.05   31659.79  2113.97  24853.64  33309.52   \n",
       "PANAJI     631880.48 1275563.80  817895.31 60540.79 480528.51 722691.67   \n",
       "PUNE       674656.43 1667374.67 1118663.78 59820.76 525104.52 764387.57   \n",
       "\n",
       "                      var  coff  skew  \n",
       "CITY                                   \n",
       "BHOPAL       774515410.46 20.19  1.18  \n",
       "CHANDIGARH   478945279.85 15.33  1.80  \n",
       "GURGAON      967220420.34 28.65  1.78  \n",
       "JAMSHEDPUR    42058312.70 21.51  2.70  \n",
       "MUMBAI     18215897925.18 20.43  2.55  \n",
       "OOTY          40339704.76 20.43  2.55  \n",
       "PANAJI     18991956833.64 21.51  2.70  \n",
       "PUNE       39080156061.15 28.28  3.68  "
      ]
     },
     "execution_count": 162,
     "metadata": {},
     "output_type": "execute_result"
    }
   ],
   "source": [
    "pr = pd.DataFrame({\n",
    "    'ct' : dfn.groupby(['CITY'])['RS_SALES'].count(),\n",
    "    'sum' : dfn.groupby(['CITY'])['RS_SALES'].sum(),\n",
    "    'mean' : dfn.groupby(['CITY'])['RS_SALES'].mean(),\n",
    "    'sd' : dfn.groupby(['CITY'])['RS_SALES'].std(),\n",
    "    'min' : dfn.groupby(['CITY'])['RS_SALES'].min(),\n",
    "    'q1' : dfn.groupby(['CITY'])['RS_SALES'].quantile(0.25),\n",
    "    'mid' : dfn.groupby(['CITY'])['RS_SALES'].median(),\n",
    "    'q3' : dfn.groupby(['CITY'])['RS_SALES'].quantile(0.75),\n",
    "    'max' : dfn.groupby(['CITY'])['RS_SALES'].max(),\n",
    "    'ran' : dfn.groupby(['CITY'])['RS_SALES'].max() - dfn.groupby(['CITY'])['RS_SALES'].min(),\n",
    "    'iqr' : dfn.groupby(['CITY'])['RS_SALES'].quantile(0.75) - dfn.groupby(['CITY'])['RS_SALES'].quantile(0.25),\n",
    "    'low' : dfn.groupby(['CITY'])['RS_SALES'].quantile(0.25) - (1.5 * (dfn.groupby(['CITY'])['RS_SALES'].quantile(0.75) - dfn.groupby(['CITY'])['RS_SALES'].quantile(0.25))),\n",
    "    'up' : dfn.groupby(['CITY'])['RS_SALES'].quantile(0.75) + (1.5 * (dfn.groupby(['CITY'])['RS_SALES'].quantile(0.75) - dfn.groupby(['CITY'])['RS_SALES'].quantile(0.25))),\n",
    "    'var' : dfn.groupby(['CITY'])['RS_SALES'].var(),\n",
    "    'coff' : dfn.groupby(['CITY'])['RS_SALES'].std() / dfn.groupby(['CITY'])['RS_SALES'].mean() * 100,\n",
    "    'skew' : dfn.groupby(['CITY'])['RS_SALES'].skew(),\n",
    "    #'kurt' : dfn.groupby(['CITY'])['RS_SALES'].kurtosis()\n",
    "})\n",
    "pr"
   ]
  },
  {
   "cell_type": "code",
   "execution_count": null,
   "id": "1ed5fb24-717c-4803-bc24-f2dfad06c502",
   "metadata": {},
   "outputs": [],
   "source": []
  }
 ],
 "metadata": {
  "kernelspec": {
   "display_name": "Python [conda env:base] *",
   "language": "python",
   "name": "conda-base-py"
  },
  "language_info": {
   "codemirror_mode": {
    "name": "ipython",
    "version": 3
   },
   "file_extension": ".py",
   "mimetype": "text/x-python",
   "name": "python",
   "nbconvert_exporter": "python",
   "pygments_lexer": "ipython3",
   "version": "3.12.7"
  }
 },
 "nbformat": 4,
 "nbformat_minor": 5
}
